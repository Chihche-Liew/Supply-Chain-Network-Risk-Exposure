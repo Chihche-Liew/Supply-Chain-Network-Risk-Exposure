{
 "cells": [
  {
   "cell_type": "code",
   "execution_count": 1,
   "metadata": {
    "collapsed": true
   },
   "outputs": [
    {
     "name": "stdout",
     "output_type": "stream",
     "text": [
      "Loading library list...\n",
      "Done\n"
     ]
    },
    {
     "data": {
      "text/plain": "<duckdb.DuckDBPyConnection at 0x14fd9658b70>"
     },
     "execution_count": 1,
     "metadata": {},
     "output_type": "execute_result"
    }
   ],
   "source": [
    "import pandas as pd\n",
    "import dask.dataframe as dd\n",
    "from tqdm.notebook import tqdm\n",
    "import numpy as np\n",
    "import datetime as dt\n",
    "import duckdb\n",
    "import wrds\n",
    "import cleanco\n",
    "import Levenshtein\n",
    "import multiprocessing\n",
    "from fuzzywuzzy import fuzz\n",
    "from fuzzywuzzy import process\n",
    "db = wrds.Connection(wrds_username='lzy2lzz')\n",
    "duckdb.default_connection.execute(\"SET GLOBAL pandas_analyze_sample=100000\")"
   ]
  },
  {
   "cell_type": "code",
   "execution_count": 3,
   "outputs": [],
   "source": [
    "# factset_sc = pd.read_stata('./factset_revere_companies/revere_relationships_2003-2023.dta')\n",
    "# factset_sc = factset_sc.loc[(factset_sc['rel_type'] == 'CUSTOMER') | (factset_sc['rel_type'] == 'SUPPLIER')]\n",
    "# factset_sc.to_csv('./supply_chain/factset_sc.csv', index=False)"
   ],
   "metadata": {
    "collapsed": false
   }
  },
  {
   "cell_type": "code",
   "execution_count": 4,
   "outputs": [
    {
     "name": "stderr",
     "output_type": "stream",
     "text": [
      "C:\\Users\\Silas Liew\\AppData\\Local\\Temp\\ipykernel_36236\\90765530.py:1: DtypeWarning: Columns (6,12,30,31,32) have mixed types. Specify dtype option on import or set low_memory=False.\n",
      "  factset_sc = pd.read_csv('./supply_chain/factset_sc.csv')\n"
     ]
    }
   ],
   "source": [
    "factset_sc = pd.read_csv('./supply_chain/factset_sc.csv')\n",
    "factset_sc = factset_sc[['start_', 'end_', 'rel_type', 'SOURCE_name', 'source_company_id', 'SOURCE_cusip', 'SOURCE_isin', 'TARGET_name', 'target_company_id', 'TARGET_cusip', 'TARGET_isin']]\n",
    "factset_sc.loc[factset_sc['end_'] == '4000-01-01 00:00:00', 'end_'] = dt.date(2023, 12, 31)\n",
    "factset_sc['end_'] = pd.to_datetime(factset_sc['end_'])\n",
    "factset_sc['start_'] = pd.to_datetime(factset_sc['start_'])\n",
    "# factset_sc['start_year'] = factset_sc.start_.dt.year\n",
    "# factset_sc['start_quarter'] = factset_sc.start_.dt.quarter\n",
    "# factset_sc['end_year'] = factset_sc.end_.dt.year\n",
    "# factset_sc['end_quarter'] = factset_sc.end_.dt.quarter"
   ],
   "metadata": {
    "collapsed": false
   }
  },
  {
   "cell_type": "code",
   "execution_count": 5,
   "outputs": [
    {
     "name": "stderr",
     "output_type": "stream",
     "text": [
      "C:\\Users\\Silas Liew\\AppData\\Local\\Temp\\ipykernel_36236\\1048653308.py:22: FutureWarning: The pandas.np module is deprecated and will be removed from pandas in a future version. Import numpy directly instead.\n",
      "  sc['date'] = pd.np.select([sc['quarter'] == 1,\n"
     ]
    }
   ],
   "source": [
    "sc = pd.DataFrame()\n",
    "sc['source_company_id'] = factset_sc['source_company_id'].drop_duplicates()\n",
    "sc['lnk'] = 1\n",
    "year = pd.DataFrame(\n",
    "    {'year': range(2003, 2024)}\n",
    ")\n",
    "year['lnk'] = 1\n",
    "sc = sc.merge(year,\n",
    "              how='left',\n",
    "              on='lnk')\n",
    "\n",
    "quarter = pd.DataFrame(\n",
    "    {'quarter': [1, 2, 3, 4],\n",
    "     'lnk': [1, 1, 1, 1]}\n",
    ")\n",
    "sc = sc.merge(quarter,\n",
    "              how='left',\n",
    "              on='lnk')\n",
    "del year\n",
    "del quarter\n",
    "del sc['lnk']\n",
    "sc['date'] = pd.np.select([sc['quarter'] == 1,\n",
    "                           sc['quarter'] == 2,\n",
    "                           sc['quarter'] == 3,\n",
    "                           sc['quarter'] == 4],\n",
    "                          ['3-31', '6-30', '9-30', '12-31'])\n",
    "sc['date'] = sc.apply(lambda x: str(x['year']) + '-' + x['date'], axis=1)\n",
    "sc['date'] = pd.to_datetime(sc['date'])"
   ],
   "metadata": {
    "collapsed": false
   }
  },
  {
   "cell_type": "code",
   "execution_count": 6,
   "outputs": [],
   "source": [
    "sc = duckdb.query(\"\"\"\n",
    "SELECT a.*, b.*\n",
    "FROM sc as a\n",
    "LEFT JOIN factset_sc as b\n",
    "ON a.source_company_id = b.source_company_id and a.date >= b.start_ and a.date <= b.end_\n",
    "\"\"\").df()\n",
    "sc = sc.drop(['source_company_id_2', 'start_', 'end_'], axis=1)\n",
    "sc = sc.loc[sc['target_company_id'].notna()]\n",
    "sc['SOURCE_cusip'] = sc['SOURCE_cusip'].str[:8]\n",
    "sc['TARGET_cusip'] = sc['TARGET_cusip'].str[:8]\n",
    "sc = sc.loc[((sc['SOURCE_cusip'].notna()) | (sc['SOURCE_name'].notna()) | (sc['SOURCE_isin'].notna())) &\n",
    "            ((sc['TARGET_cusip'].notna()) | (sc['TARGET_name'].notna()) | (sc['TARGET_isin'].notna())) ]\n",
    "sc['SOURCE_name'] = sc['SOURCE_name'].apply(lambda x: cleanco.basename(x.lower()))\n",
    "sc['TARGET_name'] = sc['TARGET_name'].apply(lambda x: cleanco.basename(x.lower()))\n",
    "supplier = sc.loc[sc['rel_type'] == 'SUPPLIER']\n",
    "customer = sc.loc[sc['rel_type'] == 'CUSTOMER']"
   ],
   "metadata": {
    "collapsed": false
   }
  },
  {
   "cell_type": "code",
   "execution_count": 7,
   "outputs": [],
   "source": [
    "# ccmxpf_link = db.get_table(library='crsp', table='ccmxpf_linktable')\n",
    "# fscrsp_link = db.get_table(library='wrdsapps', table='fscrsplink')\n",
    "# fscrsp_link = pd.read_csv('./supply_chain/wrdsapps_link_crsp_factset.csv', encoding='ISO8859-1')"
   ],
   "metadata": {
    "collapsed": false
   }
  },
  {
   "cell_type": "code",
   "execution_count": 8,
   "outputs": [],
   "source": [
    "supplier_cusip = supplier.loc[(supplier['SOURCE_cusip'].notna()) & (supplier['TARGET_cusip'].notna())]\n",
    "supplier = supplier.drop(supplier_cusip.index)\n",
    "supplier_isin = supplier.loc[(supplier['SOURCE_isin'].notna()) & (supplier['TARGET_isin'].notna())]\n",
    "supplier = supplier.drop(supplier_isin.index)\n",
    "supplier_ticker = supplier.loc[(supplier['SOURCE_name'].notna()) & (supplier['TARGET_name'].notna())]\n",
    "supplier = supplier.drop(supplier_ticker.index)\n",
    "\n",
    "customer_cusip = customer.loc[(customer['SOURCE_cusip'].notna()) & (customer['TARGET_cusip'].notna())]\n",
    "customer = customer.drop(customer_cusip.index)\n",
    "customer_isin = customer.loc[(customer['SOURCE_isin'].notna()) & (customer['TARGET_isin'].notna())]\n",
    "customer = customer.drop(customer_isin.index)\n",
    "customer_ticker = customer.loc[(customer['SOURCE_name'].notna()) & (customer['TARGET_name'].notna())]\n",
    "customer = customer.drop(customer_ticker.index)"
   ],
   "metadata": {
    "collapsed": false
   }
  },
  {
   "cell_type": "code",
   "execution_count": 9,
   "outputs": [],
   "source": [
    "cik_compustat = pd.read_csv('./supply_chain/cik_compustat.csv')\n",
    "company_dir_names = pd.read_csv('./supply_chain/wrds_company_dir_names.csv')"
   ],
   "metadata": {
    "collapsed": false
   }
  },
  {
   "cell_type": "code",
   "execution_count": 10,
   "outputs": [],
   "source": [
    "supplier_cusip = duckdb.query(\"\"\"\n",
    "SELECT a.*, b.gvkey, b.CUSIPH, b.cik, b.FNDATE, b.LNDATE\n",
    "FROM supplier_cusip as a\n",
    "LEFT JOIN cik_compustat as b\n",
    "ON a.SOURCE_cusip = b.CUSIPH and a.date <= b.LNDATE and a.date >= b.FNDATE\n",
    "\"\"\").df()\n",
    "supplier_cusip = supplier_cusip.drop(['CUSIPH', 'FNDATE', 'LNDATE', 'cik'], axis=1)\n",
    "supplier_cusip = supplier_cusip.rename(columns={'gvkey': 'SOURCE_gvkey'})\n",
    "supplier_cusip = duckdb.query(\"\"\"\n",
    "SELECT a.*, b.gvkey, b.CUSIPH, b.cik, b.FNDATE, b.LNDATE\n",
    "FROM supplier_cusip as a\n",
    "LEFT JOIN cik_compustat as b\n",
    "ON a.TARGET_cusip = b.CUSIPH and a.date <= b.LNDATE and a.date >= b.FNDATE\n",
    "\"\"\").df()\n",
    "supplier_cusip = supplier_cusip.drop(['CUSIPH', 'FNDATE', 'LNDATE', 'cik'], axis=1)\n",
    "supplier_cusip = supplier_cusip.rename(columns={'gvkey': 'TARGET_gvkey'})"
   ],
   "metadata": {
    "collapsed": false
   }
  },
  {
   "cell_type": "code",
   "execution_count": 11,
   "outputs": [],
   "source": [
    "supplier_isin = duckdb.query(\"\"\"\n",
    "SELECT a.*, b.isin, b.cikcode\n",
    "FROM supplier_isin as a\n",
    "LEFT JOIN company_dir_names as b\n",
    "ON a.SOURCE_isin = b.isin\n",
    "\"\"\").df()\n",
    "supplier_isin = duckdb.query(\"\"\"\n",
    "SELECT a.*, b.gvkey, b.cik, b.FNDATE, b.LNDATE\n",
    "FROM supplier_isin as a\n",
    "LEFT JOIN cik_compustat as b\n",
    "ON a.cikcode = b.cik and a.date <= b.LNDATE and a.date >= b.FNDATE\n",
    "\"\"\").df()\n",
    "supplier_isin = supplier_isin.drop(['isin', 'cikcode', 'FNDATE', 'LNDATE', 'cik'], axis=1)\n",
    "supplier_isin = supplier_isin.rename(columns={'gvkey': 'SOURCE_gvkey'})\n",
    "\n",
    "supplier_isin = duckdb.query(\"\"\"\n",
    "SELECT a.*, b.isin, b.cikcode\n",
    "FROM supplier_isin as a\n",
    "LEFT JOIN company_dir_names as b\n",
    "ON a.TARGET_isin = b.isin\n",
    "\"\"\").df()\n",
    "supplier_isin = duckdb.query(\"\"\"\n",
    "SELECT a.*, b.gvkey, b.cik, b.FNDATE, b.LNDATE\n",
    "FROM supplier_isin as a\n",
    "LEFT JOIN cik_compustat as b\n",
    "ON a.cikcode = b.cik and a.date <= b.LNDATE and a.date >= b.FNDATE\n",
    "\"\"\").df()\n",
    "supplier_isin = supplier_isin.drop(['isin', 'cikcode', 'FNDATE', 'LNDATE', 'cik'], axis=1)\n",
    "supplier_isin = supplier_isin.rename(columns={'gvkey': 'TARGET_gvkey'})"
   ],
   "metadata": {
    "collapsed": false
   }
  },
  {
   "cell_type": "code",
   "execution_count": 12,
   "outputs": [],
   "source": [
    "customer_cusip = duckdb.query(\"\"\"\n",
    "SELECT a.*, b.gvkey, b.CUSIPH, b.cik, b.FNDATE, b.LNDATE\n",
    "FROM customer_cusip as a\n",
    "LEFT JOIN cik_compustat as b\n",
    "ON a.SOURCE_cusip = b.CUSIPH and a.date <= b.LNDATE and a.date >= b.FNDATE\n",
    "\"\"\").df()\n",
    "customer_cusip = customer_cusip.drop(['CUSIPH', 'FNDATE', 'LNDATE', 'cik'], axis=1)\n",
    "customer_cusip = customer_cusip.rename(columns={'gvkey': 'SOURCE_gvkey'})\n",
    "customer_cusip = duckdb.query(\"\"\"\n",
    "SELECT a.*, b.gvkey, b.CUSIPH, b.cik, b.FNDATE, b.LNDATE\n",
    "FROM customer_cusip as a\n",
    "LEFT JOIN cik_compustat as b\n",
    "ON a.TARGET_cusip = b.CUSIPH and a.date <= b.LNDATE and a.date >= b.FNDATE\n",
    "\"\"\").df()\n",
    "customer_cusip = customer_cusip.drop(['CUSIPH', 'FNDATE', 'LNDATE', 'cik'], axis=1)\n",
    "customer_cusip = customer_cusip.rename(columns={'gvkey': 'TARGET_gvkey'})"
   ],
   "metadata": {
    "collapsed": false
   }
  },
  {
   "cell_type": "code",
   "execution_count": 13,
   "outputs": [],
   "source": [
    "customer_isin = duckdb.query(\"\"\"\n",
    "SELECT a.*, b.isin, b.cikcode\n",
    "FROM customer_isin as a\n",
    "LEFT JOIN company_dir_names as b\n",
    "ON a.SOURCE_isin = b.isin\n",
    "\"\"\").df()\n",
    "customer_isin = duckdb.query(\"\"\"\n",
    "SELECT a.*, b.gvkey, b.cik, b.FNDATE, b.LNDATE\n",
    "FROM customer_isin as a\n",
    "LEFT JOIN cik_compustat as b\n",
    "ON a.cikcode = b.cik and a.date <= b.LNDATE and a.date >= b.FNDATE\n",
    "\"\"\").df()\n",
    "customer_isin = customer_isin.drop(['isin', 'cikcode', 'FNDATE', 'LNDATE', 'cik'], axis=1)\n",
    "customer_isin = customer_isin.rename(columns={'gvkey': 'SOURCE_gvkey'})\n",
    "\n",
    "customer_isin = duckdb.query(\"\"\"\n",
    "SELECT a.*, b.isin, b.cikcode\n",
    "FROM customer_isin as a\n",
    "LEFT JOIN company_dir_names as b\n",
    "ON a.TARGET_isin = b.isin\n",
    "\"\"\").df()\n",
    "customer_isin = duckdb.query(\"\"\"\n",
    "SELECT a.*, b.gvkey, b.cik, b.FNDATE, b.LNDATE\n",
    "FROM customer_isin as a\n",
    "LEFT JOIN cik_compustat as b\n",
    "ON a.cikcode = b.cik and a.date <= b.LNDATE and a.date >= b.FNDATE\n",
    "\"\"\").df()\n",
    "customer_isin = customer_isin.drop(['isin', 'cikcode', 'FNDATE', 'LNDATE', 'cik'], axis=1)\n",
    "customer_isin = customer_isin.rename(columns={'gvkey': 'TARGET_gvkey'})"
   ],
   "metadata": {
    "collapsed": false
   }
  },
  {
   "cell_type": "code",
   "execution_count": 14,
   "outputs": [],
   "source": [
    "cik_compustat['coname'] = cik_compustat['coname'].astype(str).apply(lambda x: cleanco.basename(x.lower()))"
   ],
   "metadata": {
    "collapsed": false
   }
  },
  {
   "cell_type": "code",
   "execution_count": 5,
   "outputs": [],
   "source": [
    "pol_covid = pd.read_stata('./risk_exposure/08_all_scores/pol_covid.dta')\n",
    "cc = pd.read_csv('./risk_exposure/08_all_scores/cc_scores.csv')\n",
    "linktable_name = pd.read_csv('./linktables/cik_compustat_name.csv')"
   ],
   "metadata": {
    "collapsed": false
   }
  },
  {
   "cell_type": "code",
   "execution_count": 34,
   "outputs": [
    {
     "data": {
      "text/plain": "  0%|          | 0/15139 [00:00<?, ?it/s]",
      "application/vnd.jupyter.widget-view+json": {
       "version_major": 2,
       "version_minor": 0,
       "model_id": "8968dc67717a46728c57c3a112849b69"
      }
     },
     "metadata": {},
     "output_type": "display_data"
    }
   ],
   "source": [
    "linktable_name = cik_compustat.loc[cik_compustat['gvkey'].isin(pd.concat([pol_covid['gvkey'], cc['gvkey']]).drop_duplicates().dropna())].drop_duplicates()\n",
    "\n",
    "\n",
    "def fuzzy_match(name, names):\n",
    "    names = pd.DataFrame(names)\n",
    "    names['name_start'] = str(name)[:1]\n",
    "    names['name_start'].astype(str)\n",
    "    names['start'] = names['name'].apply(lambda x: str(x)[:1])\n",
    "    names['start'] = names['start'].astype(str)\n",
    "    names_same_startswith = names.loc[names['start'] == names['name_start'], 'name']\n",
    "    return process.extractBests(name, names_same_startswith, scorer=fuzz.token_set_ratio, score_cutoff=90)\n",
    "\n",
    "\n",
    "names = pd.concat([supplier_ticker['SOURCE_name'], supplier_ticker['TARGET_name'], customer_ticker['SOURCE_name'], customer_ticker['TARGET_name']]).drop_duplicates().dropna()\n",
    "names = pd.DataFrame(names)\n",
    "names = names.rename(columns={0: 'name'})\n",
    "names['name'] = names['name'].astype(str)\n",
    "name = linktable_name['coname'].astype(str)\n",
    "tqdm.pandas()\n",
    "linktable_name['coname'] = linktable_name['coname'].progress_apply(lambda x: fuzzy_match(x, names))\n",
    "\n",
    "\n",
    "def extract_best_match(name):\n",
    "    try:\n",
    "        return name[0][0]\n",
    "    except IndexError:\n",
    "        return np.nan\n",
    "\n",
    "\n",
    "linktable_name['coname'] = linktable_name['coname'].progress_apply(lambda x: extract_best_match(x))"
   ],
   "metadata": {
    "collapsed": false
   }
  },
  {
   "cell_type": "code",
   "execution_count": 17,
   "outputs": [],
   "source": [
    "supplier_ticker = supplier_ticker.drop_duplicates()\n",
    "customer_ticker = customer_ticker.drop_duplicates()"
   ],
   "metadata": {
    "collapsed": false
   }
  },
  {
   "cell_type": "code",
   "execution_count": 19,
   "outputs": [],
   "source": [
    "linktable_name = linktable_name[['coname', 'gvkey', 'LNDATE', 'FNDATE']].drop_duplicates().dropna()"
   ],
   "metadata": {
    "collapsed": false
   }
  },
  {
   "cell_type": "code",
   "execution_count": 22,
   "outputs": [],
   "source": [
    "supplier_ticker = duckdb.query(\"\"\"\n",
    "SELECT a.*, b.coname, b.gvkey, b.LNDATE, b.FNDATE\n",
    "FROM supplier_ticker as a\n",
    "LEFT JOIN linktable_name as b\n",
    "ON a.SOURCE_name = b.coname and a.date <= b.LNDATE and a.date >= b.FNDATE\n",
    "\"\"\").df()\n",
    "supplier_ticker = supplier_ticker.drop(['coname', 'FNDATE', 'LNDATE'], axis=1)\n",
    "supplier_ticker = supplier_ticker.rename(columns={'gvkey': 'SOURCE_gvkey'})\n",
    "supplier_ticker = duckdb.query(\"\"\"\n",
    "SELECT a.*, b.coname, b.gvkey, b.LNDATE, b.FNDATE\n",
    "FROM supplier_ticker as a\n",
    "LEFT JOIN linktable_name as b\n",
    "ON a.TARGET_name = b.coname and a.date <= b.LNDATE and a.date >= b.FNDATE\n",
    "\"\"\").df()\n",
    "supplier_ticker = supplier_ticker.drop(['coname', 'FNDATE', 'LNDATE'], axis=1)\n",
    "supplier_ticker = supplier_ticker.rename(columns={'gvkey': 'TARGET_gvkey'})\n",
    "\n",
    "customer_ticker = duckdb.query(\"\"\"\n",
    "SELECT a.*, b.coname, b.gvkey, b.LNDATE, b.FNDATE\n",
    "FROM customer_ticker as a\n",
    "LEFT JOIN linktable_name as b\n",
    "ON a.SOURCE_name = b.coname and a.date <= b.LNDATE and a.date >= b.FNDATE\n",
    "\"\"\").df()\n",
    "customer_ticker = customer_ticker.drop(['coname', 'FNDATE', 'LNDATE'], axis=1)\n",
    "customer_ticker = customer_ticker.rename(columns={'gvkey': 'SOURCE_gvkey'})\n",
    "\n",
    "customer_ticker = duckdb.query(\"\"\"\n",
    "SELECT a.*, b.coname, b.gvkey, b.LNDATE, b.FNDATE\n",
    "FROM customer_ticker as a\n",
    "LEFT JOIN linktable_name as b\n",
    "ON a.TARGET_name = b.coname and a.date <= b.LNDATE and a.date >= b.FNDATE\n",
    "\"\"\").df()\n",
    "customer_ticker = customer_ticker.drop(['coname', 'FNDATE', 'LNDATE'], axis=1)\n",
    "customer_ticker = customer_ticker.rename(columns={'gvkey': 'TARGET_gvkey'})"
   ],
   "metadata": {
    "collapsed": false
   }
  },
  {
   "cell_type": "code",
   "execution_count": 29,
   "outputs": [],
   "source": [
    "supplier_cusip = supplier_cusip.loc[(supplier_cusip['SOURCE_gvkey'].notna()) & (supplier_cusip['TARGET_gvkey'].notna())]\n",
    "customer_cusip = customer_cusip.loc[(customer_cusip['SOURCE_gvkey'].notna()) & (customer_cusip['TARGET_gvkey'].notna())]\n",
    "supplier_isin = supplier_isin.loc[(supplier_isin['SOURCE_gvkey'].notna()) & (supplier_isin['TARGET_gvkey'].notna())]\n",
    "customer_isin = customer_isin.loc[(customer_cusip['SOURCE_gvkey'].notna()) & (customer_isin['TARGET_gvkey'].notna())]\n",
    "supplier_ticker = supplier_ticker.loc[(supplier_ticker['SOURCE_gvkey'].notna()) & (supplier_ticker['TARGET_gvkey'].notna())]\n",
    "customer_ticker = customer_ticker.loc[(customer_ticker['SOURCE_gvkey'].notna()) & (customer_ticker['TARGET_gvkey'].notna())]\n",
    "supplier = pd.concat([supplier_cusip, supplier_isin, supplier_ticker])\n",
    "customer = pd.concat([customer_cusip, customer_isin, customer_ticker])\n",
    "supplier = supplier.drop_duplicates()\n",
    "customer = customer.drop_duplicates()\n",
    "supplier.to_csv('./factset_revere_companies/fs_supplier.csv', index=False)\n",
    "customer.to_csv('./factset_revere_companies/fs_customer.csv', index=False)"
   ],
   "metadata": {
    "collapsed": false
   }
  },
  {
   "cell_type": "code",
   "execution_count": 3,
   "outputs": [],
   "source": [
    "supplier = supplier[['SOURCE_gvkey', 'TARGET_gvkey', 'year', 'quarter']]\n",
    "supplier.columns = ['firm_gvkey', 'supplier_gvkey', 'year', 'quarter']\n",
    "customer = customer[['SOURCE_gvkey', 'TARGET_gvkey', 'year', 'quarter']]\n",
    "customer.columns = ['firm_gvkey', 'customer_gvkey', 'year', 'quarter']"
   ],
   "metadata": {
    "collapsed": false
   }
  },
  {
   "cell_type": "code",
   "execution_count": 6,
   "outputs": [
    {
     "name": "stderr",
     "output_type": "stream",
     "text": [
      "C:\\Users\\Silas Liew\\AppData\\Local\\Temp\\ipykernel_11132\\3741961639.py:4: FutureWarning: The pandas.np module is deprecated and will be removed from pandas in a future version. Import numpy directly instead.\n",
      "  pol_covid['quarter'] = pd.np.select([(pol_covid['month'] <= 3) & (pol_covid['month'] >= 1),\n"
     ]
    }
   ],
   "source": [
    "pol_covid['date'] = pd.to_datetime(pol_covid['date'])\n",
    "pol_covid['year'] = pol_covid.date.dt.year\n",
    "pol_covid['month'] = pol_covid.date.dt.month\n",
    "pol_covid['quarter'] = pd.np.select([(pol_covid['month'] <= 3) & (pol_covid['month'] >= 1),\n",
    "                                     (pol_covid['month'] <= 6) & (pol_covid['month'] >= 4),\n",
    "                                     (pol_covid['month'] <= 9) & (pol_covid['month'] >= 7),\n",
    "                                     (pol_covid['month'] <= 12) & (pol_covid['month'] >= 10)],\n",
    "                                    [1, 2, 3, 4])\n",
    "pol_covid = pol_covid[['gvkey', 'year', 'quarter', 'Risk', 'Covid_Exposure']]\n",
    "cc = cc[['gvkey', 'year', 'quarter', 'cc_expo_ew']]"
   ],
   "metadata": {
    "collapsed": false
   }
  },
  {
   "cell_type": "code",
   "execution_count": 7,
   "outputs": [],
   "source": [
    "pol_agg = pd.DataFrame()\n",
    "covid_agg = pd.DataFrame()\n",
    "cc_agg = pd.DataFrame()\n",
    "pol_agg['pol'] = pol_covid.groupby(['gvkey', 'year', 'quarter'])['Risk'].mean()\n",
    "covid_agg['covid'] = pol_covid.groupby(['gvkey', 'year', 'quarter'])['Covid_Exposure'].mean()\n",
    "cc_agg['cc'] = cc.groupby(['gvkey', 'year', 'quarter'])['cc_expo_ew'].mean()\n",
    "pol_agg = pol_agg.reset_index()\n",
    "covid_agg = covid_agg.reset_index()\n",
    "cc_agg = cc_agg.reset_index()\n",
    "pol_agg['gvkey'] = pol_agg['gvkey'].astype(float)\n",
    "covid_agg['gvkey'] = covid_agg['gvkey'].astype(float)\n",
    "cc_agg['gvkey'] = cc_agg['gvkey'].astype(float)"
   ],
   "metadata": {
    "collapsed": false
   }
  },
  {
   "cell_type": "code",
   "execution_count": 8,
   "outputs": [],
   "source": [
    "supplier = supplier.merge(pol_agg,\n",
    "                          how='left',\n",
    "                          left_on=['firm_gvkey', 'year', 'quarter'],\n",
    "                          right_on=['gvkey', 'year', 'quarter'])\n",
    "supplier = supplier.drop(['gvkey'], axis=1)\n",
    "supplier = supplier.merge(covid_agg,\n",
    "                          how='left',\n",
    "                          left_on=['firm_gvkey', 'year', 'quarter'],\n",
    "                          right_on=['gvkey', 'year', 'quarter'])\n",
    "supplier = supplier.drop(['gvkey'], axis=1)\n",
    "supplier = supplier.merge(cc_agg,\n",
    "                          how='left',\n",
    "                          left_on=['firm_gvkey', 'year', 'quarter'],\n",
    "                          right_on=['gvkey', 'year', 'quarter'])\n",
    "supplier = supplier.drop(['gvkey'], axis=1)\n",
    "supplier = supplier.rename(columns={'pol': 'firm_pol',\n",
    "                                    'covid': 'firm_covid',\n",
    "                                    'cc': 'firm_cc'})\n",
    "\n",
    "\n",
    "supplier = supplier.merge(pol_agg,\n",
    "                          how='left',\n",
    "                          left_on=['supplier_gvkey', 'year', 'quarter'],\n",
    "                          right_on=['gvkey', 'year', 'quarter'])\n",
    "supplier = supplier.drop(['gvkey'], axis=1)\n",
    "supplier = supplier.merge(covid_agg,\n",
    "                          how='left',\n",
    "                          left_on=['supplier_gvkey', 'year', 'quarter'],\n",
    "                          right_on=['gvkey', 'year', 'quarter'])\n",
    "supplier = supplier.drop(['gvkey'], axis=1)\n",
    "supplier = supplier.merge(cc_agg,\n",
    "                          how='left',\n",
    "                          left_on=['supplier_gvkey', 'year', 'quarter'],\n",
    "                          right_on=['gvkey', 'year', 'quarter'])\n",
    "supplier = supplier.drop(['gvkey'], axis=1)\n",
    "supplier = supplier.rename(columns={'pol': 'supplier_pol',\n",
    "                                    'covid': 'supplier_covid',\n",
    "                                    'cc': 'supplier_cc'})\n",
    "\n",
    "\n",
    "supplier = supplier.drop_duplicates()\n",
    "supplier = supplier[supplier['year'] >= 2006]"
   ],
   "metadata": {
    "collapsed": false
   }
  },
  {
   "cell_type": "code",
   "execution_count": 9,
   "outputs": [],
   "source": [
    "customer = customer.merge(pol_agg,\n",
    "                          how='left',\n",
    "                          left_on=['firm_gvkey', 'year', 'quarter'],\n",
    "                          right_on=['gvkey', 'year', 'quarter'])\n",
    "customer = customer.drop(['gvkey'], axis=1)\n",
    "customer = customer.merge(covid_agg,\n",
    "                          how='left',\n",
    "                          left_on=['firm_gvkey', 'year', 'quarter'],\n",
    "                          right_on=['gvkey', 'year', 'quarter'])\n",
    "customer = customer.drop(['gvkey'], axis=1)\n",
    "customer = customer.merge(cc_agg,\n",
    "                          how='left',\n",
    "                          left_on=['firm_gvkey', 'year', 'quarter'],\n",
    "                          right_on=['gvkey', 'year', 'quarter'])\n",
    "customer = customer.drop(['gvkey'], axis=1)\n",
    "customer = customer.rename(columns={'pol': 'firm_pol',\n",
    "                                    'covid': 'firm_covid',\n",
    "                                    'cc': 'firm_cc'})\n",
    "\n",
    "\n",
    "customer = customer.merge(pol_agg,\n",
    "                          how='left',\n",
    "                          left_on=['customer_gvkey', 'year', 'quarter'],\n",
    "                          right_on=['gvkey', 'year', 'quarter'])\n",
    "customer = customer.drop(['gvkey'], axis=1)\n",
    "customer = customer.merge(covid_agg,\n",
    "                          how='left',\n",
    "                          left_on=['customer_gvkey', 'year', 'quarter'],\n",
    "                          right_on=['gvkey', 'year', 'quarter'])\n",
    "customer = customer.drop(['gvkey'], axis=1)\n",
    "customer = customer.merge(cc_agg,\n",
    "                          how='left',\n",
    "                          left_on=['customer_gvkey', 'year', 'quarter'],\n",
    "                          right_on=['gvkey', 'year', 'quarter'])\n",
    "customer = customer.drop(['gvkey'], axis=1)\n",
    "customer = customer.rename(columns={'pol': 'customer_pol',\n",
    "                                    'covid': 'customer_covid',\n",
    "                                    'cc': 'customer_cc'})\n",
    "\n",
    "\n",
    "customer = customer.drop_duplicates()\n",
    "customer = customer[customer['year'] >= 2006]"
   ],
   "metadata": {
    "collapsed": false
   }
  },
  {
   "cell_type": "code",
   "execution_count": 10,
   "outputs": [],
   "source": [
    "supplier = supplier.dropna(subset=['firm_pol', 'firm_covid', 'firm_cc'])\n",
    "customer = customer.dropna(subset=['firm_pol', 'firm_covid', 'firm_cc'])"
   ],
   "metadata": {
    "collapsed": false
   }
  },
  {
   "cell_type": "code",
   "execution_count": 11,
   "outputs": [],
   "source": [
    "supplier['larger_supplier_pol'] = np.where(supplier['supplier_pol'] > supplier['firm_pol'], 1, 0)\n",
    "supplier['larger_supplier_covid'] = np.where(supplier['supplier_covid'] > supplier['firm_covid'], 1, 0)\n",
    "supplier['larger_supplier_cc'] = np.where(supplier['supplier_cc'] > supplier['firm_cc'], 1, 0)\n",
    "customer['larger_customer_pol'] = np.where(customer['customer_pol'] > customer['firm_pol'], 1, 0)\n",
    "customer['larger_customer_covid'] = np.where(customer['customer_covid'] > customer['firm_covid'], 1, 0)\n",
    "customer['larger_customer_cc'] = np.where(customer['customer_cc'] > customer['firm_cc'], 1, 0)"
   ],
   "metadata": {
    "collapsed": false
   }
  },
  {
   "cell_type": "code",
   "execution_count": 12,
   "outputs": [],
   "source": [
    "supplier.to_csv('./factset_revere_companies/fs_supplier.csv', index=False)\n",
    "customer.to_csv('./factset_revere_companies/fs_customer.csv', index=False)"
   ],
   "metadata": {
    "collapsed": false
   }
  },
  {
   "cell_type": "code",
   "execution_count": 38,
   "outputs": [],
   "source": [
    "larger_supplier_pol_prop = pd.DataFrame()\n",
    "larger_supplier_pol_prop['prop'] = supplier.groupby(['year', 'quarter']).apply(lambda x: x.loc[x['larger_supplier_pol'] == 1, 'firm_gvkey'].nunique() / x['firm_gvkey'].nunique())\n",
    "larger_supplier_pol_prop['firm_count'] = supplier.groupby(['year', 'quarter'])['firm_gvkey'].nunique()\n",
    "larger_supplier_covid_prop = pd.DataFrame()\n",
    "larger_supplier_covid_prop['prop'] = supplier.groupby(['year', 'quarter']).apply(lambda x: x.loc[x['larger_supplier_covid'] == 1, 'firm_gvkey'].nunique() / x['firm_gvkey'].nunique())\n",
    "larger_supplier_covid_prop['firm_count'] = supplier.groupby(['year', 'quarter'])['firm_gvkey'].nunique()\n",
    "larger_supplier_cc_prop = pd.DataFrame()\n",
    "larger_supplier_cc_prop['prop'] = supplier.groupby(['year', 'quarter']).apply(lambda x: x.loc[x['larger_supplier_cc'] == 1, 'firm_gvkey'].nunique() / x['firm_gvkey'].nunique())\n",
    "larger_supplier_cc_prop['firm_count'] = supplier.groupby(['year', 'quarter'])['firm_gvkey'].nunique()\n",
    "larger_customer_pol_prop = pd.DataFrame()\n",
    "larger_customer_pol_prop['prop'] = customer.groupby(['year', 'quarter']).apply(lambda x: x.loc[x['larger_customer_pol'] == 1, 'firm_gvkey'].nunique() / x['firm_gvkey'].nunique())\n",
    "larger_customer_pol_prop['firm_count'] = customer.groupby(['year', 'quarter'])['firm_gvkey'].nunique()\n",
    "larger_customer_covid_prop = pd.DataFrame()\n",
    "larger_customer_covid_prop['prop'] = customer.groupby(['year', 'quarter']).apply(lambda x: x.loc[x['larger_customer_covid'] == 1, 'firm_gvkey'].nunique() / x['firm_gvkey'].nunique())\n",
    "larger_customer_covid_prop['firm_count'] = customer.groupby(['year', 'quarter'])['firm_gvkey'].nunique()\n",
    "larger_customer_cc_prop = pd.DataFrame()\n",
    "larger_customer_cc_prop['prop'] = customer.groupby(['year', 'quarter']).apply(lambda x: x.loc[x['larger_customer_cc'] == 1, 'firm_gvkey'].nunique() / x['firm_gvkey'].nunique())\n",
    "larger_customer_cc_prop['firm_count'] = customer.groupby(['year', 'quarter'])['firm_gvkey'].nunique()"
   ],
   "metadata": {
    "collapsed": false
   }
  },
  {
   "cell_type": "code",
   "execution_count": 39,
   "outputs": [
    {
     "name": "stderr",
     "output_type": "stream",
     "text": [
      "C:\\Users\\Silas Liew\\AppData\\Local\\Temp\\ipykernel_36236\\811183472.py:8: FutureWarning: save is not part of the public API, usage can give unexpected results and will be removed in a future version\n",
      "  wr.save()\n"
     ]
    }
   ],
   "source": [
    "wr = pd.ExcelWriter('./transcripts/scores/props_fs.xlsx')\n",
    "larger_customer_pol_prop.to_excel(wr, sheet_name='larger_customer_pol_prop_fs')\n",
    "larger_customer_covid_prop.to_excel(wr, sheet_name='larger_customer_covid_prop_fs')\n",
    "larger_customer_cc_prop.to_excel(wr, sheet_name='larger_customer_cc_prop_fs')\n",
    "larger_supplier_pol_prop.to_excel(wr, sheet_name='larger_supplier_pol_prop_fs')\n",
    "larger_supplier_covid_prop.to_excel(wr, sheet_name='larger_supplier_covid_prop_fs')\n",
    "larger_supplier_cc_prop.to_excel(wr, sheet_name='larger_supplier_cc_prop_fs')\n",
    "wr.save()"
   ],
   "metadata": {
    "collapsed": false
   }
  },
  {
   "cell_type": "code",
   "execution_count": 2,
   "outputs": [],
   "source": [
    "supplier = pd.read_csv('./factset_revere_companies/fs_supplier.csv')\n",
    "customer = pd.read_csv('./factset_revere_companies/fs_customer.csv')"
   ],
   "metadata": {
    "collapsed": false
   }
  },
  {
   "cell_type": "code",
   "execution_count": 3,
   "outputs": [],
   "source": [
    "supplier = supplier.dropna()\n",
    "equal_weighted_first_degree_supplier_score = pd.DataFrame()\n",
    "equal_weighted_first_degree_supplier_score['ewfdsc_pol'] = supplier.groupby(['firm_gvkey', 'year', 'quarter'])['supplier_pol'].mean()\n",
    "equal_weighted_first_degree_supplier_score['ewfdsc_covid'] = supplier.groupby(['firm_gvkey', 'year', 'quarter'])['supplier_covid'].mean()\n",
    "equal_weighted_first_degree_supplier_score['ewfdsc_cc'] = supplier.groupby(['firm_gvkey', 'year', 'quarter'])['supplier_cc'].mean()\n",
    "equal_weighted_first_degree_supplier_score = equal_weighted_first_degree_supplier_score.reset_index()\n",
    "customer = customer.dropna()\n",
    "equal_weighted_first_degree_customer_score = pd.DataFrame()\n",
    "equal_weighted_first_degree_customer_score['ewfdcc_pol'] = customer.groupby(['firm_gvkey', 'year', 'quarter'])['customer_pol'].mean()\n",
    "equal_weighted_first_degree_customer_score['ewfdcc_covid'] = customer.groupby(['firm_gvkey', 'year', 'quarter'])['customer_covid'].mean()\n",
    "equal_weighted_first_degree_customer_score['ewfdcc_cc'] = customer.groupby(['firm_gvkey', 'year', 'quarter'])['customer_cc'].mean()\n",
    "equal_weighted_first_degree_customer_score = equal_weighted_first_degree_customer_score.reset_index()"
   ],
   "metadata": {
    "collapsed": false
   }
  },
  {
   "cell_type": "code",
   "execution_count": 23,
   "outputs": [],
   "source": [
    "equal_weighted_second_degree_supplier_score = supplier[['firm_gvkey', 'supplier_gvkey', 'year', 'quarter']]\n",
    "equal_weighted_second_degree_supplier_score = equal_weighted_second_degree_supplier_score.merge(equal_weighted_first_degree_supplier_score,\n",
    "                                                                                                left_on=['supplier_gvkey', 'year', 'quarter'],\n",
    "                                                                                                right_on=['firm_gvkey', 'year', 'quarter'],\n",
    "                                                                                                how='left')\n",
    "equal_weighted_second_degree_supplier_score.drop(['firm_gvkey_y', 'supplier_gvkey'], axis=1, inplace=True)\n",
    "equal_weighted_second_degree_supplier_score.dropna(inplace=True)\n",
    "equal_weighted_second_degree_supplier_score.rename({'firm_gvkey_x': 'firm_gvkey',\n",
    "                                                    'ewfdsc_pol': 'ewsdsc_pol',\n",
    "                                                    'ewfdsc_covid': 'ewsdsc_covid',\n",
    "                                                    'ewfdsc_cc': 'ewsdsc_cc'},\n",
    "                                                   axis='columns',\n",
    "                                                   inplace=True)\n",
    "equal_weighted_second_degree_supplier_score = equal_weighted_second_degree_supplier_score.groupby(['firm_gvkey', 'year', 'quarter']).mean().reset_index()\n",
    "equal_weighted_second_degree_customer_score = customer[['firm_gvkey', 'customer_gvkey', 'year', 'quarter']]\n",
    "equal_weighted_second_degree_customer_score = equal_weighted_second_degree_customer_score.merge(equal_weighted_first_degree_customer_score,\n",
    "                                                                                                left_on=['customer_gvkey', 'year', 'quarter'],\n",
    "                                                                                                right_on=['firm_gvkey', 'year', 'quarter'],\n",
    "                                                                                                how='left')\n",
    "equal_weighted_second_degree_customer_score.drop(['firm_gvkey_y', 'customer_gvkey'], axis=1, inplace=True)\n",
    "equal_weighted_second_degree_customer_score.dropna(inplace=True)\n",
    "equal_weighted_second_degree_customer_score.rename({'firm_gvkey_x': 'firm_gvkey',\n",
    "                                                    'ewfdcc_pol': 'ewsdcc_pol',\n",
    "                                                    'ewfdcc_covid': 'ewsdcc_covid',\n",
    "                                                    'ewfdcc_cc': 'ewsdcc_cc'},\n",
    "                                                   axis='columns',\n",
    "                                                   inplace=True)\n",
    "equal_weighted_second_degree_customer_score = equal_weighted_second_degree_customer_score.groupby(['firm_gvkey', 'year', 'quarter']).mean().reset_index()"
   ],
   "metadata": {
    "collapsed": false
   }
  },
  {
   "cell_type": "code",
   "execution_count": 22,
   "outputs": [],
   "source": [
    "equal_weighted_third_degree_supplier_score = supplier[['firm_gvkey', 'supplier_gvkey', 'year', 'quarter']]\n",
    "equal_weighted_third_degree_supplier_score = equal_weighted_third_degree_supplier_score.merge(equal_weighted_third_degree_supplier_score,\n",
    "                                                                                              left_on=['supplier_gvkey', 'year', 'quarter'],\n",
    "                                                                                              right_on=['firm_gvkey', 'year', 'quarter'],\n",
    "                                                                                              how='left')\n",
    "equal_weighted_third_degree_supplier_score.drop('firm_gvkey_y', axis=1, inplace=True)\n",
    "equal_weighted_third_degree_supplier_score.rename({'firm_gvkey_x': 'firm_gvkey',\n",
    "                                                   'supplier_gvkey_x': 'supplier_gvkey',\n",
    "                                                   'supplier_gvkey_y': 'second_supplier_gvkey'},\n",
    "                                                  axis='columns',\n",
    "                                                  inplace=True)\n",
    "equal_weighted_third_degree_supplier_score = equal_weighted_third_degree_supplier_score.merge(equal_weighted_first_degree_supplier_score,\n",
    "                                                                                              left_on=['second_supplier_gvkey', 'year', 'quarter'],\n",
    "                                                                                              right_on=['firm_gvkey', 'year', 'quarter'],\n",
    "                                                                                              how='left')\n",
    "equal_weighted_third_degree_supplier_score.drop(['firm_gvkey_y', 'supplier_gvkey', 'second_supplier_gvkey'], axis=1, inplace=True)\n",
    "equal_weighted_third_degree_supplier_score.rename({'firm_gvkey_x': 'firm_gvkey',\n",
    "                                                   'ewfdsc_pol': 'ewtdsc_pol',\n",
    "                                                   'ewfdsc_covid': 'ewtdsc_covid',\n",
    "                                                   'ewfdsc_cc': 'ewtdsc_cc'},\n",
    "                                                  axis='columns',\n",
    "                                                  inplace=True)\n",
    "equal_weighted_third_degree_supplier_score = equal_weighted_third_degree_supplier_score.groupby(['firm_gvkey', 'year', 'quarter']).mean().reset_index()"
   ],
   "metadata": {
    "collapsed": false
   }
  },
  {
   "cell_type": "code",
   "execution_count": 24,
   "outputs": [],
   "source": [
    "equal_weighted_third_degree_customer_score = customer[['firm_gvkey', 'customer_gvkey', 'year', 'quarter']]\n",
    "equal_weighted_third_degree_customer_score = equal_weighted_third_degree_customer_score.merge(equal_weighted_third_degree_customer_score,\n",
    "                                                                                              left_on=['customer_gvkey', 'year', 'quarter'],\n",
    "                                                                                              right_on=['firm_gvkey', 'year', 'quarter'],\n",
    "                                                                                              how='left')\n",
    "equal_weighted_third_degree_customer_score.drop('firm_gvkey_y', axis=1, inplace=True)\n",
    "equal_weighted_third_degree_customer_score.rename({'firm_gvkey_x': 'firm_gvkey',\n",
    "                                                   'customer_gvkey_x': 'customer_gvkey',\n",
    "                                                   'customer_gvkey_y': 'second_customer_gvkey'},\n",
    "                                                  axis='columns',\n",
    "                                                  inplace=True)\n",
    "equal_weighted_third_degree_customer_score = equal_weighted_third_degree_customer_score.merge(equal_weighted_first_degree_customer_score,\n",
    "                                                                                              left_on=['second_customer_gvkey', 'year', 'quarter'],\n",
    "                                                                                              right_on=['firm_gvkey', 'year', 'quarter'],\n",
    "                                                                                              how='left')\n",
    "equal_weighted_third_degree_customer_score.drop(['firm_gvkey_y', 'customer_gvkey', 'second_customer_gvkey'], axis=1, inplace=True)\n",
    "equal_weighted_third_degree_customer_score.rename({'firm_gvkey_x': 'firm_gvkey',\n",
    "                                                   'ewfdcc_pol': 'ewtdcc_pol',\n",
    "                                                   'ewfdcc_covid': 'ewtdcc_covid',\n",
    "                                                   'ewfdcc_cc': 'ewtdcc_cc'},\n",
    "                                                  axis='columns',\n",
    "                                                  inplace=True)\n",
    "equal_weighted_third_degree_customer_score = equal_weighted_third_degree_customer_score.groupby(['firm_gvkey', 'year', 'quarter']).mean().reset_index()"
   ],
   "metadata": {
    "collapsed": false
   }
  },
  {
   "cell_type": "code",
   "execution_count": 25,
   "outputs": [],
   "source": [
    "firm = pd.concat([supplier[['firm_gvkey', 'year', 'quarter', 'firm_pol', 'firm_covid', 'firm_cc']], customer[['firm_gvkey', 'year', 'quarter', 'firm_pol', 'firm_covid', 'firm_cc']]]).drop_duplicates()\n",
    "firm = firm.merge(equal_weighted_first_degree_supplier_score,\n",
    "                  on=['firm_gvkey', 'year', 'quarter'],\n",
    "                  how='left')\n",
    "firm = firm.drop_duplicates()\n",
    "firm = firm.merge(equal_weighted_first_degree_customer_score,\n",
    "                  on=['firm_gvkey', 'year', 'quarter'],\n",
    "                  how='left')\n",
    "firm = firm.drop_duplicates()\n",
    "firm = firm.merge(equal_weighted_second_degree_supplier_score,\n",
    "                  on=['firm_gvkey', 'year', 'quarter'],\n",
    "                  how='left')\n",
    "firm = firm.drop_duplicates()\n",
    "firm = firm.merge(equal_weighted_second_degree_customer_score,\n",
    "                  on=['firm_gvkey', 'year', 'quarter'],\n",
    "                  how='left')\n",
    "firm = firm.drop_duplicates()\n",
    "firm = firm.merge(equal_weighted_third_degree_supplier_score,\n",
    "                  on=['firm_gvkey', 'year', 'quarter'],\n",
    "                  how='left')\n",
    "firm = firm.drop_duplicates()\n",
    "firm = firm.merge(equal_weighted_third_degree_customer_score,\n",
    "                  on=['firm_gvkey', 'year', 'quarter'],\n",
    "                  how='left')\n",
    "firm = firm.drop_duplicates()"
   ],
   "metadata": {
    "collapsed": false
   }
  },
  {
   "cell_type": "code",
   "execution_count": 112,
   "outputs": [],
   "source": [
    "firm.to_csv('./factset_revere_companies/fs_firm.csv')"
   ],
   "metadata": {
    "collapsed": false
   }
  },
  {
   "cell_type": "code",
   "execution_count": 39,
   "outputs": [
    {
     "data": {
      "text/plain": "        firm_gvkey  year  quarter    firm_pol  firm_covid   firm_cc  \\\n0         145046.0  2013        1   96.212718         0.0  0.001013   \n1         145046.0  2013        2  257.870420         0.0  0.000296   \n2         145046.0  2013        3   93.840642         0.0  0.000000   \n3         145046.0  2013        4  186.852387         0.0  0.000253   \n4         145046.0  2014        1  253.004428         0.0  0.000305   \n...            ...   ...      ...         ...         ...       ...   \n105174    150937.0  2017        3   39.231071         0.0  0.000000   \n105175    150937.0  2017        4    0.000000         0.0  0.000000   \n105176    150937.0  2018        1   19.477990         0.0  0.000000   \n105177    150937.0  2018        2   68.760028         0.0  0.000000   \n105178    150937.0  2015        4   19.619384         0.0  0.000000   \n\n        ewfdsc_pol  ewfdsc_covid  ewfdsc_cc  ewfdcc_pol  ...  ewsdsc_cc  \\\n0       131.154656           0.0   0.000347         NaN  ...   0.000235   \n1        58.801941           0.0   0.000139         NaN  ...   0.000189   \n2        61.305987           0.0   0.000148         NaN  ...   0.000361   \n3       121.115069           0.0   0.000395         NaN  ...   0.000259   \n4       107.707777           0.0   0.000365         NaN  ...   0.000000   \n...            ...           ...        ...         ...  ...        ...   \n105174         NaN           NaN        NaN   30.732685  ...        NaN   \n105175         NaN           NaN        NaN   28.063186  ...        NaN   \n105176         NaN           NaN        NaN   10.911075  ...        NaN   \n105177         NaN           NaN        NaN   29.783578  ...        NaN   \n105178         NaN           NaN        NaN   26.927498  ...        NaN   \n\n        ewsdcc_pol  ewsdcc_covid  ewsdcc_cc  ewtdsc_pol  ewtdsc_covid  \\\n0              NaN           NaN        NaN   51.091684           0.0   \n1              NaN           NaN        NaN   51.690993           0.0   \n2              NaN           NaN        NaN   40.050634           0.0   \n3              NaN           NaN        NaN   46.665124           0.0   \n4              NaN           NaN        NaN   80.122200           0.0   \n...            ...           ...        ...         ...           ...   \n105174   42.435508           0.0   0.000434         NaN           NaN   \n105175   10.782834           0.0   0.000000         NaN           NaN   \n105176   10.292301           0.0   0.000000         NaN           NaN   \n105177   73.015542           0.0   0.000317         NaN           NaN   \n105178   49.612545           0.0   0.001685         NaN           NaN   \n\n        ewtdsc_cc  ewtdcc_pol  ewtdcc_covid  ewtdcc_cc  \n0        0.001002         NaN           NaN        NaN  \n1        0.000960         NaN           NaN        NaN  \n2        0.000961         NaN           NaN        NaN  \n3        0.001343         NaN           NaN        NaN  \n4        0.001203         NaN           NaN        NaN  \n...           ...         ...           ...        ...  \n105174        NaN   64.757376           0.0   0.002453  \n105175        NaN   46.493160           0.0   0.000570  \n105176        NaN   44.130043           0.0   0.000790  \n105177        NaN   63.610574           0.0   0.000933  \n105178        NaN   50.284270           0.0   0.000570  \n\n[68106 rows x 24 columns]",
      "text/html": "<div>\n<style scoped>\n    .dataframe tbody tr th:only-of-type {\n        vertical-align: middle;\n    }\n\n    .dataframe tbody tr th {\n        vertical-align: top;\n    }\n\n    .dataframe thead th {\n        text-align: right;\n    }\n</style>\n<table border=\"1\" class=\"dataframe\">\n  <thead>\n    <tr style=\"text-align: right;\">\n      <th></th>\n      <th>firm_gvkey</th>\n      <th>year</th>\n      <th>quarter</th>\n      <th>firm_pol</th>\n      <th>firm_covid</th>\n      <th>firm_cc</th>\n      <th>ewfdsc_pol</th>\n      <th>ewfdsc_covid</th>\n      <th>ewfdsc_cc</th>\n      <th>ewfdcc_pol</th>\n      <th>...</th>\n      <th>ewsdsc_cc</th>\n      <th>ewsdcc_pol</th>\n      <th>ewsdcc_covid</th>\n      <th>ewsdcc_cc</th>\n      <th>ewtdsc_pol</th>\n      <th>ewtdsc_covid</th>\n      <th>ewtdsc_cc</th>\n      <th>ewtdcc_pol</th>\n      <th>ewtdcc_covid</th>\n      <th>ewtdcc_cc</th>\n    </tr>\n  </thead>\n  <tbody>\n    <tr>\n      <th>0</th>\n      <td>145046.0</td>\n      <td>2013</td>\n      <td>1</td>\n      <td>96.212718</td>\n      <td>0.0</td>\n      <td>0.001013</td>\n      <td>131.154656</td>\n      <td>0.0</td>\n      <td>0.000347</td>\n      <td>NaN</td>\n      <td>...</td>\n      <td>0.000235</td>\n      <td>NaN</td>\n      <td>NaN</td>\n      <td>NaN</td>\n      <td>51.091684</td>\n      <td>0.0</td>\n      <td>0.001002</td>\n      <td>NaN</td>\n      <td>NaN</td>\n      <td>NaN</td>\n    </tr>\n    <tr>\n      <th>1</th>\n      <td>145046.0</td>\n      <td>2013</td>\n      <td>2</td>\n      <td>257.870420</td>\n      <td>0.0</td>\n      <td>0.000296</td>\n      <td>58.801941</td>\n      <td>0.0</td>\n      <td>0.000139</td>\n      <td>NaN</td>\n      <td>...</td>\n      <td>0.000189</td>\n      <td>NaN</td>\n      <td>NaN</td>\n      <td>NaN</td>\n      <td>51.690993</td>\n      <td>0.0</td>\n      <td>0.000960</td>\n      <td>NaN</td>\n      <td>NaN</td>\n      <td>NaN</td>\n    </tr>\n    <tr>\n      <th>2</th>\n      <td>145046.0</td>\n      <td>2013</td>\n      <td>3</td>\n      <td>93.840642</td>\n      <td>0.0</td>\n      <td>0.000000</td>\n      <td>61.305987</td>\n      <td>0.0</td>\n      <td>0.000148</td>\n      <td>NaN</td>\n      <td>...</td>\n      <td>0.000361</td>\n      <td>NaN</td>\n      <td>NaN</td>\n      <td>NaN</td>\n      <td>40.050634</td>\n      <td>0.0</td>\n      <td>0.000961</td>\n      <td>NaN</td>\n      <td>NaN</td>\n      <td>NaN</td>\n    </tr>\n    <tr>\n      <th>3</th>\n      <td>145046.0</td>\n      <td>2013</td>\n      <td>4</td>\n      <td>186.852387</td>\n      <td>0.0</td>\n      <td>0.000253</td>\n      <td>121.115069</td>\n      <td>0.0</td>\n      <td>0.000395</td>\n      <td>NaN</td>\n      <td>...</td>\n      <td>0.000259</td>\n      <td>NaN</td>\n      <td>NaN</td>\n      <td>NaN</td>\n      <td>46.665124</td>\n      <td>0.0</td>\n      <td>0.001343</td>\n      <td>NaN</td>\n      <td>NaN</td>\n      <td>NaN</td>\n    </tr>\n    <tr>\n      <th>4</th>\n      <td>145046.0</td>\n      <td>2014</td>\n      <td>1</td>\n      <td>253.004428</td>\n      <td>0.0</td>\n      <td>0.000305</td>\n      <td>107.707777</td>\n      <td>0.0</td>\n      <td>0.000365</td>\n      <td>NaN</td>\n      <td>...</td>\n      <td>0.000000</td>\n      <td>NaN</td>\n      <td>NaN</td>\n      <td>NaN</td>\n      <td>80.122200</td>\n      <td>0.0</td>\n      <td>0.001203</td>\n      <td>NaN</td>\n      <td>NaN</td>\n      <td>NaN</td>\n    </tr>\n    <tr>\n      <th>...</th>\n      <td>...</td>\n      <td>...</td>\n      <td>...</td>\n      <td>...</td>\n      <td>...</td>\n      <td>...</td>\n      <td>...</td>\n      <td>...</td>\n      <td>...</td>\n      <td>...</td>\n      <td>...</td>\n      <td>...</td>\n      <td>...</td>\n      <td>...</td>\n      <td>...</td>\n      <td>...</td>\n      <td>...</td>\n      <td>...</td>\n      <td>...</td>\n      <td>...</td>\n      <td>...</td>\n    </tr>\n    <tr>\n      <th>105174</th>\n      <td>150937.0</td>\n      <td>2017</td>\n      <td>3</td>\n      <td>39.231071</td>\n      <td>0.0</td>\n      <td>0.000000</td>\n      <td>NaN</td>\n      <td>NaN</td>\n      <td>NaN</td>\n      <td>30.732685</td>\n      <td>...</td>\n      <td>NaN</td>\n      <td>42.435508</td>\n      <td>0.0</td>\n      <td>0.000434</td>\n      <td>NaN</td>\n      <td>NaN</td>\n      <td>NaN</td>\n      <td>64.757376</td>\n      <td>0.0</td>\n      <td>0.002453</td>\n    </tr>\n    <tr>\n      <th>105175</th>\n      <td>150937.0</td>\n      <td>2017</td>\n      <td>4</td>\n      <td>0.000000</td>\n      <td>0.0</td>\n      <td>0.000000</td>\n      <td>NaN</td>\n      <td>NaN</td>\n      <td>NaN</td>\n      <td>28.063186</td>\n      <td>...</td>\n      <td>NaN</td>\n      <td>10.782834</td>\n      <td>0.0</td>\n      <td>0.000000</td>\n      <td>NaN</td>\n      <td>NaN</td>\n      <td>NaN</td>\n      <td>46.493160</td>\n      <td>0.0</td>\n      <td>0.000570</td>\n    </tr>\n    <tr>\n      <th>105176</th>\n      <td>150937.0</td>\n      <td>2018</td>\n      <td>1</td>\n      <td>19.477990</td>\n      <td>0.0</td>\n      <td>0.000000</td>\n      <td>NaN</td>\n      <td>NaN</td>\n      <td>NaN</td>\n      <td>10.911075</td>\n      <td>...</td>\n      <td>NaN</td>\n      <td>10.292301</td>\n      <td>0.0</td>\n      <td>0.000000</td>\n      <td>NaN</td>\n      <td>NaN</td>\n      <td>NaN</td>\n      <td>44.130043</td>\n      <td>0.0</td>\n      <td>0.000790</td>\n    </tr>\n    <tr>\n      <th>105177</th>\n      <td>150937.0</td>\n      <td>2018</td>\n      <td>2</td>\n      <td>68.760028</td>\n      <td>0.0</td>\n      <td>0.000000</td>\n      <td>NaN</td>\n      <td>NaN</td>\n      <td>NaN</td>\n      <td>29.783578</td>\n      <td>...</td>\n      <td>NaN</td>\n      <td>73.015542</td>\n      <td>0.0</td>\n      <td>0.000317</td>\n      <td>NaN</td>\n      <td>NaN</td>\n      <td>NaN</td>\n      <td>63.610574</td>\n      <td>0.0</td>\n      <td>0.000933</td>\n    </tr>\n    <tr>\n      <th>105178</th>\n      <td>150937.0</td>\n      <td>2015</td>\n      <td>4</td>\n      <td>19.619384</td>\n      <td>0.0</td>\n      <td>0.000000</td>\n      <td>NaN</td>\n      <td>NaN</td>\n      <td>NaN</td>\n      <td>26.927498</td>\n      <td>...</td>\n      <td>NaN</td>\n      <td>49.612545</td>\n      <td>0.0</td>\n      <td>0.001685</td>\n      <td>NaN</td>\n      <td>NaN</td>\n      <td>NaN</td>\n      <td>50.284270</td>\n      <td>0.0</td>\n      <td>0.000570</td>\n    </tr>\n  </tbody>\n</table>\n<p>68106 rows × 24 columns</p>\n</div>"
     },
     "execution_count": 39,
     "metadata": {},
     "output_type": "execute_result"
    }
   ],
   "source": [
    "firm.loc[(firm['ewfdsc_pol'].notna() | firm['ewfdcc_pol'].notna()) & (firm['ewsdcc_pol'].notna() | firm['ewsdsc_pol'].notna()) & (firm['ewtdcc_pol'].notna() | firm['ewtdsc_pol'].notna())]"
   ],
   "metadata": {
    "collapsed": false
   }
  },
  {
   "cell_type": "code",
   "execution_count": 51,
   "outputs": [],
   "source": [
    "sc_link = pd.concat([supplier[['firm_gvkey', 'year', 'quarter']], customer[['firm_gvkey', 'year', 'quarter']]]).drop_duplicates()\n",
    "sc_link = sc_link.merge(supplier[['firm_gvkey', 'supplier_gvkey', 'year', 'quarter']],\n",
    "                        on=['firm_gvkey', 'year', 'quarter'],\n",
    "                        how='left')\n",
    "sc_link.rename({'supplier_gvkey': '1_degree_supplier'}, axis=1, inplace=True)\n",
    "sc_link.drop_duplicates(inplace=True)\n",
    "sc_link = sc_link.merge(supplier[['firm_gvkey', 'supplier_gvkey', 'year', 'quarter']],\n",
    "                        left_on=['1_degree_supplier', 'year', 'quarter'],\n",
    "                        right_on=['firm_gvkey', 'year', 'quarter'],\n",
    "                        how='left')\n",
    "sc_link.drop('firm_gvkey_y', axis=1, inplace=True)\n",
    "sc_link.rename({'firm_gvkey_x': 'firm_gvkey', 'supplier_gvkey': '2_degree_supplier'}, axis=1, inplace=True)\n",
    "sc_link.drop_duplicates(inplace=True)\n",
    "sc_link = sc_link.merge(supplier[['firm_gvkey', 'supplier_gvkey', 'year', 'quarter']],\n",
    "                        left_on=['2_degree_supplier', 'year', 'quarter'],\n",
    "                        right_on=['firm_gvkey', 'year', 'quarter'],\n",
    "                        how='left')\n",
    "sc_link.drop('firm_gvkey_y', axis=1, inplace=True)\n",
    "sc_link.rename({'firm_gvkey_x': 'firm_gvkey', 'supplier_gvkey': '3_degree_supplier'}, axis=1, inplace=True)\n",
    "sc_link.drop_duplicates(inplace=True)\n",
    "sc_link = sc_link.merge(customer[['firm_gvkey', 'customer_gvkey', 'year', 'quarter']],\n",
    "                        on=['firm_gvkey', 'year', 'quarter'],\n",
    "                        how='left')\n",
    "sc_link.rename({'customer_gvkey': '1_degree_customer'}, axis=1, inplace=True)\n",
    "sc_link.drop_duplicates(inplace=True)\n",
    "sc_link = sc_link.merge(customer[['firm_gvkey', 'customer_gvkey', 'year', 'quarter']],\n",
    "                        left_on=['1_degree_customer', 'year', 'quarter'],\n",
    "                        right_on=['firm_gvkey', 'year', 'quarter'],\n",
    "                        how='left')\n",
    "sc_link.drop('firm_gvkey_y', axis=1, inplace=True)\n",
    "sc_link.rename({'firm_gvkey_x': 'firm_gvkey', 'customer_gvkey': '2_degree_customer'}, axis=1, inplace=True)\n",
    "sc_link.drop_duplicates(inplace=True)\n",
    "sc_link = sc_link.merge(customer[['firm_gvkey', 'customer_gvkey', 'year', 'quarter']],\n",
    "                        left_on=['2_degree_customer', 'year', 'quarter'],\n",
    "                        right_on=['firm_gvkey', 'year', 'quarter'],\n",
    "                        how='left')\n",
    "sc_link.drop('firm_gvkey_y', axis=1, inplace=True)\n",
    "sc_link.rename({'firm_gvkey_x': 'firm_gvkey', 'customer_gvkey': '3_degree_customer'}, axis=1, inplace=True)\n",
    "sc_link.drop_duplicates(inplace=True)"
   ],
   "metadata": {
    "collapsed": false
   }
  },
  {
   "cell_type": "code",
   "execution_count": 37,
   "outputs": [
    {
     "data": {
      "text/plain": "          firm_gvkey  year  quarter  1_degree_supplier  2_degree_supplier  \\\n3287         31657.0  2019        2            29955.0            31657.0   \n3288         31657.0  2019        2            29955.0            31657.0   \n3308         31657.0  2019        3            29955.0            31657.0   \n3309         31657.0  2019        3            29955.0            31657.0   \n18494         2184.0  2019        4             1690.0             2184.0   \n...              ...   ...      ...                ...                ...   \n36207516    150937.0  2012        2                NaN                NaN   \n36207554    150937.0  2012        3                NaN                NaN   \n36207606    150937.0  2012        4                NaN                NaN   \n36207687    150937.0  2013        1                NaN                NaN   \n36207765    150937.0  2013        2                NaN                NaN   \n\n          3_degree_supplier  1_degree_customer  2_degree_customer  \\\n3287                31673.0                NaN                NaN   \n3288                29955.0                NaN                NaN   \n3308                31673.0                NaN                NaN   \n3309                29955.0                NaN                NaN   \n18494              160329.0                NaN                NaN   \n...                     ...                ...                ...   \n36207516                NaN            61591.0            12142.0   \n36207554                NaN            61591.0            12142.0   \n36207606                NaN            61591.0            12142.0   \n36207687                NaN            61591.0            12142.0   \n36207765                NaN            61591.0            12142.0   \n\n          3_degree_customer  \n3287                    NaN  \n3288                    NaN  \n3308                    NaN  \n3309                    NaN  \n18494                   NaN  \n...                     ...  \n36207516           150937.0  \n36207554           150937.0  \n36207606           150937.0  \n36207687           150937.0  \n36207765           150937.0  \n\n[1021228 rows x 9 columns]",
      "text/html": "<div>\n<style scoped>\n    .dataframe tbody tr th:only-of-type {\n        vertical-align: middle;\n    }\n\n    .dataframe tbody tr th {\n        vertical-align: top;\n    }\n\n    .dataframe thead th {\n        text-align: right;\n    }\n</style>\n<table border=\"1\" class=\"dataframe\">\n  <thead>\n    <tr style=\"text-align: right;\">\n      <th></th>\n      <th>firm_gvkey</th>\n      <th>year</th>\n      <th>quarter</th>\n      <th>1_degree_supplier</th>\n      <th>2_degree_supplier</th>\n      <th>3_degree_supplier</th>\n      <th>1_degree_customer</th>\n      <th>2_degree_customer</th>\n      <th>3_degree_customer</th>\n    </tr>\n  </thead>\n  <tbody>\n    <tr>\n      <th>3287</th>\n      <td>31657.0</td>\n      <td>2019</td>\n      <td>2</td>\n      <td>29955.0</td>\n      <td>31657.0</td>\n      <td>31673.0</td>\n      <td>NaN</td>\n      <td>NaN</td>\n      <td>NaN</td>\n    </tr>\n    <tr>\n      <th>3288</th>\n      <td>31657.0</td>\n      <td>2019</td>\n      <td>2</td>\n      <td>29955.0</td>\n      <td>31657.0</td>\n      <td>29955.0</td>\n      <td>NaN</td>\n      <td>NaN</td>\n      <td>NaN</td>\n    </tr>\n    <tr>\n      <th>3308</th>\n      <td>31657.0</td>\n      <td>2019</td>\n      <td>3</td>\n      <td>29955.0</td>\n      <td>31657.0</td>\n      <td>31673.0</td>\n      <td>NaN</td>\n      <td>NaN</td>\n      <td>NaN</td>\n    </tr>\n    <tr>\n      <th>3309</th>\n      <td>31657.0</td>\n      <td>2019</td>\n      <td>3</td>\n      <td>29955.0</td>\n      <td>31657.0</td>\n      <td>29955.0</td>\n      <td>NaN</td>\n      <td>NaN</td>\n      <td>NaN</td>\n    </tr>\n    <tr>\n      <th>18494</th>\n      <td>2184.0</td>\n      <td>2019</td>\n      <td>4</td>\n      <td>1690.0</td>\n      <td>2184.0</td>\n      <td>160329.0</td>\n      <td>NaN</td>\n      <td>NaN</td>\n      <td>NaN</td>\n    </tr>\n    <tr>\n      <th>...</th>\n      <td>...</td>\n      <td>...</td>\n      <td>...</td>\n      <td>...</td>\n      <td>...</td>\n      <td>...</td>\n      <td>...</td>\n      <td>...</td>\n      <td>...</td>\n    </tr>\n    <tr>\n      <th>36207516</th>\n      <td>150937.0</td>\n      <td>2012</td>\n      <td>2</td>\n      <td>NaN</td>\n      <td>NaN</td>\n      <td>NaN</td>\n      <td>61591.0</td>\n      <td>12142.0</td>\n      <td>150937.0</td>\n    </tr>\n    <tr>\n      <th>36207554</th>\n      <td>150937.0</td>\n      <td>2012</td>\n      <td>3</td>\n      <td>NaN</td>\n      <td>NaN</td>\n      <td>NaN</td>\n      <td>61591.0</td>\n      <td>12142.0</td>\n      <td>150937.0</td>\n    </tr>\n    <tr>\n      <th>36207606</th>\n      <td>150937.0</td>\n      <td>2012</td>\n      <td>4</td>\n      <td>NaN</td>\n      <td>NaN</td>\n      <td>NaN</td>\n      <td>61591.0</td>\n      <td>12142.0</td>\n      <td>150937.0</td>\n    </tr>\n    <tr>\n      <th>36207687</th>\n      <td>150937.0</td>\n      <td>2013</td>\n      <td>1</td>\n      <td>NaN</td>\n      <td>NaN</td>\n      <td>NaN</td>\n      <td>61591.0</td>\n      <td>12142.0</td>\n      <td>150937.0</td>\n    </tr>\n    <tr>\n      <th>36207765</th>\n      <td>150937.0</td>\n      <td>2013</td>\n      <td>2</td>\n      <td>NaN</td>\n      <td>NaN</td>\n      <td>NaN</td>\n      <td>61591.0</td>\n      <td>12142.0</td>\n      <td>150937.0</td>\n    </tr>\n  </tbody>\n</table>\n<p>1021228 rows × 9 columns</p>\n</div>"
     },
     "execution_count": 37,
     "metadata": {},
     "output_type": "execute_result"
    }
   ],
   "source": [
    "sc_link.loc[(sc_link['firm_gvkey'] == sc_link['1_degree_supplier']) | (sc_link['firm_gvkey'] == sc_link['2_degree_supplier']) | (sc_link['firm_gvkey'] == sc_link['3_degree_supplier']) | (sc_link['firm_gvkey'] == sc_link['1_degree_customer']) | (sc_link['firm_gvkey'] == sc_link['2_degree_customer']) | (sc_link['firm_gvkey'] == sc_link['3_degree_customer'])]"
   ],
   "metadata": {
    "collapsed": false
   }
  },
  {
   "cell_type": "code",
   "execution_count": 67,
   "outputs": [
    {
     "data": {
      "text/plain": "4431"
     },
     "execution_count": 67,
     "metadata": {},
     "output_type": "execute_result"
    }
   ],
   "source": [
    "firm['firm_gvkey'].nunique()"
   ],
   "metadata": {
    "collapsed": false
   }
  },
  {
   "cell_type": "code",
   "execution_count": 66,
   "outputs": [
    {
     "data": {
      "text/plain": "5.110244978278022"
     },
     "execution_count": 66,
     "metadata": {},
     "output_type": "execute_result"
    }
   ],
   "source": [
    "sc_link.groupby(['firm_gvkey', 'year', 'quarter'])['3_degree_supplier'].nunique().mean()"
   ],
   "metadata": {
    "collapsed": false
   }
  },
  {
   "cell_type": "code",
   "execution_count": 68,
   "outputs": [],
   "source": [
    "sc_link.to_pickle('./factset_revere_companies/fs_sc_link_3_degrees.pkl', compression='zip')"
   ],
   "metadata": {
    "collapsed": false
   }
  },
  {
   "cell_type": "code",
   "execution_count": 3,
   "outputs": [],
   "source": [
    "trucost = pd.read_pickle('./esg_scores/trucost.pkl', compression='zip')\n",
    "trucost_wrds_companies = pd.read_csv('./esg_scores/trucost_wrds_companies.csv')"
   ],
   "metadata": {
    "collapsed": false
   }
  },
  {
   "cell_type": "code",
   "execution_count": 4,
   "outputs": [],
   "source": [
    "trucost = trucost.loc[(trucost['scoretype'] == 'S&P Global ESG Score') & (trucost['csascoretypename'] == 'Modeled')].drop_duplicates()\n",
    "esg_scores = trucost[['scoredate', 'scorevalue', 'institutionid']].merge(trucost_wrds_companies[['gvkey', 'institutionid']],\n",
    "                                                                    on='institutionid',\n",
    "                                                                    how='left')\n",
    "# trucost.drop('institutionid', axis=1, inplace=True)\n",
    "esg_scores['scoredate'] = pd.to_datetime(esg_scores['scoredate'])\n",
    "esg_scores['year'] = esg_scores.scoredate.dt.year\n",
    "esg_scores['quarter'] = esg_scores.scoredate.dt.quarter\n",
    "esg_scores.dropna(inplace=True)"
   ],
   "metadata": {
    "collapsed": false
   }
  },
  {
   "cell_type": "code",
   "execution_count": 101,
   "outputs": [],
   "source": [
    "firm = firm.merge(esg_scores,\n",
    "                  left_on=['firm_gvkey', 'year', 'quarter'],\n",
    "                  right_on=['gvkey', 'year', 'quarter'],\n",
    "                  how='left')\n",
    "firm.drop(['gvkey', 'institutionid', 'scoredate'], axis=1, inplace=True)"
   ],
   "metadata": {
    "collapsed": false
   }
  },
  {
   "cell_type": "code",
   "execution_count": 105,
   "outputs": [
    {
     "data": {
      "text/plain": "80479    NaN\n80545    NaN\n80546    NaN\n80547    NaN\n80548    NaN\n          ..\n100227   NaN\n32893    NaN\n32894    NaN\n32895    NaN\n32896    NaN\nName: scorevalue, Length: 105645, dtype: float64"
     },
     "execution_count": 105,
     "metadata": {},
     "output_type": "execute_result"
    }
   ],
   "source": [
    "firm.sort_values(['firm_gvkey', 'year', 'quarter'], inplace=True)\n",
    "firm['scorevalue'] = firm.groupby('firm_gvkey')['scorevalue'].fillna(method='ffill')"
   ],
   "metadata": {
    "collapsed": false
   }
  },
  {
   "cell_type": "code",
   "execution_count": 107,
   "outputs": [
    {
     "data": {
      "text/plain": "       firm_gvkey  year  quarter    firm_pol  firm_covid   firm_cc  \\\n21476      1004.0  2019        4   19.646365    0.000000  0.000000   \n21477      1004.0  2020        1  164.948454    1.255887  0.000441   \n21469      1004.0  2020        3  111.798485    1.052449  0.000202   \n21470      1004.0  2020        4   51.352277    0.389408  0.000000   \n21471      1004.0  2021        1   54.161401    0.429092  0.001200   \n...           ...   ...      ...         ...         ...       ...   \n94231    328795.0  2021        4   57.247538    0.369959  0.007028   \n17799    339965.0  2021        1   66.496731    0.123640  0.000333   \n17800    339965.0  2021        2   36.518564    0.137174  0.000374   \n17801    339965.0  2021        3   57.843591    0.259943  0.000337   \n17802    339965.0  2021        4   10.688328    0.000000  0.000652   \n\n       ewfdsc_pol  ewfdsc_covid  ewfdsc_cc  ewfdcc_pol  ...  ewsdcc_pol  \\\n21476   75.814716      0.000000   0.002201   64.349970  ...   59.677054   \n21477   94.698423      0.328148   0.001763   80.160585  ...   66.783306   \n21469  138.368021      1.436011   0.001702  133.075839  ...  123.143480   \n21470   87.492229      0.760750   0.002848   80.536957  ...  103.812803   \n21471   75.840333      0.617527   0.001550   82.798134  ...   73.333769   \n...           ...           ...        ...         ...  ...         ...   \n94231         NaN           NaN        NaN   68.366051  ...   92.563214   \n17799   49.820043      1.194801   0.000355   63.678146  ...   67.955381   \n17800   86.154861      0.914048   0.001183   89.058657  ...   95.343278   \n17801   78.402607      1.082985   0.001122   69.239550  ...   57.325295   \n17802   86.501581      0.199142   0.001386   47.919815  ...  100.619729   \n\n       ewsdcc_covid  ewsdcc_cc  ewtdsc_pol  ewtdsc_covid  ewtdsc_cc  \\\n21476      0.000000   0.002048   72.064290      0.000000   0.003281   \n21477      0.216774   0.002531   61.780371      0.619863   0.000813   \n21469      1.662896   0.002563  102.987330      1.251230   0.000856   \n21470      1.068126   0.001997  102.813022      1.031777   0.000760   \n21471      1.100933   0.003029   30.703101      0.905797   0.000229   \n...             ...        ...         ...           ...        ...   \n94231      0.350416   0.015929         NaN           NaN        NaN   \n17799      0.922006   0.000427   55.162849      1.023619   0.000483   \n17800      1.212543   0.000405   80.948899      0.860770   0.001028   \n17801      1.372581   0.000660   29.400978      0.518378   0.000902   \n17802      1.841050   0.000727   50.906811      0.275727   0.001831   \n\n       ewtdcc_pol  ewtdcc_covid  ewtdcc_cc  scorevalue  \n21476   76.662307      0.000000   0.004018        24.0  \n21477   66.152041      0.208594   0.002272        24.0  \n21469  108.452708      1.789964   0.001893        24.0  \n21470   91.261583      1.262975   0.002335        25.0  \n21471   79.446555      1.185781   0.002760        25.0  \n...           ...           ...        ...         ...  \n94231   57.117285      0.235296   0.006280        29.0  \n17799   81.036931      1.032483   0.001261        21.0  \n17800  125.486389      1.219658   0.000505        21.0  \n17801  111.338774      2.313784   0.001793        21.0  \n17802  113.426051      1.123733   0.002856        27.0  \n\n[16875 rows x 25 columns]",
      "text/html": "<div>\n<style scoped>\n    .dataframe tbody tr th:only-of-type {\n        vertical-align: middle;\n    }\n\n    .dataframe tbody tr th {\n        vertical-align: top;\n    }\n\n    .dataframe thead th {\n        text-align: right;\n    }\n</style>\n<table border=\"1\" class=\"dataframe\">\n  <thead>\n    <tr style=\"text-align: right;\">\n      <th></th>\n      <th>firm_gvkey</th>\n      <th>year</th>\n      <th>quarter</th>\n      <th>firm_pol</th>\n      <th>firm_covid</th>\n      <th>firm_cc</th>\n      <th>ewfdsc_pol</th>\n      <th>ewfdsc_covid</th>\n      <th>ewfdsc_cc</th>\n      <th>ewfdcc_pol</th>\n      <th>...</th>\n      <th>ewsdcc_pol</th>\n      <th>ewsdcc_covid</th>\n      <th>ewsdcc_cc</th>\n      <th>ewtdsc_pol</th>\n      <th>ewtdsc_covid</th>\n      <th>ewtdsc_cc</th>\n      <th>ewtdcc_pol</th>\n      <th>ewtdcc_covid</th>\n      <th>ewtdcc_cc</th>\n      <th>scorevalue</th>\n    </tr>\n  </thead>\n  <tbody>\n    <tr>\n      <th>21476</th>\n      <td>1004.0</td>\n      <td>2019</td>\n      <td>4</td>\n      <td>19.646365</td>\n      <td>0.000000</td>\n      <td>0.000000</td>\n      <td>75.814716</td>\n      <td>0.000000</td>\n      <td>0.002201</td>\n      <td>64.349970</td>\n      <td>...</td>\n      <td>59.677054</td>\n      <td>0.000000</td>\n      <td>0.002048</td>\n      <td>72.064290</td>\n      <td>0.000000</td>\n      <td>0.003281</td>\n      <td>76.662307</td>\n      <td>0.000000</td>\n      <td>0.004018</td>\n      <td>24.0</td>\n    </tr>\n    <tr>\n      <th>21477</th>\n      <td>1004.0</td>\n      <td>2020</td>\n      <td>1</td>\n      <td>164.948454</td>\n      <td>1.255887</td>\n      <td>0.000441</td>\n      <td>94.698423</td>\n      <td>0.328148</td>\n      <td>0.001763</td>\n      <td>80.160585</td>\n      <td>...</td>\n      <td>66.783306</td>\n      <td>0.216774</td>\n      <td>0.002531</td>\n      <td>61.780371</td>\n      <td>0.619863</td>\n      <td>0.000813</td>\n      <td>66.152041</td>\n      <td>0.208594</td>\n      <td>0.002272</td>\n      <td>24.0</td>\n    </tr>\n    <tr>\n      <th>21469</th>\n      <td>1004.0</td>\n      <td>2020</td>\n      <td>3</td>\n      <td>111.798485</td>\n      <td>1.052449</td>\n      <td>0.000202</td>\n      <td>138.368021</td>\n      <td>1.436011</td>\n      <td>0.001702</td>\n      <td>133.075839</td>\n      <td>...</td>\n      <td>123.143480</td>\n      <td>1.662896</td>\n      <td>0.002563</td>\n      <td>102.987330</td>\n      <td>1.251230</td>\n      <td>0.000856</td>\n      <td>108.452708</td>\n      <td>1.789964</td>\n      <td>0.001893</td>\n      <td>24.0</td>\n    </tr>\n    <tr>\n      <th>21470</th>\n      <td>1004.0</td>\n      <td>2020</td>\n      <td>4</td>\n      <td>51.352277</td>\n      <td>0.389408</td>\n      <td>0.000000</td>\n      <td>87.492229</td>\n      <td>0.760750</td>\n      <td>0.002848</td>\n      <td>80.536957</td>\n      <td>...</td>\n      <td>103.812803</td>\n      <td>1.068126</td>\n      <td>0.001997</td>\n      <td>102.813022</td>\n      <td>1.031777</td>\n      <td>0.000760</td>\n      <td>91.261583</td>\n      <td>1.262975</td>\n      <td>0.002335</td>\n      <td>25.0</td>\n    </tr>\n    <tr>\n      <th>21471</th>\n      <td>1004.0</td>\n      <td>2021</td>\n      <td>1</td>\n      <td>54.161401</td>\n      <td>0.429092</td>\n      <td>0.001200</td>\n      <td>75.840333</td>\n      <td>0.617527</td>\n      <td>0.001550</td>\n      <td>82.798134</td>\n      <td>...</td>\n      <td>73.333769</td>\n      <td>1.100933</td>\n      <td>0.003029</td>\n      <td>30.703101</td>\n      <td>0.905797</td>\n      <td>0.000229</td>\n      <td>79.446555</td>\n      <td>1.185781</td>\n      <td>0.002760</td>\n      <td>25.0</td>\n    </tr>\n    <tr>\n      <th>...</th>\n      <td>...</td>\n      <td>...</td>\n      <td>...</td>\n      <td>...</td>\n      <td>...</td>\n      <td>...</td>\n      <td>...</td>\n      <td>...</td>\n      <td>...</td>\n      <td>...</td>\n      <td>...</td>\n      <td>...</td>\n      <td>...</td>\n      <td>...</td>\n      <td>...</td>\n      <td>...</td>\n      <td>...</td>\n      <td>...</td>\n      <td>...</td>\n      <td>...</td>\n      <td>...</td>\n    </tr>\n    <tr>\n      <th>94231</th>\n      <td>328795.0</td>\n      <td>2021</td>\n      <td>4</td>\n      <td>57.247538</td>\n      <td>0.369959</td>\n      <td>0.007028</td>\n      <td>NaN</td>\n      <td>NaN</td>\n      <td>NaN</td>\n      <td>68.366051</td>\n      <td>...</td>\n      <td>92.563214</td>\n      <td>0.350416</td>\n      <td>0.015929</td>\n      <td>NaN</td>\n      <td>NaN</td>\n      <td>NaN</td>\n      <td>57.117285</td>\n      <td>0.235296</td>\n      <td>0.006280</td>\n      <td>29.0</td>\n    </tr>\n    <tr>\n      <th>17799</th>\n      <td>339965.0</td>\n      <td>2021</td>\n      <td>1</td>\n      <td>66.496731</td>\n      <td>0.123640</td>\n      <td>0.000333</td>\n      <td>49.820043</td>\n      <td>1.194801</td>\n      <td>0.000355</td>\n      <td>63.678146</td>\n      <td>...</td>\n      <td>67.955381</td>\n      <td>0.922006</td>\n      <td>0.000427</td>\n      <td>55.162849</td>\n      <td>1.023619</td>\n      <td>0.000483</td>\n      <td>81.036931</td>\n      <td>1.032483</td>\n      <td>0.001261</td>\n      <td>21.0</td>\n    </tr>\n    <tr>\n      <th>17800</th>\n      <td>339965.0</td>\n      <td>2021</td>\n      <td>2</td>\n      <td>36.518564</td>\n      <td>0.137174</td>\n      <td>0.000374</td>\n      <td>86.154861</td>\n      <td>0.914048</td>\n      <td>0.001183</td>\n      <td>89.058657</td>\n      <td>...</td>\n      <td>95.343278</td>\n      <td>1.212543</td>\n      <td>0.000405</td>\n      <td>80.948899</td>\n      <td>0.860770</td>\n      <td>0.001028</td>\n      <td>125.486389</td>\n      <td>1.219658</td>\n      <td>0.000505</td>\n      <td>21.0</td>\n    </tr>\n    <tr>\n      <th>17801</th>\n      <td>339965.0</td>\n      <td>2021</td>\n      <td>3</td>\n      <td>57.843591</td>\n      <td>0.259943</td>\n      <td>0.000337</td>\n      <td>78.402607</td>\n      <td>1.082985</td>\n      <td>0.001122</td>\n      <td>69.239550</td>\n      <td>...</td>\n      <td>57.325295</td>\n      <td>1.372581</td>\n      <td>0.000660</td>\n      <td>29.400978</td>\n      <td>0.518378</td>\n      <td>0.000902</td>\n      <td>111.338774</td>\n      <td>2.313784</td>\n      <td>0.001793</td>\n      <td>21.0</td>\n    </tr>\n    <tr>\n      <th>17802</th>\n      <td>339965.0</td>\n      <td>2021</td>\n      <td>4</td>\n      <td>10.688328</td>\n      <td>0.000000</td>\n      <td>0.000652</td>\n      <td>86.501581</td>\n      <td>0.199142</td>\n      <td>0.001386</td>\n      <td>47.919815</td>\n      <td>...</td>\n      <td>100.619729</td>\n      <td>1.841050</td>\n      <td>0.000727</td>\n      <td>50.906811</td>\n      <td>0.275727</td>\n      <td>0.001831</td>\n      <td>113.426051</td>\n      <td>1.123733</td>\n      <td>0.002856</td>\n      <td>27.0</td>\n    </tr>\n  </tbody>\n</table>\n<p>16875 rows × 25 columns</p>\n</div>"
     },
     "execution_count": 107,
     "metadata": {},
     "output_type": "execute_result"
    }
   ],
   "source": [
    "firm.loc[(firm['ewfdsc_pol'].notna() | firm['ewfdcc_pol'].notna()) & (firm['ewsdcc_pol'].notna() | firm['ewsdsc_pol'].notna()) & (firm['ewtdcc_pol'].notna() | firm['ewtdsc_pol'].notna()) & (firm['scorevalue'].notna())]"
   ],
   "metadata": {
    "collapsed": false
   }
  },
  {
   "cell_type": "code",
   "execution_count": 108,
   "outputs": [
    {
     "data": {
      "text/plain": "1510"
     },
     "execution_count": 108,
     "metadata": {},
     "output_type": "execute_result"
    }
   ],
   "source": [
    "firm.loc[(firm['ewfdsc_pol'].notna() | firm['ewfdcc_pol'].notna()) & (firm['ewsdcc_pol'].notna() | firm['ewsdsc_pol'].notna()) & (firm['ewtdcc_pol'].notna() | firm['ewtdsc_pol'].notna()) & (firm['scorevalue'].notna()), 'firm_gvkey'].nunique()"
   ],
   "metadata": {
    "collapsed": false
   }
  },
  {
   "cell_type": "code",
   "execution_count": 110,
   "outputs": [
    {
     "data": {
      "text/plain": "year\n2006    1741\n2007    2075\n2008    2455\n2009    2208\n2010    2403\n2011    3127\n2012    3677\n2013    4395\n2014    4553\n2015    4788\n2016    5031\n2017    6048\n2018    6515\n2019    6725\n2020    6365\n2021    6368\ndtype: int64"
     },
     "execution_count": 110,
     "metadata": {},
     "output_type": "execute_result"
    }
   ],
   "source": [
    "firm.loc[(firm['ewfdsc_pol'].notna() | firm['ewfdcc_pol'].notna()) & (firm['ewsdcc_pol'].notna() | firm['ewsdsc_pol'].notna()) & (firm['ewtdcc_pol'].notna() | firm['ewtdsc_pol'].notna())].groupby('year').size()"
   ],
   "metadata": {
    "collapsed": false
   }
  },
  {
   "cell_type": "code",
   "execution_count": 111,
   "outputs": [
    {
     "data": {
      "text/plain": "year\n2013     251\n2014     737\n2015     916\n2016    1247\n2017    1478\n2018    1773\n2019    2358\n2020    3717\n2021    4398\ndtype: int64"
     },
     "execution_count": 111,
     "metadata": {},
     "output_type": "execute_result"
    }
   ],
   "source": [
    "firm.loc[(firm['ewfdsc_pol'].notna() | firm['ewfdcc_pol'].notna()) & (firm['ewsdcc_pol'].notna() | firm['ewsdsc_pol'].notna()) & (firm['ewtdcc_pol'].notna() | firm['ewtdsc_pol'].notna()) & (firm['scorevalue'].notna())].groupby('year').size()"
   ],
   "metadata": {
    "collapsed": false
   }
  },
  {
   "cell_type": "code",
   "execution_count": 2,
   "outputs": [],
   "source": [
    "sc_link = pd.read_pickle('./factset_revere_companies/fs_sc_link_3_degrees.pkl', compression='zip')"
   ],
   "metadata": {
    "collapsed": false
   }
  },
  {
   "cell_type": "code",
   "execution_count": 5,
   "outputs": [
    {
     "data": {
      "text/plain": "   firm_gvkey  year  quarter  1_degree_supplier  2_degree_supplier  \\\n0    145046.0  2013        1             6066.0            12142.0   \n1    145046.0  2013        1             6066.0            61591.0   \n2    145046.0  2013        1             6066.0            61591.0   \n3    145046.0  2013        1             6066.0             6008.0   \n4    145046.0  2013        1             6066.0             6008.0   \n\n   3_degree_supplier  1_degree_customer  2_degree_customer  3_degree_customer  \n0             6008.0                NaN                NaN                NaN  \n1           174077.0                NaN                NaN                NaN  \n2           120774.0                NaN                NaN                NaN  \n3            63651.0                NaN                NaN                NaN  \n4             1704.0                NaN                NaN                NaN  ",
      "text/html": "<div>\n<style scoped>\n    .dataframe tbody tr th:only-of-type {\n        vertical-align: middle;\n    }\n\n    .dataframe tbody tr th {\n        vertical-align: top;\n    }\n\n    .dataframe thead th {\n        text-align: right;\n    }\n</style>\n<table border=\"1\" class=\"dataframe\">\n  <thead>\n    <tr style=\"text-align: right;\">\n      <th></th>\n      <th>firm_gvkey</th>\n      <th>year</th>\n      <th>quarter</th>\n      <th>1_degree_supplier</th>\n      <th>2_degree_supplier</th>\n      <th>3_degree_supplier</th>\n      <th>1_degree_customer</th>\n      <th>2_degree_customer</th>\n      <th>3_degree_customer</th>\n    </tr>\n  </thead>\n  <tbody>\n    <tr>\n      <th>0</th>\n      <td>145046.0</td>\n      <td>2013</td>\n      <td>1</td>\n      <td>6066.0</td>\n      <td>12142.0</td>\n      <td>6008.0</td>\n      <td>NaN</td>\n      <td>NaN</td>\n      <td>NaN</td>\n    </tr>\n    <tr>\n      <th>1</th>\n      <td>145046.0</td>\n      <td>2013</td>\n      <td>1</td>\n      <td>6066.0</td>\n      <td>61591.0</td>\n      <td>174077.0</td>\n      <td>NaN</td>\n      <td>NaN</td>\n      <td>NaN</td>\n    </tr>\n    <tr>\n      <th>2</th>\n      <td>145046.0</td>\n      <td>2013</td>\n      <td>1</td>\n      <td>6066.0</td>\n      <td>61591.0</td>\n      <td>120774.0</td>\n      <td>NaN</td>\n      <td>NaN</td>\n      <td>NaN</td>\n    </tr>\n    <tr>\n      <th>3</th>\n      <td>145046.0</td>\n      <td>2013</td>\n      <td>1</td>\n      <td>6066.0</td>\n      <td>6008.0</td>\n      <td>63651.0</td>\n      <td>NaN</td>\n      <td>NaN</td>\n      <td>NaN</td>\n    </tr>\n    <tr>\n      <th>4</th>\n      <td>145046.0</td>\n      <td>2013</td>\n      <td>1</td>\n      <td>6066.0</td>\n      <td>6008.0</td>\n      <td>1704.0</td>\n      <td>NaN</td>\n      <td>NaN</td>\n      <td>NaN</td>\n    </tr>\n  </tbody>\n</table>\n</div>"
     },
     "execution_count": 5,
     "metadata": {},
     "output_type": "execute_result"
    }
   ],
   "source": [
    "sc_link.head()"
   ],
   "metadata": {
    "collapsed": false
   }
  },
  {
   "cell_type": "code",
   "execution_count": 41,
   "outputs": [],
   "source": [
    "third_degree_supplier = sc_link[['firm_gvkey', 'year', 'quarter', '3_degree_supplier']].drop_duplicates().dropna()\n",
    "third_degree_supplier['lst_yr'] = third_degree_supplier['year'] - 1\n",
    "third_degree_supplier = third_degree_supplier.merge(esg_scores[['scorevalue', 'gvkey', 'year', 'quarter']],\n",
    "                                                    left_on=['3_degree_supplier', 'year', 'quarter'],\n",
    "                                                    right_on=['gvkey', 'year', 'quarter'],\n",
    "                                                    how='left')\n",
    "third_degree_supplier.drop('gvkey', axis=1, inplace=True)\n",
    "third_degree_supplier.drop_duplicates(inplace=True)\n",
    "third_degree_supplier.sort_values(['firm_gvkey', 'year', 'quarter', '3_degree_supplier'], inplace=True)\n",
    "third_degree_supplier['scorevalue'] = third_degree_supplier.groupby(['firm_gvkey', '3_degree_supplier'])['scorevalue'].fillna(method='ffill')\n",
    "third_degree_supplier = third_degree_supplier.merge(esg_scores[['scorevalue', 'gvkey', 'year', 'quarter']],\n",
    "                                                    left_on=['3_degree_supplier', 'lst_yr', 'quarter'],\n",
    "                                                    right_on=['gvkey', 'year', 'quarter'],\n",
    "                                                    how='left',\n",
    "                                                    suffixes=('', '_1'))\n",
    "third_degree_supplier.rename({'scorevalue_1': 'lst_score'}, axis=1, inplace=True)\n",
    "third_degree_supplier.drop(['lst_yr', 'year_1', 'gvkey'], axis=1, inplace=True)\n",
    "third_degree_supplier.drop_duplicates(inplace=True)\n",
    "third_degree_supplier['lst_score'] = third_degree_supplier.groupby(['firm_gvkey', '3_degree_supplier'])['lst_score'].fillna(method='ffill')\n",
    "third_degree_supplier['esg_score_decline'] = np.where(third_degree_supplier['scorevalue'] < third_degree_supplier['lst_score'], 1, 0)"
   ],
   "metadata": {
    "collapsed": false
   }
  },
  {
   "cell_type": "code",
   "execution_count": 47,
   "outputs": [
    {
     "data": {
      "text/plain": "        firm_gvkey  year  quarter  3_degree_supplier  scorevalue  lst_score  \\\n70          1004.0  2017        3             1300.0        45.0       44.0   \n71          1004.0  2017        3             1773.0        37.0       36.0   \n73          1004.0  2017        3             2285.0        52.0       48.0   \n76          1004.0  2017        3             4199.0        57.0       57.0   \n78          1004.0  2017        3             5047.0        58.0       56.0   \n...            ...   ...      ...                ...         ...        ...   \n539324    345980.0  2021        4            61676.0        39.0       34.0   \n539325    345980.0  2021        4            61676.0        41.0       34.0   \n539326    345980.0  2021        4            64768.0        40.0       37.0   \n539327    345980.0  2021        4            64853.0        32.0       29.0   \n539328    345980.0  2021        4            64853.0        33.0       29.0   \n\n        esg_score_decline  \n70                      0  \n71                      0  \n73                      0  \n76                      0  \n78                      0  \n...                   ...  \n539324                  0  \n539325                  0  \n539326                  0  \n539327                  0  \n539328                  0  \n\n[155176 rows x 7 columns]",
      "text/html": "<div>\n<style scoped>\n    .dataframe tbody tr th:only-of-type {\n        vertical-align: middle;\n    }\n\n    .dataframe tbody tr th {\n        vertical-align: top;\n    }\n\n    .dataframe thead th {\n        text-align: right;\n    }\n</style>\n<table border=\"1\" class=\"dataframe\">\n  <thead>\n    <tr style=\"text-align: right;\">\n      <th></th>\n      <th>firm_gvkey</th>\n      <th>year</th>\n      <th>quarter</th>\n      <th>3_degree_supplier</th>\n      <th>scorevalue</th>\n      <th>lst_score</th>\n      <th>esg_score_decline</th>\n    </tr>\n  </thead>\n  <tbody>\n    <tr>\n      <th>70</th>\n      <td>1004.0</td>\n      <td>2017</td>\n      <td>3</td>\n      <td>1300.0</td>\n      <td>45.0</td>\n      <td>44.0</td>\n      <td>0</td>\n    </tr>\n    <tr>\n      <th>71</th>\n      <td>1004.0</td>\n      <td>2017</td>\n      <td>3</td>\n      <td>1773.0</td>\n      <td>37.0</td>\n      <td>36.0</td>\n      <td>0</td>\n    </tr>\n    <tr>\n      <th>73</th>\n      <td>1004.0</td>\n      <td>2017</td>\n      <td>3</td>\n      <td>2285.0</td>\n      <td>52.0</td>\n      <td>48.0</td>\n      <td>0</td>\n    </tr>\n    <tr>\n      <th>76</th>\n      <td>1004.0</td>\n      <td>2017</td>\n      <td>3</td>\n      <td>4199.0</td>\n      <td>57.0</td>\n      <td>57.0</td>\n      <td>0</td>\n    </tr>\n    <tr>\n      <th>78</th>\n      <td>1004.0</td>\n      <td>2017</td>\n      <td>3</td>\n      <td>5047.0</td>\n      <td>58.0</td>\n      <td>56.0</td>\n      <td>0</td>\n    </tr>\n    <tr>\n      <th>...</th>\n      <td>...</td>\n      <td>...</td>\n      <td>...</td>\n      <td>...</td>\n      <td>...</td>\n      <td>...</td>\n      <td>...</td>\n    </tr>\n    <tr>\n      <th>539324</th>\n      <td>345980.0</td>\n      <td>2021</td>\n      <td>4</td>\n      <td>61676.0</td>\n      <td>39.0</td>\n      <td>34.0</td>\n      <td>0</td>\n    </tr>\n    <tr>\n      <th>539325</th>\n      <td>345980.0</td>\n      <td>2021</td>\n      <td>4</td>\n      <td>61676.0</td>\n      <td>41.0</td>\n      <td>34.0</td>\n      <td>0</td>\n    </tr>\n    <tr>\n      <th>539326</th>\n      <td>345980.0</td>\n      <td>2021</td>\n      <td>4</td>\n      <td>64768.0</td>\n      <td>40.0</td>\n      <td>37.0</td>\n      <td>0</td>\n    </tr>\n    <tr>\n      <th>539327</th>\n      <td>345980.0</td>\n      <td>2021</td>\n      <td>4</td>\n      <td>64853.0</td>\n      <td>32.0</td>\n      <td>29.0</td>\n      <td>0</td>\n    </tr>\n    <tr>\n      <th>539328</th>\n      <td>345980.0</td>\n      <td>2021</td>\n      <td>4</td>\n      <td>64853.0</td>\n      <td>33.0</td>\n      <td>29.0</td>\n      <td>0</td>\n    </tr>\n  </tbody>\n</table>\n<p>155176 rows × 7 columns</p>\n</div>"
     },
     "execution_count": 47,
     "metadata": {},
     "output_type": "execute_result"
    }
   ],
   "source": [
    "third_degree_supplier.dropna()"
   ],
   "metadata": {
    "collapsed": false
   }
  },
  {
   "cell_type": "code",
   "execution_count": 80,
   "outputs": [
    {
     "data": {
      "text/plain": "1778"
     },
     "execution_count": 80,
     "metadata": {},
     "output_type": "execute_result"
    }
   ],
   "source": [
    "third_degree_supplier.dropna()['firm_gvkey'].nunique()"
   ],
   "metadata": {
    "collapsed": false
   }
  },
  {
   "cell_type": "code",
   "execution_count": 81,
   "outputs": [
    {
     "data": {
      "text/plain": "604"
     },
     "execution_count": 81,
     "metadata": {},
     "output_type": "execute_result"
    }
   ],
   "source": [
    "third_degree_supplier.dropna()['3_degree_supplier'].nunique()"
   ],
   "metadata": {
    "collapsed": false
   }
  },
  {
   "cell_type": "code",
   "execution_count": 124,
   "outputs": [
    {
     "data": {
      "text/plain": "0.48580001333843953"
     },
     "execution_count": 124,
     "metadata": {},
     "output_type": "execute_result"
    }
   ],
   "source": [
    "third_degree_supplier.dropna().groupby(['firm_gvkey', 'year', 'quarter'])['esg_score_decline'].apply(lambda x: x.sum() / len(x)).reset_index().groupby(['year', 'quarter'])['esg_score_decline'].mean().mean()"
   ],
   "metadata": {
    "collapsed": false
   }
  },
  {
   "cell_type": "code",
   "execution_count": 101,
   "outputs": [
    {
     "data": {
      "text/plain": "0.33720838394842517"
     },
     "execution_count": 101,
     "metadata": {},
     "output_type": "execute_result"
    }
   ],
   "source": [
    "third_degree_supplier.dropna().groupby(['firm_gvkey', 'year', 'quarter'])['esg_score_decline'].apply(lambda x: x.sum() / len(x)).reset_index().groupby(['year', 'quarter'])['esg_score_decline'].std().mean()"
   ],
   "metadata": {
    "collapsed": false
   }
  },
  {
   "cell_type": "code",
   "execution_count": 120,
   "outputs": [
    {
     "data": {
      "text/plain": "0.2"
     },
     "execution_count": 120,
     "metadata": {},
     "output_type": "execute_result"
    }
   ],
   "source": [
    "third_degree_supplier.dropna().groupby(['firm_gvkey', 'year', 'quarter'])['esg_score_decline'].apply(lambda x: x.sum() / len(x)).reset_index().groupby(['year', 'quarter'])['esg_score_decline'].quantile(0.25).mean()"
   ],
   "metadata": {
    "collapsed": false
   }
  },
  {
   "cell_type": "code",
   "execution_count": 121,
   "outputs": [
    {
     "data": {
      "text/plain": "0.6923076923076923"
     },
     "execution_count": 121,
     "metadata": {},
     "output_type": "execute_result"
    }
   ],
   "source": [
    "third_degree_supplier.dropna().groupby(['firm_gvkey', 'year', 'quarter'])['esg_score_decline'].apply(lambda x: x.sum() / len(x)).reset_index().groupby(['year', 'quarter'])['esg_score_decline'].quantile(0.75).mean()"
   ],
   "metadata": {
    "collapsed": false
   }
  },
  {
   "cell_type": "code",
   "execution_count": 122,
   "outputs": [
    {
     "data": {
      "text/plain": "0.5"
     },
     "execution_count": 122,
     "metadata": {},
     "output_type": "execute_result"
    }
   ],
   "source": [
    "third_degree_supplier.dropna().groupby(['firm_gvkey', 'year', 'quarter'])['esg_score_decline'].apply(lambda x: x.sum() / len(x)).reset_index().groupby(['year', 'quarter'])['esg_score_decline'].median().mean()"
   ],
   "metadata": {
    "collapsed": false
   }
  },
  {
   "cell_type": "code",
   "execution_count": 46,
   "outputs": [],
   "source": [
    "second_degree_supplier = sc_link[['firm_gvkey', 'year', 'quarter', '2_degree_supplier']].drop_duplicates().dropna()\n",
    "second_degree_supplier['lst_yr'] = second_degree_supplier['year'] - 1\n",
    "second_degree_supplier = second_degree_supplier.merge(esg_scores[['scorevalue', 'gvkey', 'year', 'quarter']],\n",
    "                                                    left_on=['2_degree_supplier', 'year', 'quarter'],\n",
    "                                                    right_on=['gvkey', 'year', 'quarter'],\n",
    "                                                    how='left')\n",
    "second_degree_supplier.drop('gvkey', axis=1, inplace=True)\n",
    "second_degree_supplier.drop_duplicates(inplace=True)\n",
    "second_degree_supplier.sort_values(['firm_gvkey', 'year', 'quarter', '2_degree_supplier'], inplace=True)\n",
    "second_degree_supplier['scorevalue'] = second_degree_supplier.groupby(['firm_gvkey', '2_degree_supplier'])['scorevalue'].fillna(method='ffill')\n",
    "second_degree_supplier = second_degree_supplier.merge(esg_scores[['scorevalue', 'gvkey', 'year', 'quarter']],\n",
    "                                                    left_on=['2_degree_supplier', 'lst_yr', 'quarter'],\n",
    "                                                    right_on=['gvkey', 'year', 'quarter'],\n",
    "                                                    how='left',\n",
    "                                                    suffixes=('', '_1'))\n",
    "second_degree_supplier.rename({'scorevalue_1': 'lst_score'}, axis=1, inplace=True)\n",
    "second_degree_supplier.drop(['lst_yr', 'year_1', 'gvkey'], axis=1, inplace=True)\n",
    "second_degree_supplier.drop_duplicates(inplace=True)\n",
    "second_degree_supplier['lst_score'] = second_degree_supplier.groupby(['firm_gvkey', '2_degree_supplier'])['lst_score'].fillna(method='ffill')\n",
    "second_degree_supplier['esg_score_decline'] = np.where(second_degree_supplier['scorevalue'] < second_degree_supplier['lst_score'], 1, 0)"
   ],
   "metadata": {
    "collapsed": false
   }
  },
  {
   "cell_type": "code",
   "execution_count": 60,
   "outputs": [
    {
     "data": {
      "text/plain": "        firm_gvkey  year  quarter  2_degree_supplier  scorevalue  lst_score  \\\n20          1004.0  2017        3             2285.0        52.0       48.0   \n22          1004.0  2017        3            10519.0        47.0       44.0   \n23          1004.0  2017        4             2285.0        52.0       48.0   \n25          1004.0  2017        4            10519.0        47.0       44.0   \n26          1004.0  2018        1             2285.0        52.0       48.0   \n...            ...   ...      ...                ...         ...        ...   \n296972    345980.0  2021        4            61676.0        39.0       34.0   \n296973    345980.0  2021        4            61676.0        41.0       34.0   \n296974    345980.0  2021        4            64853.0        32.0       29.0   \n296975    345980.0  2021        4            64853.0        33.0       29.0   \n296976    345980.0  2021        4           121718.0        50.0       44.0   \n\n        esg_score_decline  \n20                      0  \n22                      0  \n23                      0  \n25                      0  \n26                      0  \n...                   ...  \n296972                  0  \n296973                  0  \n296974                  0  \n296975                  0  \n296976                  0  \n\n[90392 rows x 7 columns]",
      "text/html": "<div>\n<style scoped>\n    .dataframe tbody tr th:only-of-type {\n        vertical-align: middle;\n    }\n\n    .dataframe tbody tr th {\n        vertical-align: top;\n    }\n\n    .dataframe thead th {\n        text-align: right;\n    }\n</style>\n<table border=\"1\" class=\"dataframe\">\n  <thead>\n    <tr style=\"text-align: right;\">\n      <th></th>\n      <th>firm_gvkey</th>\n      <th>year</th>\n      <th>quarter</th>\n      <th>2_degree_supplier</th>\n      <th>scorevalue</th>\n      <th>lst_score</th>\n      <th>esg_score_decline</th>\n    </tr>\n  </thead>\n  <tbody>\n    <tr>\n      <th>20</th>\n      <td>1004.0</td>\n      <td>2017</td>\n      <td>3</td>\n      <td>2285.0</td>\n      <td>52.0</td>\n      <td>48.0</td>\n      <td>0</td>\n    </tr>\n    <tr>\n      <th>22</th>\n      <td>1004.0</td>\n      <td>2017</td>\n      <td>3</td>\n      <td>10519.0</td>\n      <td>47.0</td>\n      <td>44.0</td>\n      <td>0</td>\n    </tr>\n    <tr>\n      <th>23</th>\n      <td>1004.0</td>\n      <td>2017</td>\n      <td>4</td>\n      <td>2285.0</td>\n      <td>52.0</td>\n      <td>48.0</td>\n      <td>0</td>\n    </tr>\n    <tr>\n      <th>25</th>\n      <td>1004.0</td>\n      <td>2017</td>\n      <td>4</td>\n      <td>10519.0</td>\n      <td>47.0</td>\n      <td>44.0</td>\n      <td>0</td>\n    </tr>\n    <tr>\n      <th>26</th>\n      <td>1004.0</td>\n      <td>2018</td>\n      <td>1</td>\n      <td>2285.0</td>\n      <td>52.0</td>\n      <td>48.0</td>\n      <td>0</td>\n    </tr>\n    <tr>\n      <th>...</th>\n      <td>...</td>\n      <td>...</td>\n      <td>...</td>\n      <td>...</td>\n      <td>...</td>\n      <td>...</td>\n      <td>...</td>\n    </tr>\n    <tr>\n      <th>296972</th>\n      <td>345980.0</td>\n      <td>2021</td>\n      <td>4</td>\n      <td>61676.0</td>\n      <td>39.0</td>\n      <td>34.0</td>\n      <td>0</td>\n    </tr>\n    <tr>\n      <th>296973</th>\n      <td>345980.0</td>\n      <td>2021</td>\n      <td>4</td>\n      <td>61676.0</td>\n      <td>41.0</td>\n      <td>34.0</td>\n      <td>0</td>\n    </tr>\n    <tr>\n      <th>296974</th>\n      <td>345980.0</td>\n      <td>2021</td>\n      <td>4</td>\n      <td>64853.0</td>\n      <td>32.0</td>\n      <td>29.0</td>\n      <td>0</td>\n    </tr>\n    <tr>\n      <th>296975</th>\n      <td>345980.0</td>\n      <td>2021</td>\n      <td>4</td>\n      <td>64853.0</td>\n      <td>33.0</td>\n      <td>29.0</td>\n      <td>0</td>\n    </tr>\n    <tr>\n      <th>296976</th>\n      <td>345980.0</td>\n      <td>2021</td>\n      <td>4</td>\n      <td>121718.0</td>\n      <td>50.0</td>\n      <td>44.0</td>\n      <td>0</td>\n    </tr>\n  </tbody>\n</table>\n<p>90392 rows × 7 columns</p>\n</div>"
     },
     "execution_count": 60,
     "metadata": {},
     "output_type": "execute_result"
    }
   ],
   "source": [
    "second_degree_supplier.dropna()"
   ],
   "metadata": {
    "collapsed": false
   }
  },
  {
   "cell_type": "code",
   "execution_count": 77,
   "outputs": [
    {
     "data": {
      "text/plain": "1811"
     },
     "execution_count": 77,
     "metadata": {},
     "output_type": "execute_result"
    }
   ],
   "source": [
    "second_degree_supplier.dropna()['firm_gvkey'].nunique()"
   ],
   "metadata": {
    "collapsed": false
   }
  },
  {
   "cell_type": "code",
   "execution_count": 78,
   "outputs": [
    {
     "data": {
      "text/plain": "718"
     },
     "execution_count": 78,
     "metadata": {},
     "output_type": "execute_result"
    }
   ],
   "source": [
    "second_degree_supplier.dropna()['2_degree_supplier'].nunique()"
   ],
   "metadata": {
    "collapsed": false
   }
  },
  {
   "cell_type": "code",
   "execution_count": 79,
   "outputs": [
    {
     "data": {
      "text/plain": "0.4784705344459565"
     },
     "execution_count": 79,
     "metadata": {},
     "output_type": "execute_result"
    }
   ],
   "source": [
    "second_degree_supplier.dropna().groupby(['firm_gvkey', 'year', 'quarter'])['esg_score_decline'].apply(lambda x: x.sum() / len(x)).reset_index().groupby(['year', 'quarter'])['esg_score_decline'].mean().mean()"
   ],
   "metadata": {
    "collapsed": false
   }
  },
  {
   "cell_type": "code",
   "execution_count": 100,
   "outputs": [
    {
     "data": {
      "text/plain": "0.38186351416817405"
     },
     "execution_count": 100,
     "metadata": {},
     "output_type": "execute_result"
    }
   ],
   "source": [
    "second_degree_supplier.dropna().groupby(['firm_gvkey', 'year', 'quarter'])['esg_score_decline'].apply(lambda x: x.sum() / len(x)).reset_index().groupby(['year', 'quarter'])['esg_score_decline'].std().mean()"
   ],
   "metadata": {
    "collapsed": false
   }
  },
  {
   "cell_type": "code",
   "execution_count": 117,
   "outputs": [
    {
     "data": {
      "text/plain": "0.0"
     },
     "execution_count": 117,
     "metadata": {},
     "output_type": "execute_result"
    }
   ],
   "source": [
    "second_degree_supplier.dropna().groupby(['firm_gvkey', 'year', 'quarter'])['esg_score_decline'].apply(lambda x: x.sum() / len(x)).reset_index().groupby(['year', 'quarter'])['esg_score_decline'].quantile(0.25).mean()"
   ],
   "metadata": {
    "collapsed": false
   }
  },
  {
   "cell_type": "code",
   "execution_count": 118,
   "outputs": [
    {
     "data": {
      "text/plain": "0.875"
     },
     "execution_count": 118,
     "metadata": {},
     "output_type": "execute_result"
    }
   ],
   "source": [
    "second_degree_supplier.dropna().groupby(['firm_gvkey', 'year', 'quarter'])['esg_score_decline'].apply(lambda x: x.sum() / len(x)).reset_index().groupby(['year', 'quarter'])['esg_score_decline'].quantile(0.75).mean()"
   ],
   "metadata": {
    "collapsed": false
   }
  },
  {
   "cell_type": "code",
   "execution_count": 119,
   "outputs": [
    {
     "data": {
      "text/plain": "0.5"
     },
     "execution_count": 119,
     "metadata": {},
     "output_type": "execute_result"
    }
   ],
   "source": [
    "second_degree_supplier.dropna().groupby(['firm_gvkey', 'year', 'quarter'])['esg_score_decline'].apply(lambda x: x.sum() / len(x)).reset_index().groupby(['year', 'quarter'])['esg_score_decline'].median().mean()"
   ],
   "metadata": {
    "collapsed": false
   }
  },
  {
   "cell_type": "code",
   "execution_count": 55,
   "outputs": [],
   "source": [
    "first_degree_supplier = sc_link[['firm_gvkey', 'year', 'quarter', '1_degree_supplier']].drop_duplicates().dropna()\n",
    "first_degree_supplier['lst_yr'] = first_degree_supplier['year'] - 1\n",
    "first_degree_supplier = first_degree_supplier.merge(esg_scores[['scorevalue', 'gvkey', 'year', 'quarter']],\n",
    "                                                      left_on=['1_degree_supplier', 'year', 'quarter'],\n",
    "                                                      right_on=['gvkey', 'year', 'quarter'],\n",
    "                                                      how='left')\n",
    "first_degree_supplier.drop('gvkey', axis=1, inplace=True)\n",
    "first_degree_supplier.drop_duplicates(inplace=True)\n",
    "first_degree_supplier.sort_values(['firm_gvkey', 'year', 'quarter', '1_degree_supplier'], inplace=True)\n",
    "first_degree_supplier['scorevalue'] = first_degree_supplier.groupby(['firm_gvkey', '1_degree_supplier'])['scorevalue'].fillna(method='ffill')\n",
    "first_degree_supplier = first_degree_supplier.merge(esg_scores[['scorevalue', 'gvkey', 'year', 'quarter']],\n",
    "                                                      left_on=['1_degree_supplier', 'lst_yr', 'quarter'],\n",
    "                                                      right_on=['gvkey', 'year', 'quarter'],\n",
    "                                                      how='left',\n",
    "                                                      suffixes=('', '_1'))\n",
    "first_degree_supplier.rename({'scorevalue_1': 'lst_score'}, axis=1, inplace=True)\n",
    "first_degree_supplier.drop(['lst_yr', 'year_1', 'gvkey'], axis=1, inplace=True)\n",
    "first_degree_supplier.drop_duplicates(inplace=True)\n",
    "first_degree_supplier['lst_score'] = first_degree_supplier.groupby(['firm_gvkey', '1_degree_supplier'])['lst_score'].fillna(method='ffill')\n",
    "first_degree_supplier['esg_score_decline'] = np.where(first_degree_supplier['scorevalue'] < first_degree_supplier['lst_score'], 1, 0)"
   ],
   "metadata": {
    "collapsed": false
   }
  },
  {
   "cell_type": "code",
   "execution_count": 59,
   "outputs": [
    {
     "data": {
      "text/plain": "        firm_gvkey  year  quarter  1_degree_supplier  scorevalue  lst_score  \\\n12          1004.0  2016        3             5047.0        56.0       67.0   \n13          1004.0  2016        4             5047.0        56.0       67.0   \n14          1004.0  2017        1             5047.0        56.0       67.0   \n15          1004.0  2017        3             5047.0        58.0       56.0   \n16          1004.0  2017        4             5047.0        58.0       56.0   \n...            ...   ...      ...                ...         ...        ...   \n159971    345980.0  2021        2           170617.0        31.0       34.0   \n159976    345980.0  2021        3           170617.0        31.0       34.0   \n159977    345980.0  2021        4             1690.0        49.0       47.0   \n159978    345980.0  2021        4             2136.0        49.0       47.0   \n159981    345980.0  2021        4           170617.0        41.0       31.0   \n\n        esg_score_decline  \n12                      1  \n13                      1  \n14                      1  \n15                      0  \n16                      0  \n...                   ...  \n159971                  1  \n159976                  1  \n159977                  0  \n159978                  0  \n159981                  0  \n\n[47630 rows x 7 columns]",
      "text/html": "<div>\n<style scoped>\n    .dataframe tbody tr th:only-of-type {\n        vertical-align: middle;\n    }\n\n    .dataframe tbody tr th {\n        vertical-align: top;\n    }\n\n    .dataframe thead th {\n        text-align: right;\n    }\n</style>\n<table border=\"1\" class=\"dataframe\">\n  <thead>\n    <tr style=\"text-align: right;\">\n      <th></th>\n      <th>firm_gvkey</th>\n      <th>year</th>\n      <th>quarter</th>\n      <th>1_degree_supplier</th>\n      <th>scorevalue</th>\n      <th>lst_score</th>\n      <th>esg_score_decline</th>\n    </tr>\n  </thead>\n  <tbody>\n    <tr>\n      <th>12</th>\n      <td>1004.0</td>\n      <td>2016</td>\n      <td>3</td>\n      <td>5047.0</td>\n      <td>56.0</td>\n      <td>67.0</td>\n      <td>1</td>\n    </tr>\n    <tr>\n      <th>13</th>\n      <td>1004.0</td>\n      <td>2016</td>\n      <td>4</td>\n      <td>5047.0</td>\n      <td>56.0</td>\n      <td>67.0</td>\n      <td>1</td>\n    </tr>\n    <tr>\n      <th>14</th>\n      <td>1004.0</td>\n      <td>2017</td>\n      <td>1</td>\n      <td>5047.0</td>\n      <td>56.0</td>\n      <td>67.0</td>\n      <td>1</td>\n    </tr>\n    <tr>\n      <th>15</th>\n      <td>1004.0</td>\n      <td>2017</td>\n      <td>3</td>\n      <td>5047.0</td>\n      <td>58.0</td>\n      <td>56.0</td>\n      <td>0</td>\n    </tr>\n    <tr>\n      <th>16</th>\n      <td>1004.0</td>\n      <td>2017</td>\n      <td>4</td>\n      <td>5047.0</td>\n      <td>58.0</td>\n      <td>56.0</td>\n      <td>0</td>\n    </tr>\n    <tr>\n      <th>...</th>\n      <td>...</td>\n      <td>...</td>\n      <td>...</td>\n      <td>...</td>\n      <td>...</td>\n      <td>...</td>\n      <td>...</td>\n    </tr>\n    <tr>\n      <th>159971</th>\n      <td>345980.0</td>\n      <td>2021</td>\n      <td>2</td>\n      <td>170617.0</td>\n      <td>31.0</td>\n      <td>34.0</td>\n      <td>1</td>\n    </tr>\n    <tr>\n      <th>159976</th>\n      <td>345980.0</td>\n      <td>2021</td>\n      <td>3</td>\n      <td>170617.0</td>\n      <td>31.0</td>\n      <td>34.0</td>\n      <td>1</td>\n    </tr>\n    <tr>\n      <th>159977</th>\n      <td>345980.0</td>\n      <td>2021</td>\n      <td>4</td>\n      <td>1690.0</td>\n      <td>49.0</td>\n      <td>47.0</td>\n      <td>0</td>\n    </tr>\n    <tr>\n      <th>159978</th>\n      <td>345980.0</td>\n      <td>2021</td>\n      <td>4</td>\n      <td>2136.0</td>\n      <td>49.0</td>\n      <td>47.0</td>\n      <td>0</td>\n    </tr>\n    <tr>\n      <th>159981</th>\n      <td>345980.0</td>\n      <td>2021</td>\n      <td>4</td>\n      <td>170617.0</td>\n      <td>41.0</td>\n      <td>31.0</td>\n      <td>0</td>\n    </tr>\n  </tbody>\n</table>\n<p>47630 rows × 7 columns</p>\n</div>"
     },
     "execution_count": 59,
     "metadata": {},
     "output_type": "execute_result"
    }
   ],
   "source": [
    "first_degree_supplier.dropna()"
   ],
   "metadata": {
    "collapsed": false
   }
  },
  {
   "cell_type": "code",
   "execution_count": 75,
   "outputs": [
    {
     "data": {
      "text/plain": "1909"
     },
     "execution_count": 75,
     "metadata": {},
     "output_type": "execute_result"
    }
   ],
   "source": [
    "first_degree_supplier.dropna()['firm_gvkey'].nunique()"
   ],
   "metadata": {
    "collapsed": false
   }
  },
  {
   "cell_type": "code",
   "execution_count": 74,
   "outputs": [
    {
     "data": {
      "text/plain": "969"
     },
     "execution_count": 74,
     "metadata": {},
     "output_type": "execute_result"
    }
   ],
   "source": [
    "first_degree_supplier.dropna()['1_degree_supplier'].nunique()"
   ],
   "metadata": {
    "collapsed": false
   }
  },
  {
   "cell_type": "code",
   "execution_count": 99,
   "outputs": [
    {
     "data": {
      "text/plain": "0.4471290115594896"
     },
     "execution_count": 99,
     "metadata": {},
     "output_type": "execute_result"
    }
   ],
   "source": [
    "first_degree_supplier.dropna().groupby(['firm_gvkey', 'year', 'quarter'])['esg_score_decline'].apply(lambda x: x.sum() / len(x)).reset_index().groupby(['year', 'quarter'])['esg_score_decline'].mean().mean()"
   ],
   "metadata": {
    "collapsed": false
   }
  },
  {
   "cell_type": "code",
   "execution_count": 98,
   "outputs": [
    {
     "data": {
      "text/plain": "0.43330287132115525"
     },
     "execution_count": 98,
     "metadata": {},
     "output_type": "execute_result"
    }
   ],
   "source": [
    "first_degree_supplier.dropna().groupby(['firm_gvkey', 'year', 'quarter'])['esg_score_decline'].apply(lambda x: x.sum() / len(x)).reset_index().groupby(['year', 'quarter'])['esg_score_decline'].std().mean()"
   ],
   "metadata": {
    "collapsed": false
   }
  },
  {
   "cell_type": "code",
   "execution_count": 114,
   "outputs": [
    {
     "data": {
      "text/plain": "0.0"
     },
     "execution_count": 114,
     "metadata": {},
     "output_type": "execute_result"
    }
   ],
   "source": [
    "first_degree_supplier.dropna().groupby(['firm_gvkey', 'year', 'quarter'])['esg_score_decline'].apply(lambda x: x.sum() / len(x)).reset_index().groupby(['year', 'quarter'])['esg_score_decline'].quantile(0.25).mean()"
   ],
   "metadata": {
    "collapsed": false
   }
  },
  {
   "cell_type": "code",
   "execution_count": 115,
   "outputs": [
    {
     "data": {
      "text/plain": "1.0"
     },
     "execution_count": 115,
     "metadata": {},
     "output_type": "execute_result"
    }
   ],
   "source": [
    "first_degree_supplier.dropna().groupby(['firm_gvkey', 'year', 'quarter'])['esg_score_decline'].apply(lambda x: x.sum() / len(x)).reset_index().groupby(['year', 'quarter'])['esg_score_decline'].quantile(0.75).mean()"
   ],
   "metadata": {
    "collapsed": false
   }
  },
  {
   "cell_type": "code",
   "execution_count": 116,
   "outputs": [
    {
     "data": {
      "text/plain": "0.4"
     },
     "execution_count": 116,
     "metadata": {},
     "output_type": "execute_result"
    }
   ],
   "source": [
    "first_degree_supplier.dropna().groupby(['firm_gvkey', 'year', 'quarter'])['esg_score_decline'].apply(lambda x: x.sum() / len(x)).reset_index().groupby(['year', 'quarter'])['esg_score_decline'].median().mean()"
   ],
   "metadata": {
    "collapsed": false
   }
  },
  {
   "cell_type": "code",
   "execution_count": 61,
   "outputs": [],
   "source": [
    "third_degree_customer = sc_link[['firm_gvkey', 'year', 'quarter', '3_degree_customer']].drop_duplicates().dropna()\n",
    "third_degree_customer['lst_yr'] = third_degree_customer['year'] - 1\n",
    "third_degree_customer = third_degree_customer.merge(esg_scores[['scorevalue', 'gvkey', 'year', 'quarter']],\n",
    "                                                    left_on=['3_degree_customer', 'year', 'quarter'],\n",
    "                                                    right_on=['gvkey', 'year', 'quarter'],\n",
    "                                                    how='left')\n",
    "third_degree_customer.drop('gvkey', axis=1, inplace=True)\n",
    "third_degree_customer.drop_duplicates(inplace=True)\n",
    "third_degree_customer.sort_values(['firm_gvkey', 'year', 'quarter', '3_degree_customer'], inplace=True)\n",
    "third_degree_customer['scorevalue'] = third_degree_customer.groupby(['firm_gvkey', '3_degree_customer'])['scorevalue'].fillna(method='ffill')\n",
    "third_degree_customer = third_degree_customer.merge(esg_scores[['scorevalue', 'gvkey', 'year', 'quarter']],\n",
    "                                                    left_on=['3_degree_customer', 'lst_yr', 'quarter'],\n",
    "                                                    right_on=['gvkey', 'year', 'quarter'],\n",
    "                                                    how='left',\n",
    "                                                    suffixes=('', '_1'))\n",
    "third_degree_customer.rename({'scorevalue_1': 'lst_score'}, axis=1, inplace=True)\n",
    "third_degree_customer.drop(['lst_yr', 'year_1', 'gvkey'], axis=1, inplace=True)\n",
    "third_degree_customer.drop_duplicates(inplace=True)\n",
    "third_degree_customer['lst_score'] = third_degree_customer.groupby(['firm_gvkey', '3_degree_customer'])['lst_score'].fillna(method='ffill')\n",
    "third_degree_customer['esg_score_decline'] = np.where(third_degree_customer['scorevalue'] < third_degree_customer['lst_score'], 1, 0)"
   ],
   "metadata": {
    "collapsed": false
   }
  },
  {
   "cell_type": "code",
   "execution_count": 64,
   "outputs": [
    {
     "data": {
      "text/plain": "         firm_gvkey  year  quarter  3_degree_customer  scorevalue  lst_score  \\\n187          1004.0  2014        3             6730.0        52.0       54.0   \n188          1004.0  2014        3             7063.0        40.0       42.0   \n189          1004.0  2014        3             7085.0        48.0       54.0   \n191          1004.0  2014        3             7171.0        46.0       47.0   \n192          1004.0  2014        3             7257.0        64.0       67.0   \n...             ...   ...      ...                ...         ...        ...   \n1606543    339965.0  2021        1           181104.0        33.0       37.0   \n1606545    339965.0  2021        1           186159.0        30.0       28.0   \n1606546    339965.0  2021        1           191255.0        32.0       34.0   \n1606547    339965.0  2021        1           264265.0        34.0       38.0   \n1606554    339965.0  2021        2            64547.0        31.0       30.0   \n\n         esg_score_decline  \n187                      1  \n188                      1  \n189                      1  \n191                      1  \n192                      1  \n...                    ...  \n1606543                  1  \n1606545                  0  \n1606546                  1  \n1606547                  1  \n1606554                  0  \n\n[391731 rows x 7 columns]",
      "text/html": "<div>\n<style scoped>\n    .dataframe tbody tr th:only-of-type {\n        vertical-align: middle;\n    }\n\n    .dataframe tbody tr th {\n        vertical-align: top;\n    }\n\n    .dataframe thead th {\n        text-align: right;\n    }\n</style>\n<table border=\"1\" class=\"dataframe\">\n  <thead>\n    <tr style=\"text-align: right;\">\n      <th></th>\n      <th>firm_gvkey</th>\n      <th>year</th>\n      <th>quarter</th>\n      <th>3_degree_customer</th>\n      <th>scorevalue</th>\n      <th>lst_score</th>\n      <th>esg_score_decline</th>\n    </tr>\n  </thead>\n  <tbody>\n    <tr>\n      <th>187</th>\n      <td>1004.0</td>\n      <td>2014</td>\n      <td>3</td>\n      <td>6730.0</td>\n      <td>52.0</td>\n      <td>54.0</td>\n      <td>1</td>\n    </tr>\n    <tr>\n      <th>188</th>\n      <td>1004.0</td>\n      <td>2014</td>\n      <td>3</td>\n      <td>7063.0</td>\n      <td>40.0</td>\n      <td>42.0</td>\n      <td>1</td>\n    </tr>\n    <tr>\n      <th>189</th>\n      <td>1004.0</td>\n      <td>2014</td>\n      <td>3</td>\n      <td>7085.0</td>\n      <td>48.0</td>\n      <td>54.0</td>\n      <td>1</td>\n    </tr>\n    <tr>\n      <th>191</th>\n      <td>1004.0</td>\n      <td>2014</td>\n      <td>3</td>\n      <td>7171.0</td>\n      <td>46.0</td>\n      <td>47.0</td>\n      <td>1</td>\n    </tr>\n    <tr>\n      <th>192</th>\n      <td>1004.0</td>\n      <td>2014</td>\n      <td>3</td>\n      <td>7257.0</td>\n      <td>64.0</td>\n      <td>67.0</td>\n      <td>1</td>\n    </tr>\n    <tr>\n      <th>...</th>\n      <td>...</td>\n      <td>...</td>\n      <td>...</td>\n      <td>...</td>\n      <td>...</td>\n      <td>...</td>\n      <td>...</td>\n    </tr>\n    <tr>\n      <th>1606543</th>\n      <td>339965.0</td>\n      <td>2021</td>\n      <td>1</td>\n      <td>181104.0</td>\n      <td>33.0</td>\n      <td>37.0</td>\n      <td>1</td>\n    </tr>\n    <tr>\n      <th>1606545</th>\n      <td>339965.0</td>\n      <td>2021</td>\n      <td>1</td>\n      <td>186159.0</td>\n      <td>30.0</td>\n      <td>28.0</td>\n      <td>0</td>\n    </tr>\n    <tr>\n      <th>1606546</th>\n      <td>339965.0</td>\n      <td>2021</td>\n      <td>1</td>\n      <td>191255.0</td>\n      <td>32.0</td>\n      <td>34.0</td>\n      <td>1</td>\n    </tr>\n    <tr>\n      <th>1606547</th>\n      <td>339965.0</td>\n      <td>2021</td>\n      <td>1</td>\n      <td>264265.0</td>\n      <td>34.0</td>\n      <td>38.0</td>\n      <td>1</td>\n    </tr>\n    <tr>\n      <th>1606554</th>\n      <td>339965.0</td>\n      <td>2021</td>\n      <td>2</td>\n      <td>64547.0</td>\n      <td>31.0</td>\n      <td>30.0</td>\n      <td>0</td>\n    </tr>\n  </tbody>\n</table>\n<p>391731 rows × 7 columns</p>\n</div>"
     },
     "execution_count": 64,
     "metadata": {},
     "output_type": "execute_result"
    }
   ],
   "source": [
    "third_degree_customer.dropna()"
   ],
   "metadata": {
    "collapsed": false
   }
  },
  {
   "cell_type": "code",
   "execution_count": 89,
   "outputs": [
    {
     "data": {
      "text/plain": "2144"
     },
     "execution_count": 89,
     "metadata": {},
     "output_type": "execute_result"
    }
   ],
   "source": [
    "third_degree_customer.dropna()['firm_gvkey'].nunique()"
   ],
   "metadata": {
    "collapsed": false
   }
  },
  {
   "cell_type": "code",
   "execution_count": 90,
   "outputs": [
    {
     "data": {
      "text/plain": "909"
     },
     "execution_count": 90,
     "metadata": {},
     "output_type": "execute_result"
    }
   ],
   "source": [
    "third_degree_customer.dropna()['3_degree_customer'].nunique()"
   ],
   "metadata": {
    "collapsed": false
   }
  },
  {
   "cell_type": "code",
   "execution_count": 96,
   "outputs": [
    {
     "data": {
      "text/plain": "0.5050957753636479"
     },
     "execution_count": 96,
     "metadata": {},
     "output_type": "execute_result"
    }
   ],
   "source": [
    "third_degree_customer.dropna().groupby(['firm_gvkey', 'year', 'quarter'])['esg_score_decline'].apply(lambda x: x.sum() / len(x)).reset_index().groupby(['year', 'quarter'])['esg_score_decline'].mean().mean()"
   ],
   "metadata": {
    "collapsed": false
   }
  },
  {
   "cell_type": "code",
   "execution_count": 95,
   "outputs": [
    {
     "data": {
      "text/plain": "0.29723744256787166"
     },
     "execution_count": 95,
     "metadata": {},
     "output_type": "execute_result"
    }
   ],
   "source": [
    "third_degree_customer.dropna().groupby(['firm_gvkey', 'year', 'quarter'])['esg_score_decline'].apply(lambda x: x.sum() / len(x)).reset_index().groupby(['year', 'quarter'])['esg_score_decline'].std().mean()"
   ],
   "metadata": {
    "collapsed": false
   }
  },
  {
   "cell_type": "code",
   "execution_count": 111,
   "outputs": [
    {
     "data": {
      "text/plain": "0.3"
     },
     "execution_count": 111,
     "metadata": {},
     "output_type": "execute_result"
    }
   ],
   "source": [
    "third_degree_customer.dropna().groupby(['firm_gvkey', 'year', 'quarter'])['esg_score_decline'].apply(lambda x: x.sum() / len(x)).reset_index().groupby(['year', 'quarter'])['esg_score_decline'].quantile(0.25).mean()"
   ],
   "metadata": {
    "collapsed": false
   }
  },
  {
   "cell_type": "code",
   "execution_count": 112,
   "outputs": [
    {
     "data": {
      "text/plain": "0.7058823529411765"
     },
     "execution_count": 112,
     "metadata": {},
     "output_type": "execute_result"
    }
   ],
   "source": [
    "third_degree_customer.dropna().groupby(['firm_gvkey', 'year', 'quarter'])['esg_score_decline'].apply(lambda x: x.sum() / len(x)).reset_index().groupby(['year', 'quarter'])['esg_score_decline'].quantile(0.75).mean()"
   ],
   "metadata": {
    "collapsed": false
   }
  },
  {
   "cell_type": "code",
   "execution_count": 113,
   "outputs": [
    {
     "data": {
      "text/plain": "0.5"
     },
     "execution_count": 113,
     "metadata": {},
     "output_type": "execute_result"
    }
   ],
   "source": [
    "third_degree_customer.dropna().groupby(['firm_gvkey', 'year', 'quarter'])['esg_score_decline'].apply(lambda x: x.sum() / len(x)).reset_index().groupby(['year', 'quarter'])['esg_score_decline'].median().mean()"
   ],
   "metadata": {
    "collapsed": false
   }
  },
  {
   "cell_type": "code",
   "execution_count": 66,
   "outputs": [],
   "source": [
    "second_degree_customer = sc_link[['firm_gvkey', 'year', 'quarter', '2_degree_customer']].drop_duplicates().dropna()\n",
    "second_degree_customer['lst_yr'] = second_degree_customer['year'] - 1\n",
    "second_degree_customer = second_degree_customer.merge(esg_scores[['scorevalue', 'gvkey', 'year', 'quarter']],\n",
    "                                                      left_on=['2_degree_customer', 'year', 'quarter'],\n",
    "                                                      right_on=['gvkey', 'year', 'quarter'],\n",
    "                                                      how='left')\n",
    "second_degree_customer.drop('gvkey', axis=1, inplace=True)\n",
    "second_degree_customer.drop_duplicates(inplace=True)\n",
    "second_degree_customer.sort_values(['firm_gvkey', 'year', 'quarter', '2_degree_customer'], inplace=True)\n",
    "second_degree_customer['scorevalue'] = second_degree_customer.groupby(['firm_gvkey', '2_degree_customer'])['scorevalue'].fillna(method='ffill')\n",
    "second_degree_customer = second_degree_customer.merge(esg_scores[['scorevalue', 'gvkey', 'year', 'quarter']],\n",
    "                                                      left_on=['2_degree_customer', 'lst_yr', 'quarter'],\n",
    "                                                      right_on=['gvkey', 'year', 'quarter'],\n",
    "                                                      how='left',\n",
    "                                                      suffixes=('', '_1'))\n",
    "second_degree_customer.rename({'scorevalue_1': 'lst_score'}, axis=1, inplace=True)\n",
    "second_degree_customer.drop(['lst_yr', 'year_1', 'gvkey'], axis=1, inplace=True)\n",
    "second_degree_customer.drop_duplicates(inplace=True)\n",
    "second_degree_customer['lst_score'] = second_degree_customer.groupby(['firm_gvkey', '2_degree_customer'])['lst_score'].fillna(method='ffill')\n",
    "second_degree_customer['esg_score_decline'] = np.where(second_degree_customer['scorevalue'] < second_degree_customer['lst_score'], 1, 0)"
   ],
   "metadata": {
    "collapsed": false
   }
  },
  {
   "cell_type": "code",
   "execution_count": 68,
   "outputs": [
    {
     "data": {
      "text/plain": "        firm_gvkey  year  quarter  2_degree_customer  scorevalue  lst_score  \\\n131         1004.0  2014        3             2285.0        49.0       53.0   \n135         1004.0  2014        3             4029.0        51.0       55.0   \n141         1004.0  2014        3             7257.0        64.0       67.0   \n142         1004.0  2014        3             7620.0        42.0       45.0   \n144         1004.0  2014        3             8455.0        42.0       47.0   \n...            ...   ...      ...                ...         ...        ...   \n815974    339965.0  2021        1           145049.0        23.0       27.0   \n815975    339965.0  2021        1           149177.0        24.0       25.0   \n815983    339965.0  2021        1           190455.0        25.0       27.0   \n816003    339965.0  2021        4             1487.0        42.0       30.0   \n816004    339965.0  2021        4             2136.0        49.0       47.0   \n\n        esg_score_decline  \n131                     1  \n135                     1  \n141                     1  \n142                     1  \n144                     1  \n...                   ...  \n815974                  1  \n815975                  1  \n815983                  1  \n816003                  0  \n816004                  0  \n\n[200699 rows x 7 columns]",
      "text/html": "<div>\n<style scoped>\n    .dataframe tbody tr th:only-of-type {\n        vertical-align: middle;\n    }\n\n    .dataframe tbody tr th {\n        vertical-align: top;\n    }\n\n    .dataframe thead th {\n        text-align: right;\n    }\n</style>\n<table border=\"1\" class=\"dataframe\">\n  <thead>\n    <tr style=\"text-align: right;\">\n      <th></th>\n      <th>firm_gvkey</th>\n      <th>year</th>\n      <th>quarter</th>\n      <th>2_degree_customer</th>\n      <th>scorevalue</th>\n      <th>lst_score</th>\n      <th>esg_score_decline</th>\n    </tr>\n  </thead>\n  <tbody>\n    <tr>\n      <th>131</th>\n      <td>1004.0</td>\n      <td>2014</td>\n      <td>3</td>\n      <td>2285.0</td>\n      <td>49.0</td>\n      <td>53.0</td>\n      <td>1</td>\n    </tr>\n    <tr>\n      <th>135</th>\n      <td>1004.0</td>\n      <td>2014</td>\n      <td>3</td>\n      <td>4029.0</td>\n      <td>51.0</td>\n      <td>55.0</td>\n      <td>1</td>\n    </tr>\n    <tr>\n      <th>141</th>\n      <td>1004.0</td>\n      <td>2014</td>\n      <td>3</td>\n      <td>7257.0</td>\n      <td>64.0</td>\n      <td>67.0</td>\n      <td>1</td>\n    </tr>\n    <tr>\n      <th>142</th>\n      <td>1004.0</td>\n      <td>2014</td>\n      <td>3</td>\n      <td>7620.0</td>\n      <td>42.0</td>\n      <td>45.0</td>\n      <td>1</td>\n    </tr>\n    <tr>\n      <th>144</th>\n      <td>1004.0</td>\n      <td>2014</td>\n      <td>3</td>\n      <td>8455.0</td>\n      <td>42.0</td>\n      <td>47.0</td>\n      <td>1</td>\n    </tr>\n    <tr>\n      <th>...</th>\n      <td>...</td>\n      <td>...</td>\n      <td>...</td>\n      <td>...</td>\n      <td>...</td>\n      <td>...</td>\n      <td>...</td>\n    </tr>\n    <tr>\n      <th>815974</th>\n      <td>339965.0</td>\n      <td>2021</td>\n      <td>1</td>\n      <td>145049.0</td>\n      <td>23.0</td>\n      <td>27.0</td>\n      <td>1</td>\n    </tr>\n    <tr>\n      <th>815975</th>\n      <td>339965.0</td>\n      <td>2021</td>\n      <td>1</td>\n      <td>149177.0</td>\n      <td>24.0</td>\n      <td>25.0</td>\n      <td>1</td>\n    </tr>\n    <tr>\n      <th>815983</th>\n      <td>339965.0</td>\n      <td>2021</td>\n      <td>1</td>\n      <td>190455.0</td>\n      <td>25.0</td>\n      <td>27.0</td>\n      <td>1</td>\n    </tr>\n    <tr>\n      <th>816003</th>\n      <td>339965.0</td>\n      <td>2021</td>\n      <td>4</td>\n      <td>1487.0</td>\n      <td>42.0</td>\n      <td>30.0</td>\n      <td>0</td>\n    </tr>\n    <tr>\n      <th>816004</th>\n      <td>339965.0</td>\n      <td>2021</td>\n      <td>4</td>\n      <td>2136.0</td>\n      <td>49.0</td>\n      <td>47.0</td>\n      <td>0</td>\n    </tr>\n  </tbody>\n</table>\n<p>200699 rows × 7 columns</p>\n</div>"
     },
     "execution_count": 68,
     "metadata": {},
     "output_type": "execute_result"
    }
   ],
   "source": [
    "second_degree_customer.dropna()"
   ],
   "metadata": {
    "collapsed": false
   }
  },
  {
   "cell_type": "code",
   "execution_count": 86,
   "outputs": [
    {
     "data": {
      "text/plain": "2178"
     },
     "execution_count": 86,
     "metadata": {},
     "output_type": "execute_result"
    }
   ],
   "source": [
    "second_degree_customer.dropna()['firm_gvkey'].nunique()"
   ],
   "metadata": {
    "collapsed": false
   }
  },
  {
   "cell_type": "code",
   "execution_count": 87,
   "outputs": [
    {
     "data": {
      "text/plain": "1009"
     },
     "execution_count": 87,
     "metadata": {},
     "output_type": "execute_result"
    }
   ],
   "source": [
    "second_degree_customer.dropna()['2_degree_customer'].nunique()"
   ],
   "metadata": {
    "collapsed": false
   }
  },
  {
   "cell_type": "code",
   "execution_count": 88,
   "outputs": [
    {
     "data": {
      "text/plain": "0.4867602802210595"
     },
     "execution_count": 88,
     "metadata": {},
     "output_type": "execute_result"
    }
   ],
   "source": [
    "second_degree_customer.dropna().groupby(['firm_gvkey', 'year', 'quarter'])['esg_score_decline'].apply(lambda x: x.sum() / len(x)).reset_index().groupby(['year', 'quarter'])['esg_score_decline'].mean().mean()"
   ],
   "metadata": {
    "collapsed": false
   }
  },
  {
   "cell_type": "code",
   "execution_count": 103,
   "outputs": [
    {
     "data": {
      "text/plain": "0.3366212912123355"
     },
     "execution_count": 103,
     "metadata": {},
     "output_type": "execute_result"
    }
   ],
   "source": [
    "second_degree_customer.dropna().groupby(['firm_gvkey', 'year', 'quarter'])['esg_score_decline'].apply(lambda x: x.sum() / len(x)).reset_index().groupby(['year', 'quarter'])['esg_score_decline'].std().mean()"
   ],
   "metadata": {
    "collapsed": false
   }
  },
  {
   "cell_type": "code",
   "execution_count": 106,
   "outputs": [
    {
     "data": {
      "text/plain": "0.2222222222222222"
     },
     "execution_count": 106,
     "metadata": {},
     "output_type": "execute_result"
    }
   ],
   "source": [
    "second_degree_customer.dropna().groupby(['firm_gvkey', 'year', 'quarter'])['esg_score_decline'].apply(lambda x: x.sum() / len(x)).reset_index().groupby(['year', 'quarter'])['esg_score_decline'].quantile(0.25).mean()"
   ],
   "metadata": {
    "collapsed": false
   }
  },
  {
   "cell_type": "code",
   "execution_count": 107,
   "outputs": [
    {
     "data": {
      "text/plain": "0.7368421052631579"
     },
     "execution_count": 107,
     "metadata": {},
     "output_type": "execute_result"
    }
   ],
   "source": [
    "second_degree_customer.dropna().groupby(['firm_gvkey', 'year', 'quarter'])['esg_score_decline'].apply(lambda x: x.sum() / len(x)).reset_index().groupby(['year', 'quarter'])['esg_score_decline'].quantile(0.75).mean()"
   ],
   "metadata": {
    "collapsed": false
   }
  },
  {
   "cell_type": "code",
   "execution_count": 110,
   "outputs": [
    {
     "data": {
      "text/plain": "0.5"
     },
     "execution_count": 110,
     "metadata": {},
     "output_type": "execute_result"
    }
   ],
   "source": [
    "second_degree_customer.dropna().groupby(['firm_gvkey', 'year', 'quarter'])['esg_score_decline'].apply(lambda x: x.sum() / len(x)).reset_index().groupby(['year', 'quarter'])['esg_score_decline'].median().mean()"
   ],
   "metadata": {
    "collapsed": false
   }
  },
  {
   "cell_type": "code",
   "execution_count": 69,
   "outputs": [],
   "source": [
    "first_degree_customer = sc_link[['firm_gvkey', 'year', 'quarter', '1_degree_customer']].drop_duplicates().dropna()\n",
    "first_degree_customer['lst_yr'] = first_degree_customer['year'] - 1\n",
    "first_degree_customer = first_degree_customer.merge(esg_scores[['scorevalue', 'gvkey', 'year', 'quarter']],\n",
    "                                                    left_on=['1_degree_customer', 'year', 'quarter'],\n",
    "                                                    right_on=['gvkey', 'year', 'quarter'],\n",
    "                                                    how='left')\n",
    "first_degree_customer.drop('gvkey', axis=1, inplace=True)\n",
    "first_degree_customer.drop_duplicates(inplace=True)\n",
    "first_degree_customer.sort_values(['firm_gvkey', 'year', 'quarter', '1_degree_customer'], inplace=True)\n",
    "first_degree_customer['scorevalue'] = first_degree_customer.groupby(['firm_gvkey', '1_degree_customer'])['scorevalue'].fillna(method='ffill')\n",
    "first_degree_customer = first_degree_customer.merge(esg_scores[['scorevalue', 'gvkey', 'year', 'quarter']],\n",
    "                                                    left_on=['1_degree_customer', 'lst_yr', 'quarter'],\n",
    "                                                    right_on=['gvkey', 'year', 'quarter'],\n",
    "                                                    how='left',\n",
    "                                                    suffixes=('', '_1'))\n",
    "first_degree_customer.rename({'scorevalue_1': 'lst_score'}, axis=1, inplace=True)\n",
    "first_degree_customer.drop(['lst_yr', 'year_1', 'gvkey'], axis=1, inplace=True)\n",
    "first_degree_customer.drop_duplicates(inplace=True)\n",
    "first_degree_customer['lst_score'] = first_degree_customer.groupby(['firm_gvkey', '1_degree_customer'])['lst_score'].fillna(method='ffill')\n",
    "first_degree_customer['esg_score_decline'] = np.where(first_degree_customer['scorevalue'] < first_degree_customer['lst_score'], 1, 0)"
   ],
   "metadata": {
    "collapsed": false
   }
  },
  {
   "cell_type": "code",
   "execution_count": 70,
   "outputs": [
    {
     "data": {
      "text/plain": "        firm_gvkey  year  quarter  1_degree_customer  scorevalue  lst_score  \\\n69          1004.0  2015        1            10795.0        52.0       52.0   \n71          1004.0  2015        3            10795.0        47.0       52.0   \n73          1004.0  2015        4            10795.0        47.0       52.0   \n75          1004.0  2016        1            10795.0        47.0       52.0   \n78          1004.0  2016        3             1300.0        44.0       45.0   \n...            ...   ...      ...                ...         ...        ...   \n393568    339965.0  2021        1            63172.0        37.0       35.0   \n393578    339965.0  2021        2            63172.0        37.0       35.0   \n393587    339965.0  2021        3            63172.0        37.0       35.0   \n393592    339965.0  2021        4             7171.0        45.0       45.0   \n393596    339965.0  2021        4            63172.0        39.0       37.0   \n\n        esg_score_decline  \n69                      0  \n71                      1  \n73                      1  \n75                      1  \n78                      1  \n...                   ...  \n393568                  0  \n393578                  0  \n393587                  0  \n393592                  0  \n393596                  0  \n\n[104394 rows x 7 columns]",
      "text/html": "<div>\n<style scoped>\n    .dataframe tbody tr th:only-of-type {\n        vertical-align: middle;\n    }\n\n    .dataframe tbody tr th {\n        vertical-align: top;\n    }\n\n    .dataframe thead th {\n        text-align: right;\n    }\n</style>\n<table border=\"1\" class=\"dataframe\">\n  <thead>\n    <tr style=\"text-align: right;\">\n      <th></th>\n      <th>firm_gvkey</th>\n      <th>year</th>\n      <th>quarter</th>\n      <th>1_degree_customer</th>\n      <th>scorevalue</th>\n      <th>lst_score</th>\n      <th>esg_score_decline</th>\n    </tr>\n  </thead>\n  <tbody>\n    <tr>\n      <th>69</th>\n      <td>1004.0</td>\n      <td>2015</td>\n      <td>1</td>\n      <td>10795.0</td>\n      <td>52.0</td>\n      <td>52.0</td>\n      <td>0</td>\n    </tr>\n    <tr>\n      <th>71</th>\n      <td>1004.0</td>\n      <td>2015</td>\n      <td>3</td>\n      <td>10795.0</td>\n      <td>47.0</td>\n      <td>52.0</td>\n      <td>1</td>\n    </tr>\n    <tr>\n      <th>73</th>\n      <td>1004.0</td>\n      <td>2015</td>\n      <td>4</td>\n      <td>10795.0</td>\n      <td>47.0</td>\n      <td>52.0</td>\n      <td>1</td>\n    </tr>\n    <tr>\n      <th>75</th>\n      <td>1004.0</td>\n      <td>2016</td>\n      <td>1</td>\n      <td>10795.0</td>\n      <td>47.0</td>\n      <td>52.0</td>\n      <td>1</td>\n    </tr>\n    <tr>\n      <th>78</th>\n      <td>1004.0</td>\n      <td>2016</td>\n      <td>3</td>\n      <td>1300.0</td>\n      <td>44.0</td>\n      <td>45.0</td>\n      <td>1</td>\n    </tr>\n    <tr>\n      <th>...</th>\n      <td>...</td>\n      <td>...</td>\n      <td>...</td>\n      <td>...</td>\n      <td>...</td>\n      <td>...</td>\n      <td>...</td>\n    </tr>\n    <tr>\n      <th>393568</th>\n      <td>339965.0</td>\n      <td>2021</td>\n      <td>1</td>\n      <td>63172.0</td>\n      <td>37.0</td>\n      <td>35.0</td>\n      <td>0</td>\n    </tr>\n    <tr>\n      <th>393578</th>\n      <td>339965.0</td>\n      <td>2021</td>\n      <td>2</td>\n      <td>63172.0</td>\n      <td>37.0</td>\n      <td>35.0</td>\n      <td>0</td>\n    </tr>\n    <tr>\n      <th>393587</th>\n      <td>339965.0</td>\n      <td>2021</td>\n      <td>3</td>\n      <td>63172.0</td>\n      <td>37.0</td>\n      <td>35.0</td>\n      <td>0</td>\n    </tr>\n    <tr>\n      <th>393592</th>\n      <td>339965.0</td>\n      <td>2021</td>\n      <td>4</td>\n      <td>7171.0</td>\n      <td>45.0</td>\n      <td>45.0</td>\n      <td>0</td>\n    </tr>\n    <tr>\n      <th>393596</th>\n      <td>339965.0</td>\n      <td>2021</td>\n      <td>4</td>\n      <td>63172.0</td>\n      <td>39.0</td>\n      <td>37.0</td>\n      <td>0</td>\n    </tr>\n  </tbody>\n</table>\n<p>104394 rows × 7 columns</p>\n</div>"
     },
     "execution_count": 70,
     "metadata": {},
     "output_type": "execute_result"
    }
   ],
   "source": [
    "first_degree_customer.dropna()"
   ],
   "metadata": {
    "collapsed": false
   }
  },
  {
   "cell_type": "code",
   "execution_count": 83,
   "outputs": [
    {
     "data": {
      "text/plain": "2378"
     },
     "execution_count": 83,
     "metadata": {},
     "output_type": "execute_result"
    }
   ],
   "source": [
    "first_degree_customer.dropna()['firm_gvkey'].nunique()"
   ],
   "metadata": {
    "collapsed": false
   }
  },
  {
   "cell_type": "code",
   "execution_count": 84,
   "outputs": [
    {
     "data": {
      "text/plain": "1312"
     },
     "execution_count": 84,
     "metadata": {},
     "output_type": "execute_result"
    }
   ],
   "source": [
    "first_degree_customer.dropna()['1_degree_customer'].nunique()"
   ],
   "metadata": {
    "collapsed": false
   }
  },
  {
   "cell_type": "code",
   "execution_count": 85,
   "outputs": [
    {
     "data": {
      "text/plain": "0.47598460104023615"
     },
     "execution_count": 85,
     "metadata": {},
     "output_type": "execute_result"
    }
   ],
   "source": [
    "first_degree_customer.dropna().groupby(['firm_gvkey', 'year', 'quarter'])['esg_score_decline'].apply(lambda x: x.sum() / len(x)).reset_index().groupby(['year', 'quarter'])['esg_score_decline'].mean().mean()"
   ],
   "metadata": {
    "collapsed": false
   }
  },
  {
   "cell_type": "code",
   "execution_count": 102,
   "outputs": [
    {
     "data": {
      "text/plain": "0.38784594056654526"
     },
     "execution_count": 102,
     "metadata": {},
     "output_type": "execute_result"
    }
   ],
   "source": [
    "first_degree_customer.dropna().groupby(['firm_gvkey', 'year', 'quarter'])['esg_score_decline'].apply(lambda x: x.sum() / len(x)).reset_index().groupby(['year', 'quarter'])['esg_score_decline'].std().mean()"
   ],
   "metadata": {
    "collapsed": false
   }
  },
  {
   "cell_type": "code",
   "execution_count": 104,
   "outputs": [
    {
     "data": {
      "text/plain": "0.0"
     },
     "execution_count": 104,
     "metadata": {},
     "output_type": "execute_result"
    }
   ],
   "source": [
    "first_degree_customer.dropna().groupby(['firm_gvkey', 'year', 'quarter'])['esg_score_decline'].apply(lambda x: x.sum() / len(x)).reset_index().groupby(['year', 'quarter'])['esg_score_decline'].quantile(0.25).mean()"
   ],
   "metadata": {
    "collapsed": false
   }
  },
  {
   "cell_type": "code",
   "execution_count": 105,
   "outputs": [
    {
     "data": {
      "text/plain": "1.0"
     },
     "execution_count": 105,
     "metadata": {},
     "output_type": "execute_result"
    }
   ],
   "source": [
    "first_degree_customer.dropna().groupby(['firm_gvkey', 'year', 'quarter'])['esg_score_decline'].apply(lambda x: x.sum() / len(x)).reset_index().groupby(['year', 'quarter'])['esg_score_decline'].quantile(0.75).mean()"
   ],
   "metadata": {
    "collapsed": false
   }
  },
  {
   "cell_type": "code",
   "execution_count": 109,
   "outputs": [
    {
     "data": {
      "text/plain": "0.5"
     },
     "execution_count": 109,
     "metadata": {},
     "output_type": "execute_result"
    }
   ],
   "source": [
    "first_degree_customer.dropna().groupby(['firm_gvkey', 'year', 'quarter'])['esg_score_decline'].apply(lambda x: x.sum() / len(x)).reset_index().groupby(['year', 'quarter'])['esg_score_decline'].median().mean()"
   ],
   "metadata": {
    "collapsed": false
   }
  },
  {
   "cell_type": "code",
   "execution_count": 130,
   "outputs": [],
   "source": [
    "first_degree_supplier = first_degree_supplier.dropna()\n",
    "second_degree_supplier = second_degree_supplier.dropna()\n",
    "third_degree_supplier = third_degree_supplier.dropna()\n",
    "first_degree_customer = first_degree_customer.dropna()\n",
    "second_degree_customer = second_degree_customer.dropna()\n",
    "third_degree_customer = third_degree_customer.dropna()\n",
    "first_degree_supplier['esg_score_decline_rate'] = first_degree_supplier.dropna().groupby(['firm_gvkey', 'year', 'quarter'])['esg_score_decline'].transform(lambda x: x.sum() / len(x))\n",
    "second_degree_supplier['esg_score_decline_rate'] = second_degree_supplier.dropna().groupby(['firm_gvkey', 'year', 'quarter'])['esg_score_decline'].transform(lambda x: x.sum() / len(x))\n",
    "third_degree_supplier['esg_score_decline_rate'] = third_degree_supplier.dropna().groupby(['firm_gvkey', 'year', 'quarter'])['esg_score_decline'].transform(lambda x: x.sum() / len(x))\n",
    "first_degree_customer['esg_score_decline_rate'] = first_degree_customer.dropna().groupby(['firm_gvkey', 'year', 'quarter'])['esg_score_decline'].transform(lambda x: x.sum() / len(x))\n",
    "second_degree_customer['esg_score_decline_rate'] = second_degree_customer.dropna().groupby(['firm_gvkey', 'year', 'quarter'])['esg_score_decline'].transform(lambda x: x.sum() / len(x))\n",
    "third_degree_customer['esg_score_decline_rate'] = third_degree_customer.dropna().groupby(['firm_gvkey', 'year', 'quarter'])['esg_score_decline'].transform(lambda x: x.sum() / len(x))"
   ],
   "metadata": {
    "collapsed": false
   }
  },
  {
   "cell_type": "code",
   "execution_count": 149,
   "outputs": [
    {
     "data": {
      "text/plain": "0.4106678720759408"
     },
     "execution_count": 149,
     "metadata": {},
     "output_type": "execute_result"
    }
   ],
   "source": [
    "second_degree_customer.groupby(['firm_gvkey', 'year', 'quarter'])['esg_score_decline_rate'].apply(lambda x: np.where(x > 0.5, 1, 0)[0]).sum()/30362"
   ],
   "metadata": {
    "collapsed": false
   }
  },
  {
   "cell_type": "code",
   "execution_count": 151,
   "outputs": [],
   "source": [
    "first_degree_supplier.to_csv('./factset_revere_companies/ESG_scores/1-s.csv')\n",
    "second_degree_supplier.to_csv('./factset_revere_companies/ESG_scores/2-s.csv')\n",
    "third_degree_supplier.to_csv('./factset_revere_companies/ESG_scores/3-s.csv')\n",
    "first_degree_customer.to_csv('./factset_revere_companies/ESG_scores/1-c.csv')\n",
    "second_degree_customer.to_csv('./factset_revere_companies/ESG_scores/2-c.csv')\n",
    "third_degree_customer.to_csv('./factset_revere_companies/ESG_scores/3-c.csv')\n",
    "first_degree_supplier.groupby(['firm_gvkey', 'year', 'quarter'])['esg_score_decline_rate'].apply(lambda x: np.where(x > 0.5, 1, 0)[0]).to_csv('./factset_revere_companies/ESG_scores/1-s-firm.csv')\n",
    "second_degree_supplier.groupby(['firm_gvkey', 'year', 'quarter'])['esg_score_decline_rate'].apply(lambda x: np.where(x > 0.5, 1, 0)[0]).to_csv('./factset_revere_companies/ESG_scores/2-s-firm.csv')\n",
    "third_degree_supplier.groupby(['firm_gvkey', 'year', 'quarter'])['esg_score_decline_rate'].apply(lambda x: np.where(x > 0.5, 1, 0)[0]).to_csv('./factset_revere_companies/ESG_scores/3-s-firm.csv')\n",
    "first_degree_customer.groupby(['firm_gvkey', 'year', 'quarter'])['esg_score_decline_rate'].apply(lambda x: np.where(x > 0.5, 1, 0)[0]).to_csv('./factset_revere_companies/ESG_scores/1-c-firm.csv')\n",
    "second_degree_customer.groupby(['firm_gvkey', 'year', 'quarter'])['esg_score_decline_rate'].apply(lambda x: np.where(x > 0.5, 1, 0)[0]).to_csv('./factset_revere_companies/ESG_scores/2-c-firm.csv')\n",
    "third_degree_customer.groupby(['firm_gvkey', 'year', 'quarter'])['esg_score_decline_rate'].apply(lambda x: np.where(x > 0.5, 1, 0)[0]).to_csv('./factset_revere_companies/ESG_scores/3-c-firm.csv')"
   ],
   "metadata": {
    "collapsed": false
   }
  },
  {
   "cell_type": "code",
   "execution_count": 2,
   "outputs": [],
   "source": [
    "trucost = pd.read_pickle('./esg_scores/trucost.pkl', compression='zip')\n",
    "trucost_wrds_companies = pd.read_csv('./esg_scores/trucost_wrds_companies.csv')"
   ],
   "metadata": {
    "collapsed": false
   }
  },
  {
   "cell_type": "code",
   "execution_count": 4,
   "outputs": [],
   "source": [
    "trucost = trucost.loc[(trucost['dimensionname'] == 'Environmental Dimension') & (trucost['csascoretypename'] == 'Modeled') & (trucost['scoretype'] == 'Dimension') & (trucost['aspectname'] == 'Environmental Dimension') & (trucost['mostrecentsequence'] == 1)].drop_duplicates()\n",
    "environmental_scores = trucost[['scoredate', 'scorevalue', 'institutionid']].merge(trucost_wrds_companies[['gvkey', 'institutionid']],\n",
    "                                                                         on='institutionid',\n",
    "                                                                         how='left')\n",
    "# trucost.drop('institutionid', axis=1, inplace=True)\n",
    "environmental_scores['scoredate'] = pd.to_datetime(environmental_scores['scoredate'])\n",
    "environmental_scores['year'] = environmental_scores.scoredate.dt.year\n",
    "environmental_scores['quarter'] = environmental_scores.scoredate.dt.quarter\n",
    "environmental_scores.dropna(inplace=True)"
   ],
   "metadata": {
    "collapsed": false
   }
  },
  {
   "cell_type": "code",
   "execution_count": 5,
   "outputs": [],
   "source": [
    "third_degree_supplier = sc_link[['firm_gvkey', 'year', 'quarter', '3_degree_supplier']].drop_duplicates().dropna()\n",
    "third_degree_supplier['lst_yr'] = third_degree_supplier['year'] - 1\n",
    "third_degree_supplier = third_degree_supplier.merge(environmental_scores[['scorevalue', 'gvkey', 'year', 'quarter']],\n",
    "                                                    left_on=['3_degree_supplier', 'year', 'quarter'],\n",
    "                                                    right_on=['gvkey', 'year', 'quarter'],\n",
    "                                                    how='left')\n",
    "third_degree_supplier.drop('gvkey', axis=1, inplace=True)\n",
    "third_degree_supplier.drop_duplicates(inplace=True)\n",
    "third_degree_supplier.sort_values(['firm_gvkey', 'year', 'quarter', '3_degree_supplier'], inplace=True)\n",
    "third_degree_supplier['scorevalue'] = third_degree_supplier.groupby(['firm_gvkey', '3_degree_supplier'])['scorevalue'].fillna(method='ffill')\n",
    "third_degree_supplier = third_degree_supplier.merge(environmental_scores[['scorevalue', 'gvkey', 'year', 'quarter']],\n",
    "                                                    left_on=['3_degree_supplier', 'lst_yr', 'quarter'],\n",
    "                                                    right_on=['gvkey', 'year', 'quarter'],\n",
    "                                                    how='left',\n",
    "                                                    suffixes=('', '_1'))\n",
    "third_degree_supplier.rename({'scorevalue_1': 'lst_score'}, axis=1, inplace=True)\n",
    "third_degree_supplier.drop(['lst_yr', 'year_1', 'gvkey'], axis=1, inplace=True)\n",
    "third_degree_supplier.drop_duplicates(inplace=True)\n",
    "third_degree_supplier['lst_score'] = third_degree_supplier.groupby(['firm_gvkey', '3_degree_supplier'])['lst_score'].fillna(method='ffill')\n",
    "third_degree_supplier['esg_score_decline'] = np.where(third_degree_supplier['scorevalue'] < third_degree_supplier['lst_score'], 1, 0)\n",
    "second_degree_supplier = sc_link[['firm_gvkey', 'year', 'quarter', '2_degree_supplier']].drop_duplicates().dropna()\n",
    "second_degree_supplier['lst_yr'] = second_degree_supplier['year'] - 1\n",
    "second_degree_supplier = second_degree_supplier.merge(environmental_scores[['scorevalue', 'gvkey', 'year', 'quarter']],\n",
    "                                                      left_on=['2_degree_supplier', 'year', 'quarter'],\n",
    "                                                      right_on=['gvkey', 'year', 'quarter'],\n",
    "                                                      how='left')\n",
    "second_degree_supplier.drop('gvkey', axis=1, inplace=True)\n",
    "second_degree_supplier.drop_duplicates(inplace=True)\n",
    "second_degree_supplier.sort_values(['firm_gvkey', 'year', 'quarter', '2_degree_supplier'], inplace=True)\n",
    "second_degree_supplier['scorevalue'] = second_degree_supplier.groupby(['firm_gvkey', '2_degree_supplier'])['scorevalue'].fillna(method='ffill')\n",
    "second_degree_supplier = second_degree_supplier.merge(environmental_scores[['scorevalue', 'gvkey', 'year', 'quarter']],\n",
    "                                                      left_on=['2_degree_supplier', 'lst_yr', 'quarter'],\n",
    "                                                      right_on=['gvkey', 'year', 'quarter'],\n",
    "                                                      how='left',\n",
    "                                                      suffixes=('', '_1'))\n",
    "second_degree_supplier.rename({'scorevalue_1': 'lst_score'}, axis=1, inplace=True)\n",
    "second_degree_supplier.drop(['lst_yr', 'year_1', 'gvkey'], axis=1, inplace=True)\n",
    "second_degree_supplier.drop_duplicates(inplace=True)\n",
    "second_degree_supplier['lst_score'] = second_degree_supplier.groupby(['firm_gvkey', '2_degree_supplier'])['lst_score'].fillna(method='ffill')\n",
    "second_degree_supplier['esg_score_decline'] = np.where(second_degree_supplier['scorevalue'] < second_degree_supplier['lst_score'], 1, 0)\n",
    "first_degree_supplier = sc_link[['firm_gvkey', 'year', 'quarter', '1_degree_supplier']].drop_duplicates().dropna()\n",
    "first_degree_supplier['lst_yr'] = first_degree_supplier['year'] - 1\n",
    "first_degree_supplier = first_degree_supplier.merge(environmental_scores[['scorevalue', 'gvkey', 'year', 'quarter']],\n",
    "                                                    left_on=['1_degree_supplier', 'year', 'quarter'],\n",
    "                                                    right_on=['gvkey', 'year', 'quarter'],\n",
    "                                                    how='left')\n",
    "first_degree_supplier.drop('gvkey', axis=1, inplace=True)\n",
    "first_degree_supplier.drop_duplicates(inplace=True)\n",
    "first_degree_supplier.sort_values(['firm_gvkey', 'year', 'quarter', '1_degree_supplier'], inplace=True)\n",
    "first_degree_supplier['scorevalue'] = first_degree_supplier.groupby(['firm_gvkey', '1_degree_supplier'])['scorevalue'].fillna(method='ffill')\n",
    "first_degree_supplier = first_degree_supplier.merge(environmental_scores[['scorevalue', 'gvkey', 'year', 'quarter']],\n",
    "                                                    left_on=['1_degree_supplier', 'lst_yr', 'quarter'],\n",
    "                                                    right_on=['gvkey', 'year', 'quarter'],\n",
    "                                                    how='left',\n",
    "                                                    suffixes=('', '_1'))\n",
    "first_degree_supplier.rename({'scorevalue_1': 'lst_score'}, axis=1, inplace=True)\n",
    "first_degree_supplier.drop(['lst_yr', 'year_1', 'gvkey'], axis=1, inplace=True)\n",
    "first_degree_supplier.drop_duplicates(inplace=True)\n",
    "first_degree_supplier['lst_score'] = first_degree_supplier.groupby(['firm_gvkey', '1_degree_supplier'])['lst_score'].fillna(method='ffill')\n",
    "first_degree_supplier['esg_score_decline'] = np.where(first_degree_supplier['scorevalue'] < first_degree_supplier['lst_score'], 1, 0)"
   ],
   "metadata": {
    "collapsed": false
   }
  },
  {
   "cell_type": "code",
   "execution_count": 6,
   "outputs": [],
   "source": [
    "third_degree_customer = sc_link[['firm_gvkey', 'year', 'quarter', '3_degree_customer']].drop_duplicates().dropna()\n",
    "third_degree_customer['lst_yr'] = third_degree_customer['year'] - 1\n",
    "third_degree_customer = third_degree_customer.merge(environmental_scores[['scorevalue', 'gvkey', 'year', 'quarter']],\n",
    "                                                    left_on=['3_degree_customer', 'year', 'quarter'],\n",
    "                                                    right_on=['gvkey', 'year', 'quarter'],\n",
    "                                                    how='left')\n",
    "third_degree_customer.drop('gvkey', axis=1, inplace=True)\n",
    "third_degree_customer.drop_duplicates(inplace=True)\n",
    "third_degree_customer.sort_values(['firm_gvkey', 'year', 'quarter', '3_degree_customer'], inplace=True)\n",
    "third_degree_customer['scorevalue'] = third_degree_customer.groupby(['firm_gvkey', '3_degree_customer'])['scorevalue'].fillna(method='ffill')\n",
    "third_degree_customer = third_degree_customer.merge(environmental_scores[['scorevalue', 'gvkey', 'year', 'quarter']],\n",
    "                                                    left_on=['3_degree_customer', 'lst_yr', 'quarter'],\n",
    "                                                    right_on=['gvkey', 'year', 'quarter'],\n",
    "                                                    how='left',\n",
    "                                                    suffixes=('', '_1'))\n",
    "third_degree_customer.rename({'scorevalue_1': 'lst_score'}, axis=1, inplace=True)\n",
    "third_degree_customer.drop(['lst_yr', 'year_1', 'gvkey'], axis=1, inplace=True)\n",
    "third_degree_customer.drop_duplicates(inplace=True)\n",
    "third_degree_customer['lst_score'] = third_degree_customer.groupby(['firm_gvkey', '3_degree_customer'])['lst_score'].fillna(method='ffill')\n",
    "third_degree_customer['esg_score_decline'] = np.where(third_degree_customer['scorevalue'] < third_degree_customer['lst_score'], 1, 0)\n",
    "second_degree_customer = sc_link[['firm_gvkey', 'year', 'quarter', '2_degree_customer']].drop_duplicates().dropna()\n",
    "second_degree_customer['lst_yr'] = second_degree_customer['year'] - 1\n",
    "second_degree_customer = second_degree_customer.merge(environmental_scores[['scorevalue', 'gvkey', 'year', 'quarter']],\n",
    "                                                      left_on=['2_degree_customer', 'year', 'quarter'],\n",
    "                                                      right_on=['gvkey', 'year', 'quarter'],\n",
    "                                                      how='left')\n",
    "second_degree_customer.drop('gvkey', axis=1, inplace=True)\n",
    "second_degree_customer.drop_duplicates(inplace=True)\n",
    "second_degree_customer.sort_values(['firm_gvkey', 'year', 'quarter', '2_degree_customer'], inplace=True)\n",
    "second_degree_customer['scorevalue'] = second_degree_customer.groupby(['firm_gvkey', '2_degree_customer'])['scorevalue'].fillna(method='ffill')\n",
    "second_degree_customer = second_degree_customer.merge(environmental_scores[['scorevalue', 'gvkey', 'year', 'quarter']],\n",
    "                                                      left_on=['2_degree_customer', 'lst_yr', 'quarter'],\n",
    "                                                      right_on=['gvkey', 'year', 'quarter'],\n",
    "                                                      how='left',\n",
    "                                                      suffixes=('', '_1'))\n",
    "second_degree_customer.rename({'scorevalue_1': 'lst_score'}, axis=1, inplace=True)\n",
    "second_degree_customer.drop(['lst_yr', 'year_1', 'gvkey'], axis=1, inplace=True)\n",
    "second_degree_customer.drop_duplicates(inplace=True)\n",
    "second_degree_customer['lst_score'] = second_degree_customer.groupby(['firm_gvkey', '2_degree_customer'])['lst_score'].fillna(method='ffill')\n",
    "second_degree_customer['esg_score_decline'] = np.where(second_degree_customer['scorevalue'] < second_degree_customer['lst_score'], 1, 0)\n",
    "first_degree_customer = sc_link[['firm_gvkey', 'year', 'quarter', '1_degree_customer']].drop_duplicates().dropna()\n",
    "first_degree_customer['lst_yr'] = first_degree_customer['year'] - 1\n",
    "first_degree_customer = first_degree_customer.merge(environmental_scores[['scorevalue', 'gvkey', 'year', 'quarter']],\n",
    "                                                    left_on=['1_degree_customer', 'year', 'quarter'],\n",
    "                                                    right_on=['gvkey', 'year', 'quarter'],\n",
    "                                                    how='left')\n",
    "first_degree_customer.drop('gvkey', axis=1, inplace=True)\n",
    "first_degree_customer.drop_duplicates(inplace=True)\n",
    "first_degree_customer.sort_values(['firm_gvkey', 'year', 'quarter', '1_degree_customer'], inplace=True)\n",
    "first_degree_customer['scorevalue'] = first_degree_customer.groupby(['firm_gvkey', '1_degree_customer'])['scorevalue'].fillna(method='ffill')\n",
    "first_degree_customer = first_degree_customer.merge(environmental_scores[['scorevalue', 'gvkey', 'year', 'quarter']],\n",
    "                                                    left_on=['1_degree_customer', 'lst_yr', 'quarter'],\n",
    "                                                    right_on=['gvkey', 'year', 'quarter'],\n",
    "                                                    how='left',\n",
    "                                                    suffixes=('', '_1'))\n",
    "first_degree_customer.rename({'scorevalue_1': 'lst_score'}, axis=1, inplace=True)\n",
    "first_degree_customer.drop(['lst_yr', 'year_1', 'gvkey'], axis=1, inplace=True)\n",
    "first_degree_customer.drop_duplicates(inplace=True)\n",
    "first_degree_customer['lst_score'] = first_degree_customer.groupby(['firm_gvkey', '1_degree_customer'])['lst_score'].fillna(method='ffill')\n",
    "first_degree_customer['esg_score_decline'] = np.where(first_degree_customer['scorevalue'] < first_degree_customer['lst_score'], 1, 0)"
   ],
   "metadata": {
    "collapsed": false
   }
  },
  {
   "cell_type": "code",
   "execution_count": 7,
   "outputs": [],
   "source": [
    "# quarter\n",
    "first_degree_supplier = first_degree_supplier.dropna()\n",
    "second_degree_supplier = second_degree_supplier.dropna()\n",
    "third_degree_supplier = third_degree_supplier.dropna()\n",
    "first_degree_customer = first_degree_customer.dropna()\n",
    "second_degree_customer = second_degree_customer.dropna()\n",
    "third_degree_customer = third_degree_customer.dropna()\n",
    "first_degree_supplier['environmental_score_decline_rate'] = first_degree_supplier.dropna().groupby(['firm_gvkey', 'year', 'quarter'])['esg_score_decline'].transform(lambda x: x.sum() / len(x))\n",
    "second_degree_supplier['environmental_score_decline_rate'] = second_degree_supplier.dropna().groupby(['firm_gvkey', 'year', 'quarter'])['esg_score_decline'].transform(lambda x: x.sum() / len(x))\n",
    "third_degree_supplier['environmental_score_decline_rate'] = third_degree_supplier.dropna().groupby(['firm_gvkey', 'year', 'quarter'])['esg_score_decline'].transform(lambda x: x.sum() / len(x))\n",
    "first_degree_customer['environmental_score_decline_rate'] = first_degree_customer.dropna().groupby(['firm_gvkey', 'year', 'quarter'])['esg_score_decline'].transform(lambda x: x.sum() / len(x))\n",
    "second_degree_customer['environmental_score_decline_rate'] = second_degree_customer.dropna().groupby(['firm_gvkey', 'year', 'quarter'])['esg_score_decline'].transform(lambda x: x.sum() / len(x))\n",
    "third_degree_customer['environmental_score_decline_rate'] = third_degree_customer.dropna().groupby(['firm_gvkey', 'year', 'quarter'])['esg_score_decline'].transform(lambda x: x.sum() / len(x))"
   ],
   "metadata": {
    "collapsed": false
   }
  },
  {
   "cell_type": "code",
   "execution_count": 46,
   "outputs": [
    {
     "data": {
      "text/plain": "       firm_gvkey  year  1_degree_supplier  scorevalue  lst_score  \\\n19530      1004.0  2016             5047.0        59.0       66.0   \n19531      1004.0  2017             5047.0        61.0       59.0   \n19525      1004.0  2018             5047.0        62.0       61.0   \n19520      1004.0  2019             1300.0        44.0       42.0   \n19519      1004.0  2019             1598.0        31.0       27.0   \n19521      1004.0  2019             5047.0        53.0       62.0   \n19505      1004.0  2020             1300.0        44.0       44.0   \n19504      1004.0  2020             1598.0        31.0       31.0   \n19507      1004.0  2020             4199.0        59.0       48.0   \n19506      1004.0  2020             5047.0        55.0       53.0   \n19513      1004.0  2021             1300.0        44.0       44.0   \n19512      1004.0  2021             1598.0        31.0       31.0   \n19515      1004.0  2021             4199.0        55.0       59.0   \n19514      1004.0  2021             5047.0        47.0       55.0   \n19517      1004.0  2021            10983.0        37.0       47.0   \n19516      1004.0  2021           148349.0        22.0       22.0   \n\n       esg_score_decline  environmental_score_decline_rate  \n19530                  1                          1.000000  \n19531                  0                          0.000000  \n19525                  0                          0.000000  \n19520                  0                          0.333333  \n19519                  0                          0.333333  \n19521                  1                          0.333333  \n19505                  0                          0.000000  \n19504                  0                          0.000000  \n19507                  0                          0.000000  \n19506                  0                          0.000000  \n19513                  0                          0.500000  \n19512                  0                          0.500000  \n19515                  1                          0.500000  \n19514                  1                          0.500000  \n19517                  1                          0.500000  \n19516                  0                          0.500000  ",
      "text/html": "<div>\n<style scoped>\n    .dataframe tbody tr th:only-of-type {\n        vertical-align: middle;\n    }\n\n    .dataframe tbody tr th {\n        vertical-align: top;\n    }\n\n    .dataframe thead th {\n        text-align: right;\n    }\n</style>\n<table border=\"1\" class=\"dataframe\">\n  <thead>\n    <tr style=\"text-align: right;\">\n      <th></th>\n      <th>firm_gvkey</th>\n      <th>year</th>\n      <th>1_degree_supplier</th>\n      <th>scorevalue</th>\n      <th>lst_score</th>\n      <th>esg_score_decline</th>\n      <th>environmental_score_decline_rate</th>\n    </tr>\n  </thead>\n  <tbody>\n    <tr>\n      <th>19530</th>\n      <td>1004.0</td>\n      <td>2016</td>\n      <td>5047.0</td>\n      <td>59.0</td>\n      <td>66.0</td>\n      <td>1</td>\n      <td>1.000000</td>\n    </tr>\n    <tr>\n      <th>19531</th>\n      <td>1004.0</td>\n      <td>2017</td>\n      <td>5047.0</td>\n      <td>61.0</td>\n      <td>59.0</td>\n      <td>0</td>\n      <td>0.000000</td>\n    </tr>\n    <tr>\n      <th>19525</th>\n      <td>1004.0</td>\n      <td>2018</td>\n      <td>5047.0</td>\n      <td>62.0</td>\n      <td>61.0</td>\n      <td>0</td>\n      <td>0.000000</td>\n    </tr>\n    <tr>\n      <th>19520</th>\n      <td>1004.0</td>\n      <td>2019</td>\n      <td>1300.0</td>\n      <td>44.0</td>\n      <td>42.0</td>\n      <td>0</td>\n      <td>0.333333</td>\n    </tr>\n    <tr>\n      <th>19519</th>\n      <td>1004.0</td>\n      <td>2019</td>\n      <td>1598.0</td>\n      <td>31.0</td>\n      <td>27.0</td>\n      <td>0</td>\n      <td>0.333333</td>\n    </tr>\n    <tr>\n      <th>19521</th>\n      <td>1004.0</td>\n      <td>2019</td>\n      <td>5047.0</td>\n      <td>53.0</td>\n      <td>62.0</td>\n      <td>1</td>\n      <td>0.333333</td>\n    </tr>\n    <tr>\n      <th>19505</th>\n      <td>1004.0</td>\n      <td>2020</td>\n      <td>1300.0</td>\n      <td>44.0</td>\n      <td>44.0</td>\n      <td>0</td>\n      <td>0.000000</td>\n    </tr>\n    <tr>\n      <th>19504</th>\n      <td>1004.0</td>\n      <td>2020</td>\n      <td>1598.0</td>\n      <td>31.0</td>\n      <td>31.0</td>\n      <td>0</td>\n      <td>0.000000</td>\n    </tr>\n    <tr>\n      <th>19507</th>\n      <td>1004.0</td>\n      <td>2020</td>\n      <td>4199.0</td>\n      <td>59.0</td>\n      <td>48.0</td>\n      <td>0</td>\n      <td>0.000000</td>\n    </tr>\n    <tr>\n      <th>19506</th>\n      <td>1004.0</td>\n      <td>2020</td>\n      <td>5047.0</td>\n      <td>55.0</td>\n      <td>53.0</td>\n      <td>0</td>\n      <td>0.000000</td>\n    </tr>\n    <tr>\n      <th>19513</th>\n      <td>1004.0</td>\n      <td>2021</td>\n      <td>1300.0</td>\n      <td>44.0</td>\n      <td>44.0</td>\n      <td>0</td>\n      <td>0.500000</td>\n    </tr>\n    <tr>\n      <th>19512</th>\n      <td>1004.0</td>\n      <td>2021</td>\n      <td>1598.0</td>\n      <td>31.0</td>\n      <td>31.0</td>\n      <td>0</td>\n      <td>0.500000</td>\n    </tr>\n    <tr>\n      <th>19515</th>\n      <td>1004.0</td>\n      <td>2021</td>\n      <td>4199.0</td>\n      <td>55.0</td>\n      <td>59.0</td>\n      <td>1</td>\n      <td>0.500000</td>\n    </tr>\n    <tr>\n      <th>19514</th>\n      <td>1004.0</td>\n      <td>2021</td>\n      <td>5047.0</td>\n      <td>47.0</td>\n      <td>55.0</td>\n      <td>1</td>\n      <td>0.500000</td>\n    </tr>\n    <tr>\n      <th>19517</th>\n      <td>1004.0</td>\n      <td>2021</td>\n      <td>10983.0</td>\n      <td>37.0</td>\n      <td>47.0</td>\n      <td>1</td>\n      <td>0.500000</td>\n    </tr>\n    <tr>\n      <th>19516</th>\n      <td>1004.0</td>\n      <td>2021</td>\n      <td>148349.0</td>\n      <td>22.0</td>\n      <td>22.0</td>\n      <td>0</td>\n      <td>0.500000</td>\n    </tr>\n  </tbody>\n</table>\n</div>"
     },
     "execution_count": 46,
     "metadata": {},
     "output_type": "execute_result"
    }
   ],
   "source": [
    "first_degree_supplier.loc[(first_degree_supplier['firm_gvkey'] == 1004)].dropna()"
   ],
   "metadata": {
    "collapsed": false
   }
  },
  {
   "cell_type": "code",
   "execution_count": 8,
   "outputs": [],
   "source": [
    "first_degree_supplier.to_csv('./factset_revere_companies/Environmental_Dimension/quarter/1-s.csv')\n",
    "second_degree_supplier.to_csv('./factset_revere_companies/Environmental_Dimension/quarter/2-s.csv')\n",
    "third_degree_supplier.to_csv('./factset_revere_companies/Environmental_Dimension/quarter/3-s.csv')\n",
    "first_degree_customer.to_csv('./factset_revere_companies/Environmental_Dimension/quarter/1-c.csv')\n",
    "second_degree_customer.to_csv('./factset_revere_companies/Environmental_Dimension/quarter/2-c.csv')\n",
    "third_degree_customer.to_csv('./factset_revere_companies/Environmental_Dimension/quarter/3-c.csv')\n",
    "first_degree_supplier.groupby(['firm_gvkey', 'year', 'quarter'])['environmental_score_decline_rate'].apply(lambda x: np.where(x > 0.5, 1, 0)[0]).to_csv('./factset_revere_companies/Environmental_Dimension/quarter/1-s-firm.csv')\n",
    "second_degree_supplier.groupby(['firm_gvkey', 'year', 'quarter'])['environmental_score_decline_rate'].apply(lambda x: np.where(x > 0.5, 1, 0)[0]).to_csv('./factset_revere_companies/Environmental_Dimension/quarter/2-s-firm.csv')\n",
    "third_degree_supplier.groupby(['firm_gvkey', 'year', 'quarter'])['environmental_score_decline_rate'].apply(lambda x: np.where(x > 0.5, 1, 0)[0]).to_csv('./factset_revere_companies/Environmental_Dimension/quarter/3-s-firm.csv')\n",
    "first_degree_customer.groupby(['firm_gvkey', 'year', 'quarter'])['environmental_score_decline_rate'].apply(lambda x: np.where(x > 0.5, 1, 0)[0]).to_csv('./factset_revere_companies/Environmental_Dimension/quarter/1-c-firm.csv')\n",
    "second_degree_customer.groupby(['firm_gvkey', 'year', 'quarter'])['environmental_score_decline_rate'].apply(lambda x: np.where(x > 0.5, 1, 0)[0]).to_csv('./factset_revere_companies/Environmental_Dimension/quarter/2-c-firm.csv')\n",
    "third_degree_customer.groupby(['firm_gvkey', 'year', 'quarter'])['environmental_score_decline_rate'].apply(lambda x: np.where(x > 0.5, 1, 0)[0]).to_csv('./factset_revere_companies/Environmental_Dimension/quarter/3-c-firm.csv')"
   ],
   "metadata": {
    "collapsed": false
   }
  },
  {
   "cell_type": "code",
   "execution_count": 34,
   "outputs": [],
   "source": [
    "# year\n",
    "trucost = trucost.loc[(trucost['dimensionname'] == 'Environmental Dimension') & (trucost['csascoretypename'] == 'Modeled') & (trucost['scoretype'] == 'Dimension') & (trucost['aspectname'] == 'Environmental Dimension') & (trucost['mostrecentsequence'] == 1)].drop_duplicates()\n",
    "environmental_scores = trucost[['assessmentyear', 'scorevalue', 'institutionid']].merge(trucost_wrds_companies[['gvkey', 'institutionid']],\n",
    "                                                                                   on='institutionid',\n",
    "                                                                                   how='left')\n",
    "environmental_scores.dropna(inplace=True)"
   ],
   "metadata": {
    "collapsed": false
   }
  },
  {
   "cell_type": "code",
   "execution_count": 40,
   "outputs": [],
   "source": [
    "third_degree_supplier = sc_link[['firm_gvkey', 'year', '3_degree_supplier']].drop_duplicates().dropna()\n",
    "third_degree_supplier = third_degree_supplier.merge(environmental_scores[['scorevalue', 'gvkey', 'assessmentyear']],\n",
    "                                                    left_on=['3_degree_supplier', 'year'],\n",
    "                                                    right_on=['gvkey', 'assessmentyear'],\n",
    "                                                    how='left')\n",
    "third_degree_supplier.drop(['gvkey', 'assessmentyear'], axis=1, inplace=True)\n",
    "third_degree_supplier.drop_duplicates(inplace=True)\n",
    "third_degree_supplier.sort_values(['firm_gvkey', 'year', '3_degree_supplier'], inplace=True)\n",
    "third_degree_supplier['scorevalue'] = third_degree_supplier.groupby(['firm_gvkey', '3_degree_supplier'])['scorevalue'].fillna(method='ffill')\n",
    "third_degree_supplier['lst_score'] = third_degree_supplier.groupby(['firm_gvkey', '3_degree_supplier'])['scorevalue'].shift(1)\n",
    "third_degree_supplier['esg_score_decline'] = np.where(third_degree_supplier['scorevalue'] < third_degree_supplier['lst_score'], 1, 0)\n",
    "second_degree_supplier = sc_link[['firm_gvkey', 'year', '2_degree_supplier']].drop_duplicates().dropna()\n",
    "second_degree_supplier = second_degree_supplier.merge(environmental_scores[['scorevalue', 'gvkey', 'assessmentyear']],\n",
    "                                                    left_on=['2_degree_supplier', 'year'],\n",
    "                                                    right_on=['gvkey', 'assessmentyear'],\n",
    "                                                    how='left')\n",
    "second_degree_supplier.drop(['gvkey', 'assessmentyear'], axis=1, inplace=True)\n",
    "second_degree_supplier.drop_duplicates(inplace=True)\n",
    "second_degree_supplier.sort_values(['firm_gvkey', 'year', '2_degree_supplier'], inplace=True)\n",
    "second_degree_supplier['scorevalue'] = second_degree_supplier.groupby(['firm_gvkey', '2_degree_supplier'])['scorevalue'].fillna(method='ffill')\n",
    "second_degree_supplier['lst_score'] = second_degree_supplier.groupby(['firm_gvkey', '2_degree_supplier'])['scorevalue'].shift(1)\n",
    "second_degree_supplier['esg_score_decline'] = np.where(second_degree_supplier['scorevalue'] < second_degree_supplier['lst_score'], 1, 0)\n",
    "first_degree_supplier = sc_link[['firm_gvkey', 'year', '1_degree_supplier']].drop_duplicates().dropna()\n",
    "first_degree_supplier = first_degree_supplier.merge(environmental_scores[['scorevalue', 'gvkey', 'assessmentyear']],\n",
    "                                                      left_on=['1_degree_supplier', 'year'],\n",
    "                                                      right_on=['gvkey', 'assessmentyear'],\n",
    "                                                      how='left')\n",
    "first_degree_supplier.drop(['gvkey', 'assessmentyear'], axis=1, inplace=True)\n",
    "first_degree_supplier.drop_duplicates(inplace=True)\n",
    "first_degree_supplier.sort_values(['firm_gvkey', 'year', '1_degree_supplier'], inplace=True)\n",
    "first_degree_supplier['scorevalue'] = first_degree_supplier.groupby(['firm_gvkey', '1_degree_supplier'])['scorevalue'].fillna(method='ffill')\n",
    "first_degree_supplier['lst_score'] = first_degree_supplier.groupby(['firm_gvkey', '1_degree_supplier'])['scorevalue'].shift(1)\n",
    "first_degree_supplier['esg_score_decline'] = np.where(first_degree_supplier['scorevalue'] < first_degree_supplier['lst_score'], 1, 0)"
   ],
   "metadata": {
    "collapsed": false
   }
  },
  {
   "cell_type": "code",
   "execution_count": 49,
   "outputs": [],
   "source": [
    "third_degree_customer = sc_link[['firm_gvkey', 'year', '3_degree_customer']].drop_duplicates().dropna()\n",
    "third_degree_customer = third_degree_customer.merge(environmental_scores[['scorevalue', 'gvkey', 'assessmentyear']],\n",
    "                                                    left_on=['3_degree_customer', 'year'],\n",
    "                                                    right_on=['gvkey', 'assessmentyear'],\n",
    "                                                    how='left')\n",
    "third_degree_customer.drop(['gvkey', 'assessmentyear'], axis=1, inplace=True)\n",
    "third_degree_customer.drop_duplicates(inplace=True)\n",
    "third_degree_customer.sort_values(['firm_gvkey', 'year', '3_degree_customer'], inplace=True)\n",
    "third_degree_customer['scorevalue'] = third_degree_customer.groupby(['firm_gvkey', '3_degree_customer'])['scorevalue'].fillna(method='ffill')\n",
    "third_degree_customer['lst_score'] = third_degree_customer.groupby(['firm_gvkey', '3_degree_customer'])['scorevalue'].shift(1)\n",
    "third_degree_customer['esg_score_decline'] = np.where(third_degree_customer['scorevalue'] < third_degree_customer['lst_score'], 1, 0)\n",
    "second_degree_customer = sc_link[['firm_gvkey', 'year', '2_degree_customer']].drop_duplicates().dropna()\n",
    "second_degree_customer = second_degree_customer.merge(environmental_scores[['scorevalue', 'gvkey', 'assessmentyear']],\n",
    "                                                      left_on=['2_degree_customer', 'year'],\n",
    "                                                      right_on=['gvkey', 'assessmentyear'],\n",
    "                                                      how='left')\n",
    "second_degree_customer.drop(['gvkey', 'assessmentyear'], axis=1, inplace=True)\n",
    "second_degree_customer.drop_duplicates(inplace=True)\n",
    "second_degree_customer.sort_values(['firm_gvkey', 'year', '2_degree_customer'], inplace=True)\n",
    "second_degree_customer['scorevalue'] = second_degree_customer.groupby(['firm_gvkey', '2_degree_customer'])['scorevalue'].fillna(method='ffill')\n",
    "second_degree_customer['lst_score'] = second_degree_customer.groupby(['firm_gvkey', '2_degree_customer'])['scorevalue'].shift(1)\n",
    "second_degree_customer['esg_score_decline'] = np.where(second_degree_customer['scorevalue'] < second_degree_customer['lst_score'], 1, 0)\n",
    "first_degree_customer = sc_link[['firm_gvkey', 'year', '1_degree_customer']].drop_duplicates().dropna()\n",
    "first_degree_customer = first_degree_customer.merge(environmental_scores[['scorevalue', 'gvkey', 'assessmentyear']],\n",
    "                                                    left_on=['1_degree_customer', 'year'],\n",
    "                                                    right_on=['gvkey', 'assessmentyear'],\n",
    "                                                    how='left')\n",
    "first_degree_customer.drop(['gvkey', 'assessmentyear'], axis=1, inplace=True)\n",
    "first_degree_customer.drop_duplicates(inplace=True)\n",
    "first_degree_customer.sort_values(['firm_gvkey', 'year', '1_degree_customer'], inplace=True)\n",
    "first_degree_customer['scorevalue'] = first_degree_customer.groupby(['firm_gvkey', '1_degree_customer'])['scorevalue'].fillna(method='ffill')\n",
    "first_degree_customer['lst_score'] = first_degree_customer.groupby(['firm_gvkey', '1_degree_customer'])['scorevalue'].shift(1)\n",
    "first_degree_customer['esg_score_decline'] = np.where(first_degree_customer['scorevalue'] < first_degree_customer['lst_score'], 1, 0)"
   ],
   "metadata": {
    "collapsed": false
   }
  },
  {
   "cell_type": "code",
   "execution_count": 50,
   "outputs": [],
   "source": [
    "first_degree_supplier = first_degree_supplier.dropna()\n",
    "second_degree_supplier = second_degree_supplier.dropna()\n",
    "third_degree_supplier = third_degree_supplier.dropna()\n",
    "first_degree_customer = first_degree_customer.dropna()\n",
    "second_degree_customer = second_degree_customer.dropna()\n",
    "third_degree_customer = third_degree_customer.dropna()"
   ],
   "metadata": {
    "collapsed": false
   }
  },
  {
   "cell_type": "code",
   "execution_count": 51,
   "outputs": [],
   "source": [
    "first_degree_supplier['environmental_score_decline_rate'] = first_degree_supplier.dropna().groupby(['firm_gvkey', 'year'])['esg_score_decline'].transform(lambda x: x.sum() / len(x))\n",
    "second_degree_supplier['environmental_score_decline_rate'] = second_degree_supplier.dropna().groupby(['firm_gvkey', 'year'])['esg_score_decline'].transform(lambda x: x.sum() / len(x))\n",
    "third_degree_supplier['environmental_score_decline_rate'] = third_degree_supplier.dropna().groupby(['firm_gvkey', 'year'])['esg_score_decline'].transform(lambda x: x.sum() / len(x))\n",
    "first_degree_customer['environmental_score_decline_rate'] = first_degree_customer.dropna().groupby(['firm_gvkey', 'year'])['esg_score_decline'].transform(lambda x: x.sum() / len(x))\n",
    "second_degree_customer['environmental_score_decline_rate'] = second_degree_customer.dropna().groupby(['firm_gvkey', 'year'])['esg_score_decline'].transform(lambda x: x.sum() / len(x))\n",
    "third_degree_customer['environmental_score_decline_rate'] = third_degree_customer.dropna().groupby(['firm_gvkey', 'year'])['esg_score_decline'].transform(lambda x: x.sum() / len(x))"
   ],
   "metadata": {
    "collapsed": false
   }
  },
  {
   "cell_type": "code",
   "execution_count": 54,
   "outputs": [],
   "source": [
    "first_degree_supplier.groupby(['firm_gvkey', 'year'])['environmental_score_decline_rate'].apply(lambda x: np.where(x > 0.5, 1, 0)[0]).to_csv('./factset_revere_companies/Environmental_Dimension/1-s-firm.csv')\n",
    "second_degree_supplier.groupby(['firm_gvkey', 'year'])['environmental_score_decline_rate'].apply(lambda x: np.where(x > 0.5, 1, 0)[0]).to_csv('./factset_revere_companies/Environmental_Dimension/2-s-firm.csv')\n",
    "third_degree_supplier.groupby(['firm_gvkey', 'year'])['environmental_score_decline_rate'].apply(lambda x: np.where(x > 0.5, 1, 0)[0]).to_csv('./factset_revere_companies/Environmental_Dimension/3-s-firm.csv')\n",
    "first_degree_customer.groupby(['firm_gvkey', 'year'])['environmental_score_decline_rate'].apply(lambda x: np.where(x > 0.5, 1, 0)[0]).to_csv('./factset_revere_companies/Environmental_Dimension/1-c-firm.csv')\n",
    "second_degree_customer.groupby(['firm_gvkey', 'year'])['environmental_score_decline_rate'].apply(lambda x: np.where(x > 0.5, 1, 0)[0]).to_csv('./factset_revere_companies/Environmental_Dimension/2-c-firm.csv')\n",
    "third_degree_customer.groupby(['firm_gvkey', 'year'])['environmental_score_decline_rate'].apply(lambda x: np.where(x > 0.5, 1, 0)[0]).to_csv('./factset_revere_companies/Environmental_Dimension/3-c-firm.csv')"
   ],
   "metadata": {
    "collapsed": false
   }
  },
  {
   "cell_type": "code",
   "execution_count": 55,
   "outputs": [],
   "source": [
    "first_degree_supplier.to_csv('./factset_revere_companies/Environmental_Dimension/year/1-s.csv')\n",
    "second_degree_supplier.to_csv('./factset_revere_companies/Environmental_Dimension/year/2-s.csv')\n",
    "third_degree_supplier.to_csv('./factset_revere_companies/Environmental_Dimension/year/3-s.csv')\n",
    "first_degree_customer.to_csv('./factset_revere_companies/Environmental_Dimension/year/1-c.csv')\n",
    "second_degree_customer.to_csv('./factset_revere_companies/Environmental_Dimension/year/2-c.csv')\n",
    "third_degree_customer.to_csv('./factset_revere_companies/Environmental_Dimension/year/3-c.csv')"
   ],
   "metadata": {
    "collapsed": false
   }
  }
 ],
 "metadata": {
  "kernelspec": {
   "display_name": "Python 3",
   "language": "python",
   "name": "python3"
  },
  "language_info": {
   "codemirror_mode": {
    "name": "ipython",
    "version": 2
   },
   "file_extension": ".py",
   "mimetype": "text/x-python",
   "name": "python",
   "nbconvert_exporter": "python",
   "pygments_lexer": "ipython2",
   "version": "2.7.6"
  }
 },
 "nbformat": 4,
 "nbformat_minor": 0
}
