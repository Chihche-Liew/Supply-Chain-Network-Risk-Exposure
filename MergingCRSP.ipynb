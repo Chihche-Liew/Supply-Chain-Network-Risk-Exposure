{
 "cells": [
  {
   "cell_type": "code",
   "execution_count": 1,
   "metadata": {
    "collapsed": true
   },
   "outputs": [],
   "source": [
    "import pandas as pd\n",
    "import dask.dataframe as dd\n",
    "import tqdm\n",
    "import numpy as np\n",
    "import datetime as dt"
   ]
  },
  {
   "cell_type": "code",
   "execution_count": 2,
   "outputs": [],
   "source": [
    "sc = pd.read_csv('./supply_chain/CustomerSupplier_Detail_Link.csv')\n",
    "quarter = pd.DataFrame(\n",
    "    {'quarter': [1, 2, 3, 4],\n",
    "     'lnk': [1, 1, 1, 1]}\n",
    ")\n",
    "sc['lnk'] = 1\n",
    "sc = sc.merge(quarter,\n",
    "              how='left',\n",
    "              on='lnk')\n",
    "del quarter\n",
    "del sc['lnk']"
   ],
   "metadata": {
    "collapsed": false
   }
  },
  {
   "cell_type": "code",
   "execution_count": 3,
   "outputs": [],
   "source": [
    "pol_covid = pd.read_stata('./risk_exposure/08_all_scores/pol_covid.dta')\n",
    "cc = pd.read_csv('./risk_exposure/08_all_scores/cc_scores.csv')"
   ],
   "metadata": {
    "collapsed": false
   }
  },
  {
   "cell_type": "code",
   "execution_count": 4,
   "outputs": [],
   "source": [
    "supplier = sc[['GVKEY2', 'GVKEY1', 'y', 'quarter', 'SALECS']]\n",
    "supplier.columns = ['firm_gvkey', 'supplier_gvkey', 'year', 'quarter', 'sale_cs']\n",
    "\n",
    "customer = sc[['GVKEY1', 'GVKEY2', 'y', 'quarter', 'SALECS']]\n",
    "customer.columns = ['firm_gvkey', 'customer_gvkey', 'year', 'quarter', 'sale_cs']\n",
    "\n",
    "supplier = supplier[supplier['firm_gvkey'].notna() & supplier['supplier_gvkey'].notna()]\n",
    "customer = customer[customer['firm_gvkey'].notna() & customer['customer_gvkey'].notna()]"
   ],
   "metadata": {
    "collapsed": false
   }
  },
  {
   "cell_type": "code",
   "execution_count": 5,
   "outputs": [
    {
     "name": "stderr",
     "output_type": "stream",
     "text": [
      "C:\\Users\\Silas Liew\\AppData\\Local\\Temp\\ipykernel_29072\\3741961639.py:4: FutureWarning: The pandas.np module is deprecated and will be removed from pandas in a future version. Import numpy directly instead.\n",
      "  pol_covid['quarter'] = pd.np.select([(pol_covid['month'] <= 3) & (pol_covid['month'] >= 1),\n"
     ]
    }
   ],
   "source": [
    "pol_covid['date'] = pd.to_datetime(pol_covid['date'])\n",
    "pol_covid['year'] = pol_covid.date.dt.year\n",
    "pol_covid['month'] = pol_covid.date.dt.month\n",
    "pol_covid['quarter'] = pd.np.select([(pol_covid['month'] <= 3) & (pol_covid['month'] >= 1),\n",
    "                                     (pol_covid['month'] <= 6) & (pol_covid['month'] >= 4),\n",
    "                                     (pol_covid['month'] <= 9) & (pol_covid['month'] >= 7),\n",
    "                                     (pol_covid['month'] <= 12) & (pol_covid['month'] >= 10)],\n",
    "                                    [1, 2, 3, 4])\n",
    "pol_covid = pol_covid[['gvkey', 'year', 'quarter', 'Risk', 'Covid_Exposure']]\n",
    "cc = cc[['gvkey', 'year', 'quarter', 'cc_expo_ew']]"
   ],
   "metadata": {
    "collapsed": false
   }
  },
  {
   "cell_type": "code",
   "execution_count": 6,
   "outputs": [],
   "source": [
    "pol_agg = pd.DataFrame()\n",
    "covid_agg = pd.DataFrame()\n",
    "cc_agg = pd.DataFrame()\n",
    "pol_agg['pol'] = pol_covid.groupby(['gvkey', 'year', 'quarter'])['Risk'].mean()\n",
    "covid_agg['covid'] = pol_covid.groupby(['gvkey', 'year', 'quarter'])['Covid_Exposure'].mean()\n",
    "cc_agg['cc'] = cc.groupby(['gvkey', 'year', 'quarter'])['cc_expo_ew'].mean()\n",
    "pol_agg = pol_agg.reset_index()\n",
    "covid_agg = covid_agg.reset_index()\n",
    "cc_agg = cc_agg.reset_index()\n",
    "pol_agg['gvkey'] = pol_agg['gvkey'].astype(float)\n",
    "covid_agg['gvkey'] = covid_agg['gvkey'].astype(float)\n",
    "cc_agg['gvkey'] = cc_agg['gvkey'].astype(float)"
   ],
   "metadata": {
    "collapsed": false
   }
  },
  {
   "cell_type": "code",
   "execution_count": 7,
   "outputs": [],
   "source": [
    "supplier = supplier.merge(pol_agg,\n",
    "                          how='left',\n",
    "                          left_on=['firm_gvkey', 'year', 'quarter'],\n",
    "                          right_on=['gvkey', 'year', 'quarter'])\n",
    "supplier = supplier.drop(['gvkey'], axis=1)\n",
    "supplier = supplier.merge(covid_agg,\n",
    "                          how='left',\n",
    "                          left_on=['firm_gvkey', 'year', 'quarter'],\n",
    "                          right_on=['gvkey', 'year', 'quarter'])\n",
    "supplier = supplier.drop(['gvkey'], axis=1)\n",
    "supplier = supplier.merge(cc_agg,\n",
    "                          how='left',\n",
    "                          left_on=['firm_gvkey', 'year', 'quarter'],\n",
    "                          right_on=['gvkey', 'year', 'quarter'])\n",
    "supplier = supplier.drop(['gvkey'], axis=1)\n",
    "supplier = supplier.rename(columns={'pol': 'firm_pol',\n",
    "                                    'covid': 'firm_covid',\n",
    "                                    'cc': 'firm_cc'})\n",
    "\n",
    "\n",
    "supplier = supplier.merge(pol_agg,\n",
    "                          how='left',\n",
    "                          left_on=['supplier_gvkey', 'year', 'quarter'],\n",
    "                          right_on=['gvkey', 'year', 'quarter'])\n",
    "supplier = supplier.drop(['gvkey'], axis=1)\n",
    "supplier = supplier.merge(covid_agg,\n",
    "                          how='left',\n",
    "                          left_on=['supplier_gvkey', 'year', 'quarter'],\n",
    "                          right_on=['gvkey', 'year', 'quarter'])\n",
    "supplier = supplier.drop(['gvkey'], axis=1)\n",
    "supplier = supplier.merge(cc_agg,\n",
    "                          how='left',\n",
    "                          left_on=['supplier_gvkey', 'year', 'quarter'],\n",
    "                          right_on=['gvkey', 'year', 'quarter'])\n",
    "supplier = supplier.drop(['gvkey'], axis=1)\n",
    "supplier = supplier.rename(columns={'pol': 'supplier_pol',\n",
    "                                    'covid': 'supplier_covid',\n",
    "                                    'cc': 'supplier_cc'})\n",
    "\n",
    "\n",
    "supplier = supplier.drop_duplicates()\n",
    "supplier = supplier[supplier['year'] >= 2006]"
   ],
   "metadata": {
    "collapsed": false
   }
  },
  {
   "cell_type": "code",
   "execution_count": 8,
   "outputs": [],
   "source": [
    "customer = customer.merge(pol_agg,\n",
    "                          how='left',\n",
    "                          left_on=['firm_gvkey', 'year', 'quarter'],\n",
    "                          right_on=['gvkey', 'year', 'quarter'])\n",
    "customer = customer.drop(['gvkey'], axis=1)\n",
    "customer = customer.merge(covid_agg,\n",
    "                          how='left',\n",
    "                          left_on=['firm_gvkey', 'year', 'quarter'],\n",
    "                          right_on=['gvkey', 'year', 'quarter'])\n",
    "customer = customer.drop(['gvkey'], axis=1)\n",
    "customer = customer.merge(cc_agg,\n",
    "                          how='left',\n",
    "                          left_on=['firm_gvkey', 'year', 'quarter'],\n",
    "                          right_on=['gvkey', 'year', 'quarter'])\n",
    "customer = customer.drop(['gvkey'], axis=1)\n",
    "customer = customer.rename(columns={'pol': 'firm_pol',\n",
    "                                    'covid': 'firm_covid',\n",
    "                                    'cc': 'firm_cc'})\n",
    "\n",
    "\n",
    "customer = customer.merge(pol_agg,\n",
    "                          how='left',\n",
    "                          left_on=['customer_gvkey', 'year', 'quarter'],\n",
    "                          right_on=['gvkey', 'year', 'quarter'])\n",
    "customer = customer.drop(['gvkey'], axis=1)\n",
    "customer = customer.merge(covid_agg,\n",
    "                          how='left',\n",
    "                          left_on=['customer_gvkey', 'year', 'quarter'],\n",
    "                          right_on=['gvkey', 'year', 'quarter'])\n",
    "customer = customer.drop(['gvkey'], axis=1)\n",
    "customer = customer.merge(cc_agg,\n",
    "                          how='left',\n",
    "                          left_on=['customer_gvkey', 'year', 'quarter'],\n",
    "                          right_on=['gvkey', 'year', 'quarter'])\n",
    "customer = customer.drop(['gvkey'], axis=1)\n",
    "customer = customer.rename(columns={'pol': 'customer_pol',\n",
    "                                    'covid': 'customer_covid',\n",
    "                                    'cc': 'customer_cc'})\n",
    "\n",
    "\n",
    "customer = customer.drop_duplicates()\n",
    "customer = customer[customer['year'] >= 2006]"
   ],
   "metadata": {
    "collapsed": false
   }
  },
  {
   "cell_type": "code",
   "execution_count": 9,
   "outputs": [],
   "source": [
    "sc = pd.read_csv('./supply_chain/CustomerSupplier_Detail_Link.csv')\n",
    "sc['SALECS'] = np.where(sc['SALECS'] < 0, 0, sc['SALECS'])\n",
    "customer_sale_t = sc.groupby(['GVKEY1', 'y'])['SALECS'].sum().reset_index(0).rename(columns={'SALECS': 'sale_t'}).reset_index(0)\n",
    "supplier_sale_t = sc.groupby(['GVKEY2', 'y'])['SALECS'].sum().reset_index(0).rename(columns={'SALECS': 'sale_t'}).reset_index(0)\n",
    "supplier = supplier.merge(supplier_sale_t, how='left', left_on=['firm_gvkey', 'year'], right_on=['GVKEY2', 'y'])\n",
    "customer = customer.merge(customer_sale_t, how='left', left_on=['firm_gvkey', 'year'], right_on=['GVKEY1', 'y'])\n",
    "supplier['sale_r'] = supplier['sale_cs'] / supplier['sale_t']\n",
    "customer['sale_r'] = supplier['sale_cs'] / supplier['sale_t']\n",
    "supplier = supplier.drop(['GVKEY2', 'y'], axis=1)\n",
    "customer = customer.drop(['GVKEY1', 'y'], axis=1)"
   ],
   "metadata": {
    "collapsed": false
   }
  },
  {
   "cell_type": "code",
   "execution_count": 10,
   "outputs": [],
   "source": [
    "supplier['supplier_pol_weighted'] = supplier['supplier_pol'] * supplier['sale_r']\n",
    "supplier['supplier_covid_weighted'] = supplier['supplier_covid'] * supplier['sale_r']\n",
    "supplier['supplier_cc_weighted'] = supplier['supplier_cc'] * supplier['sale_r']\n",
    "customer['customer_pol_weighted'] = customer['customer_pol'] * customer['sale_r']\n",
    "customer['customer_covid_weighted'] = customer['customer_covid'] * customer['sale_r']\n",
    "customer['customer_cc_weighted'] = customer['customer_cc'] * customer['sale_r']"
   ],
   "metadata": {
    "collapsed": false
   }
  },
  {
   "cell_type": "code",
   "execution_count": 13,
   "outputs": [],
   "source": [
    "supplier = supplier.dropna(subset=['firm_pol', 'firm_covid', 'firm_cc'])\n",
    "customer = customer.dropna(subset=['firm_pol', 'firm_covid', 'firm_cc'])\n",
    "supplier['larger_supplier_pol'] = np.where(supplier['supplier_pol'] > supplier['firm_pol'], 1, 0)\n",
    "supplier['larger_supplier_covid'] = np.where(supplier['supplier_covid'] > supplier['firm_covid'], 1, 0)\n",
    "supplier['larger_supplier_cc'] = np.where(supplier['supplier_cc'] > supplier['firm_cc'], 1, 0)\n",
    "customer['larger_customer_pol'] = np.where(customer['customer_pol'] > customer['firm_pol'], 1, 0)\n",
    "customer['larger_customer_covid'] = np.where(customer['customer_covid'] > customer['firm_covid'], 1, 0)\n",
    "customer['larger_customer_cc'] = np.where(customer['customer_cc'] > customer['firm_cc'], 1, 0)"
   ],
   "metadata": {
    "collapsed": false
   }
  },
  {
   "cell_type": "code",
   "execution_count": null,
   "outputs": [],
   "source": [
    "larger_supplier_pol_prop = pd.DataFrame()\n",
    "larger_supplier_pol_prop['prop'] = supplier.groupby(['year', 'quarter']).apply(lambda x: x.loc[x['larger_supplier_pol'] == 1, 'firm_gvkey'].nunique() / x['firm_gvkey'].nunique())\n",
    "larger_supplier_pol_prop['firm_count'] = supplier.groupby(['year', 'quarter'])['firm_gvkey'].nunique()\n",
    "larger_supplier_covid_prop = pd.DataFrame()\n",
    "larger_supplier_covid_prop['prop'] = supplier.groupby(['year', 'quarter']).apply(lambda x: x.loc[x['larger_supplier_covid'] == 1, 'firm_gvkey'].nunique() / x['firm_gvkey'].nunique())\n",
    "larger_supplier_covid_prop['firm_count'] = supplier.groupby(['year', 'quarter'])['firm_gvkey'].nunique()\n",
    "larger_supplier_cc_prop = pd.DataFrame()\n",
    "larger_supplier_cc_prop['prop'] = supplier.groupby(['year', 'quarter']).apply(lambda x: x.loc[x['larger_supplier_cc'] == 1, 'firm_gvkey'].nunique() / x['firm_gvkey'].nunique())\n",
    "larger_supplier_cc_prop['firm_count'] = supplier.groupby(['year', 'quarter'])['firm_gvkey'].nunique()\n",
    "larger_customer_pol_prop = pd.DataFrame()\n",
    "larger_customer_pol_prop['prop'] = customer.groupby(['year', 'quarter']).apply(lambda x: x.loc[x['larger_customer_pol'] == 1, 'firm_gvkey'].nunique() / x['firm_gvkey'].nunique())\n",
    "larger_customer_pol_prop['firm_count'] = customer.groupby(['year', 'quarter'])['firm_gvkey'].nunique()\n",
    "larger_customer_covid_prop = pd.DataFrame()\n",
    "larger_customer_covid_prop['prop'] = customer.groupby(['year', 'quarter']).apply(lambda x: x.loc[x['larger_customer_covid'] == 1, 'firm_gvkey'].nunique() / x['firm_gvkey'].nunique())\n",
    "larger_customer_covid_prop['firm_count'] = customer.groupby(['year', 'quarter'])['firm_gvkey'].nunique()\n",
    "larger_customer_cc_prop = pd.DataFrame()\n",
    "larger_customer_cc_prop['prop'] = customer.groupby(['year', 'quarter']).apply(lambda x: x.loc[x['larger_customer_cc'] == 1, 'firm_gvkey'].nunique() / x['firm_gvkey'].nunique())\n",
    "larger_customer_cc_prop['firm_count'] = customer.groupby(['year', 'quarter'])['firm_gvkey'].nunique()"
   ],
   "metadata": {
    "collapsed": false
   }
  },
  {
   "cell_type": "code",
   "execution_count": 33,
   "outputs": [],
   "source": [
    "supplier['larger_supplier_pol_w'] = np.where(supplier['supplier_pol_weighted'] > supplier['firm_pol'], 1, 0)\n",
    "supplier['larger_supplier_covid_w'] = np.where(supplier['supplier_covid_weighted'] > supplier['firm_covid'], 1, 0)\n",
    "supplier['larger_supplier_cc_w'] = np.where(supplier['supplier_cc_weighted'] > supplier['firm_cc'], 1, 0)\n",
    "customer['larger_customer_pol_w'] = np.where(customer['customer_pol_weighted'] > customer['firm_pol'], 1, 0)\n",
    "customer['larger_customer_covid_w'] = np.where(customer['customer_covid_weighted'] > customer['firm_covid'], 1, 0)\n",
    "customer['larger_customer_cc_w'] = np.where(customer['customer_cc_weighted'] > customer['firm_cc'], 1, 0)"
   ],
   "metadata": {
    "collapsed": false
   }
  },
  {
   "cell_type": "code",
   "execution_count": 34,
   "outputs": [],
   "source": [
    "larger_supplier_pol_prop_w = pd.DataFrame()\n",
    "larger_supplier_pol_prop_w['prop'] = supplier.groupby(['year', 'quarter']).apply(lambda x: x.loc[x['larger_supplier_pol_w'] == 1, 'firm_gvkey'].nunique() / x['firm_gvkey'].nunique())\n",
    "larger_supplier_pol_prop_w['firm_count'] = supplier.groupby(['year', 'quarter'])['firm_gvkey'].nunique()\n",
    "larger_supplier_covid_prop_w = pd.DataFrame()\n",
    "larger_supplier_covid_prop_w['prop'] = supplier.groupby(['year', 'quarter']).apply(lambda x: x.loc[x['larger_supplier_covid_w'] == 1, 'firm_gvkey'].nunique() / x['firm_gvkey'].nunique())\n",
    "larger_supplier_covid_prop_w['firm_count'] = supplier.groupby(['year', 'quarter'])['firm_gvkey'].nunique()\n",
    "larger_supplier_cc_prop_w = pd.DataFrame()\n",
    "larger_supplier_cc_prop_w['prop'] = supplier.groupby(['year', 'quarter']).apply(lambda x: x.loc[x['larger_supplier_cc_w'] == 1, 'firm_gvkey'].nunique() / x['firm_gvkey'].nunique())\n",
    "larger_supplier_cc_prop_w['firm_count'] = supplier.groupby(['year', 'quarter'])['firm_gvkey'].nunique()\n",
    "larger_customer_pol_prop_w = pd.DataFrame()\n",
    "larger_customer_pol_prop_w['prop'] = customer.groupby(['year', 'quarter']).apply(lambda x: x.loc[x['larger_customer_pol_w'] == 1, 'firm_gvkey'].nunique() / x['firm_gvkey'].nunique())\n",
    "larger_customer_pol_prop_w['firm_count'] = customer.groupby(['year', 'quarter'])['firm_gvkey'].nunique()\n",
    "larger_customer_covid_prop_w = pd.DataFrame()\n",
    "larger_customer_covid_prop_w['prop'] = customer.groupby(['year', 'quarter']).apply(lambda x: x.loc[x['larger_customer_covid_w'] == 1, 'firm_gvkey'].nunique() / x['firm_gvkey'].nunique())\n",
    "larger_customer_covid_prop_w['firm_count'] = customer.groupby(['year', 'quarter'])['firm_gvkey'].nunique()\n",
    "larger_customer_cc_prop_w = pd.DataFrame()\n",
    "larger_customer_cc_prop_w['prop'] = customer.groupby(['year', 'quarter']).apply(lambda x: x.loc[x['larger_customer_cc_w'] == 1, 'firm_gvkey'].nunique() / x['firm_gvkey'].nunique())\n",
    "larger_customer_cc_prop_w['firm_count'] = customer.groupby(['year', 'quarter'])['firm_gvkey'].nunique()"
   ],
   "metadata": {
    "collapsed": false
   }
  },
  {
   "cell_type": "code",
   "execution_count": 38,
   "outputs": [
    {
     "name": "stderr",
     "output_type": "stream",
     "text": [
      "C:\\Users\\Silas Liew\\AppData\\Local\\Temp\\ipykernel_29072\\550151989.py:8: FutureWarning: save is not part of the public API, usage can give unexpected results and will be removed in a future version\n",
      "  wr.save()\n"
     ]
    }
   ],
   "source": [
    "wr = pd.ExcelWriter('./transcripts/scores/props_w.xlsx')\n",
    "larger_customer_pol_prop_w.to_excel(wr, sheet_name='larger_customer_pol_prop_w')\n",
    "larger_customer_covid_prop_w.to_excel(wr, sheet_name='larger_customer_covid_prop_w')\n",
    "larger_customer_cc_prop_w.to_excel(wr, sheet_name='larger_customer_cc_prop_w')\n",
    "larger_supplier_pol_prop_w.to_excel(wr, sheet_name='larger_supplier_pol_prop_w')\n",
    "larger_supplier_covid_prop_w.to_excel(wr, sheet_name='larger_supplier_covid_prop_w')\n",
    "larger_supplier_cc_prop_w.to_excel(wr, sheet_name='larger_supplier_cc_prop_w')\n",
    "wr.save()"
   ],
   "metadata": {
    "collapsed": false
   }
  },
  {
   "cell_type": "code",
   "execution_count": 15,
   "outputs": [],
   "source": [
    "firm = pd.concat([supplier[['firm_gvkey', 'year', 'quarter', 'firm_pol', 'firm_covid', 'firm_cc']], customer[['firm_gvkey', 'year', 'quarter', 'firm_pol', 'firm_covid', 'firm_cc']]]).drop_duplicates()\n",
    "firm = firm.merge(supplier[['firm_gvkey', 'year', 'quarter', 'supplier_gvkey', 'supplier_pol_weighted', 'supplier_covid_weighted', 'supplier_cc_weighted']],\n",
    "                  how='left',\n",
    "                  on=['firm_gvkey', 'year', 'quarter'])\n",
    "firm = firm.merge(customer[['firm_gvkey', 'year', 'quarter', 'customer_gvkey', 'customer_pol_weighted', 'customer_covid_weighted', 'customer_cc_weighted']],\n",
    "                  how='left',\n",
    "                  on=['firm_gvkey', 'year', 'quarter'])\n",
    "# firm = firm.fillna(0)\n",
    "firm['sc_pol'] = firm['firm_pol'] + firm['supplier_pol_weighted'] + firm['customer_pol_weighted']\n",
    "firm['sc_covid'] = firm['firm_covid'] + firm['supplier_covid_weighted'] + firm['customer_covid_weighted']\n",
    "firm['sc_cc'] = firm['firm_cc'] + firm['supplier_cc_weighted'] + firm['customer_cc_weighted']\n",
    "firm = firm.drop_duplicates()"
   ],
   "metadata": {
    "collapsed": false
   }
  },
  {
   "cell_type": "code",
   "execution_count": 16,
   "outputs": [],
   "source": [
    "supplier.to_csv('./transcripts/scores/supplier.csv', index=False)\n",
    "customer.to_csv('./transcripts/scores/customer.csv', index=False)\n",
    "firm.to_csv('./transcripts/scores/firm.csv', index=False)"
   ],
   "metadata": {
    "collapsed": false
   }
  },
  {
   "cell_type": "code",
   "execution_count": 2,
   "outputs": [],
   "source": [
    "supplier = pd.read_csv('./transcripts/scores/supplier.csv')\n",
    "customer = pd.read_csv('./transcripts/scores/customer.csv')"
   ],
   "metadata": {
    "collapsed": false
   }
  },
  {
   "cell_type": "code",
   "execution_count": 10,
   "outputs": [],
   "source": [
    "supplier = supplier.dropna()\n",
    "equal_weighted_first_degree_supplier_score = pd.DataFrame()\n",
    "equal_weighted_first_degree_supplier_score['ewfdsc_pol'] = supplier.groupby(['firm_gvkey', 'year', 'quarter'])['supplier_pol'].mean()\n",
    "equal_weighted_first_degree_supplier_score['ewfdsc_covid'] = supplier.groupby(['firm_gvkey', 'year', 'quarter'])['supplier_covid'].mean()\n",
    "equal_weighted_first_degree_supplier_score['ewfdsc_cc'] = supplier.groupby(['firm_gvkey', 'year', 'quarter'])['supplier_cc'].mean()\n",
    "equal_weighted_first_degree_supplier_score = equal_weighted_first_degree_supplier_score.reset_index()\n",
    "customer = customer.dropna()\n",
    "equal_weighted_first_degree_customer_score = pd.DataFrame()\n",
    "equal_weighted_first_degree_customer_score['ewfdcc_pol'] = customer.groupby(['firm_gvkey', 'year', 'quarter'])['customer_pol'].mean()\n",
    "equal_weighted_first_degree_customer_score['ewfdcc_covid'] = customer.groupby(['firm_gvkey', 'year', 'quarter'])['customer_covid'].mean()\n",
    "equal_weighted_first_degree_customer_score['ewfdcc_cc'] = customer.groupby(['firm_gvkey', 'year', 'quarter'])['customer_cc'].mean()\n",
    "equal_weighted_first_degree_customer_score = equal_weighted_first_degree_customer_score.reset_index()"
   ],
   "metadata": {
    "collapsed": false
   }
  },
  {
   "cell_type": "code",
   "execution_count": 28,
   "outputs": [],
   "source": [
    "equal_weighted_second_degree_supplier_score = supplier[['firm_gvkey', 'supplier_gvkey', 'year', 'quarter']]\n",
    "equal_weighted_second_degree_supplier_score = equal_weighted_second_degree_supplier_score.merge(equal_weighted_first_degree_supplier_score,\n",
    "                                                  left_on=['supplier_gvkey', 'year', 'quarter'],\n",
    "                                                  right_on=['firm_gvkey', 'year', 'quarter'],\n",
    "                                                  how='left')\n",
    "equal_weighted_second_degree_supplier_score.drop(['firm_gvkey_y', 'supplier_gvkey'], axis=1, inplace=True)\n",
    "equal_weighted_second_degree_supplier_score.dropna(inplace=True)\n",
    "equal_weighted_second_degree_supplier_score.rename({'firm_gvkey_x': 'firm_gvkey',\n",
    "                                                    'ewfdsc_pol': 'ewsdsc_pol',\n",
    "                                                    'ewfdsc_covid': 'ewsdsc_covid',\n",
    "                                                    'ewfdsc_cc': 'ewsdsc_cc'},\n",
    "                                                   axis='columns',\n",
    "                                                   inplace=True)\n",
    "equal_weighted_second_degree_customer_score = customer[['firm_gvkey', 'customer_gvkey', 'year', 'quarter']]\n",
    "equal_weighted_second_degree_customer_score = equal_weighted_second_degree_customer_score.merge(equal_weighted_first_degree_customer_score,\n",
    "                                                                                                left_on=['customer_gvkey', 'year', 'quarter'],\n",
    "                                                                                                right_on=['firm_gvkey', 'year', 'quarter'],\n",
    "                                                                                                how='left')\n",
    "equal_weighted_second_degree_customer_score.drop(['firm_gvkey_y', 'customer_gvkey'], axis=1, inplace=True)\n",
    "equal_weighted_second_degree_customer_score.dropna(inplace=True)\n",
    "equal_weighted_second_degree_customer_score.rename({'firm_gvkey_x': 'firm_gvkey',\n",
    "                                                    'ewfdcc_pol': 'ewsdcc_pol',\n",
    "                                                    'ewfdcc_covid': 'ewsdcc_covid',\n",
    "                                                    'ewfdcc_cc': 'ewsdcc_cc'},\n",
    "                                                   axis='columns',\n",
    "                                                   inplace=True)"
   ],
   "metadata": {
    "collapsed": false
   }
  },
  {
   "cell_type": "code",
   "execution_count": 45,
   "outputs": [],
   "source": [
    "value_weighted_first_degree_supplier_score = pd.DataFrame()\n",
    "value_weighted_first_degree_supplier_score['vwfdsc_pol'] = supplier.groupby(['firm_gvkey', 'year', 'quarter'])['supplier_pol_weighted'].sum()\n",
    "value_weighted_first_degree_supplier_score['vwfdsc_covid'] = supplier.groupby(['firm_gvkey', 'year', 'quarter'])['supplier_covid_weighted'].sum()\n",
    "value_weighted_first_degree_supplier_score['vwfdsc_cc'] = supplier.groupby(['firm_gvkey', 'year', 'quarter'])['supplier_cc_weighted'].sum()\n",
    "value_weighted_first_degree_supplier_score = value_weighted_first_degree_supplier_score.reset_index()\n",
    "value_weighted_first_degree_customer_score = pd.DataFrame()\n",
    "value_weighted_first_degree_customer_score['vwfdcc_pol'] = customer.groupby(['firm_gvkey', 'year', 'quarter'])['customer_pol_weighted'].sum()\n",
    "value_weighted_first_degree_customer_score['vwfdcc_covid'] = customer.groupby(['firm_gvkey', 'year', 'quarter'])['customer_covid_weighted'].sum()\n",
    "value_weighted_first_degree_customer_score['vwfdcc_cc'] = customer.groupby(['firm_gvkey', 'year', 'quarter'])['customer_cc_weighted'].sum()\n",
    "value_weighted_first_degree_customer_score = value_weighted_first_degree_customer_score.reset_index()"
   ],
   "metadata": {
    "collapsed": false
   }
  },
  {
   "cell_type": "code",
   "execution_count": 47,
   "outputs": [],
   "source": [
    "value_weighted_second_degree_supplier_score = supplier[['firm_gvkey', 'supplier_gvkey', 'year', 'quarter']]\n",
    "value_weighted_second_degree_supplier_score = value_weighted_second_degree_supplier_score.merge(value_weighted_first_degree_supplier_score,\n",
    "                                                                                                left_on=['supplier_gvkey', 'year', 'quarter'],\n",
    "                                                                                                right_on=['firm_gvkey', 'year', 'quarter'],\n",
    "                                                                                                how='left')\n",
    "value_weighted_second_degree_supplier_score.drop(['firm_gvkey_y', 'supplier_gvkey'], axis=1, inplace=True)\n",
    "value_weighted_second_degree_supplier_score.dropna(inplace=True)\n",
    "value_weighted_second_degree_supplier_score.rename({'firm_gvkey_x': 'firm_gvkey',\n",
    "                                                    'vwfdsc_pol': 'vwsdsc_pol',\n",
    "                                                    'vwfdsc_covid': 'vwsdsc_covid',\n",
    "                                                    'vwfdsc_cc': 'vwsdsc_cc'},\n",
    "                                                   axis='columns',\n",
    "                                                   inplace=True)\n",
    "value_weighted_second_degree_customer_score = customer[['firm_gvkey', 'customer_gvkey', 'year', 'quarter']]\n",
    "value_weighted_second_degree_customer_score = value_weighted_second_degree_customer_score.merge(value_weighted_first_degree_customer_score,\n",
    "                                                                                                left_on=['customer_gvkey', 'year', 'quarter'],\n",
    "                                                                                                right_on=['firm_gvkey', 'year', 'quarter'],\n",
    "                                                                                                how='left')\n",
    "value_weighted_second_degree_customer_score.drop(['firm_gvkey_y', 'customer_gvkey'], axis=1, inplace=True)\n",
    "value_weighted_second_degree_customer_score.dropna(inplace=True)\n",
    "value_weighted_second_degree_customer_score.rename({'firm_gvkey_x': 'firm_gvkey',\n",
    "                                                    'vwfdcc_pol': 'vwsdcc_pol',\n",
    "                                                    'vwfdcc_covid': 'vwsdcc_covid',\n",
    "                                                    'vwfdcc_cc': 'vwsdcc_cc'},\n",
    "                                                   axis='columns',\n",
    "                                                   inplace=True)"
   ],
   "metadata": {
    "collapsed": false
   }
  },
  {
   "cell_type": "code",
   "execution_count": 48,
   "outputs": [],
   "source": [
    "firm = pd.concat([supplier[['firm_gvkey', 'year', 'quarter', 'firm_pol', 'firm_covid', 'firm_cc']], customer[['firm_gvkey', 'year', 'quarter', 'firm_pol', 'firm_covid', 'firm_cc']]]).drop_duplicates()\n",
    "firm = firm.merge(equal_weighted_first_degree_supplier_score,\n",
    "                  on=['firm_gvkey', 'year', 'quarter'],\n",
    "                  how='left')\n",
    "firm = firm.drop_duplicates()\n",
    "firm = firm.merge(equal_weighted_first_degree_customer_score,\n",
    "                  on=['firm_gvkey', 'year', 'quarter'],\n",
    "                  how='left')\n",
    "firm = firm.drop_duplicates()\n",
    "firm = firm.merge(equal_weighted_second_degree_supplier_score,\n",
    "                  on=['firm_gvkey', 'year', 'quarter'],\n",
    "                  how='left')\n",
    "firm = firm.drop_duplicates()\n",
    "firm = firm.merge(equal_weighted_second_degree_customer_score,\n",
    "                  on=['firm_gvkey', 'year', 'quarter'],\n",
    "                  how='left')\n",
    "firm = firm.drop_duplicates()\n",
    "firm = firm.merge(value_weighted_first_degree_supplier_score,\n",
    "                  on=['firm_gvkey', 'year', 'quarter'],\n",
    "                  how='left')\n",
    "firm = firm.drop_duplicates()\n",
    "firm = firm.merge(value_weighted_first_degree_customer_score,\n",
    "                  on=['firm_gvkey', 'year', 'quarter'],\n",
    "                  how='left')\n",
    "firm = firm.drop_duplicates()\n",
    "firm = firm.merge(value_weighted_second_degree_supplier_score,\n",
    "                  on=['firm_gvkey', 'year', 'quarter'],\n",
    "                  how='left')\n",
    "firm = firm.drop_duplicates()\n",
    "firm = firm.merge(value_weighted_second_degree_customer_score,\n",
    "                  on=['firm_gvkey', 'year', 'quarter'],\n",
    "                  how='left')\n",
    "firm = firm.drop_duplicates()"
   ],
   "metadata": {
    "collapsed": false
   }
  },
  {
   "cell_type": "code",
   "execution_count": 49,
   "outputs": [],
   "source": [
    "firm.to_csv('./firm.csv')"
   ],
   "metadata": {
    "collapsed": false
   }
  },
  {
   "cell_type": "code",
   "execution_count": 50,
   "outputs": [
    {
     "data": {
      "text/plain": "       firm_gvkey  year  quarter   firm_pol  firm_covid   firm_cc  ewfdsc_pol  \\\n319       31673.0  2006        1  87.762067    0.000000  0.000000   82.766571   \n320       31673.0  2006        1  87.762067    0.000000  0.000000   82.766571   \n321       31673.0  2006        1  87.762067    0.000000  0.000000   82.766571   \n322       31673.0  2006        1  87.762067    0.000000  0.000000   82.766571   \n323       31673.0  2006        1  87.762067    0.000000  0.000000   82.766571   \n...           ...   ...      ...        ...         ...       ...         ...   \n32265     23812.0  2021        4  88.251517    2.325866  0.000276   57.174054   \n32422     24344.0  2021        1  46.019328    0.755668  0.000684  152.916333   \n32423     24344.0  2021        2  36.630037    0.000000  0.001486   49.546999   \n32424     24344.0  2021        3  68.524440    0.000000  0.000333   76.148574   \n32425     24344.0  2021        4  63.211125    0.000000  0.000298  318.881878   \n\n       ewfdsc_covid  ewfdsc_cc  ewfdcc_pol  ...  vwfdsc_cc  vwfdcc_pol  \\\n319        0.000000   0.000122   23.546032  ...   0.000018   23.546032   \n320        0.000000   0.000122   23.546032  ...   0.000018   23.546032   \n321        0.000000   0.000122   23.546032  ...   0.000018   23.546032   \n322        0.000000   0.000122   23.546032  ...   0.000018   23.546032   \n323        0.000000   0.000122   23.546032  ...   0.000018   23.546032   \n...             ...        ...         ...  ...        ...         ...   \n32265      0.000000   0.000000   39.413832  ...   0.000000    8.993765   \n32422      4.069410   0.000424   74.264352  ...   0.000012    2.827662   \n32423      3.195935   0.000846   95.047999  ...   0.000023    2.398985   \n32424      3.518339   0.001359   27.852440  ...   0.000037    0.792874   \n32425      4.172356   0.000428   71.267371  ...   0.000012    1.798769   \n\n       vwfdcc_covid  vwfdcc_cc  vwsdsc_pol  vwsdsc_covid  vwsdsc_cc  \\\n319        0.000000   0.000000   88.224179      0.000000   0.000138   \n320        0.000000   0.000000  116.171976      0.000000   0.000000   \n321        0.000000   0.000000   60.775156      0.000000   0.000011   \n322        0.000000   0.000000   41.453537      0.000000   0.000083   \n323        0.000000   0.000000   57.094605      0.000000   0.000000   \n...             ...        ...         ...           ...        ...   \n32265      1.640187   0.001774   23.551452      0.344081   0.000503   \n32422      0.228850   0.000024  115.148414      1.940671   0.000000   \n32423      0.174226   0.000018   95.158796      0.127129   0.000335   \n32424      0.126336   0.000042   61.387354      0.917672   0.000367   \n32425      0.096790   0.000000   21.310602      0.228964   0.000000   \n\n       vwsdcc_pol  vwsdcc_covid  vwsdcc_cc  \n319    122.934025      0.000000   0.000000  \n320    122.934025      0.000000   0.000000  \n321    122.934025      0.000000   0.000000  \n322    122.934025      0.000000   0.000000  \n323    122.934025      0.000000   0.000000  \n...           ...           ...        ...  \n32265   13.484216      3.161086   0.000000  \n32422   12.068862      1.774398   0.000166  \n32423   38.729513      1.082551   0.000000  \n32424   24.170077      1.625366   0.000319  \n32425   13.484216      3.161086   0.000000  \n\n[3099 rows x 30 columns]",
      "text/html": "<div>\n<style scoped>\n    .dataframe tbody tr th:only-of-type {\n        vertical-align: middle;\n    }\n\n    .dataframe tbody tr th {\n        vertical-align: top;\n    }\n\n    .dataframe thead th {\n        text-align: right;\n    }\n</style>\n<table border=\"1\" class=\"dataframe\">\n  <thead>\n    <tr style=\"text-align: right;\">\n      <th></th>\n      <th>firm_gvkey</th>\n      <th>year</th>\n      <th>quarter</th>\n      <th>firm_pol</th>\n      <th>firm_covid</th>\n      <th>firm_cc</th>\n      <th>ewfdsc_pol</th>\n      <th>ewfdsc_covid</th>\n      <th>ewfdsc_cc</th>\n      <th>ewfdcc_pol</th>\n      <th>...</th>\n      <th>vwfdsc_cc</th>\n      <th>vwfdcc_pol</th>\n      <th>vwfdcc_covid</th>\n      <th>vwfdcc_cc</th>\n      <th>vwsdsc_pol</th>\n      <th>vwsdsc_covid</th>\n      <th>vwsdsc_cc</th>\n      <th>vwsdcc_pol</th>\n      <th>vwsdcc_covid</th>\n      <th>vwsdcc_cc</th>\n    </tr>\n  </thead>\n  <tbody>\n    <tr>\n      <th>319</th>\n      <td>31673.0</td>\n      <td>2006</td>\n      <td>1</td>\n      <td>87.762067</td>\n      <td>0.000000</td>\n      <td>0.000000</td>\n      <td>82.766571</td>\n      <td>0.000000</td>\n      <td>0.000122</td>\n      <td>23.546032</td>\n      <td>...</td>\n      <td>0.000018</td>\n      <td>23.546032</td>\n      <td>0.000000</td>\n      <td>0.000000</td>\n      <td>88.224179</td>\n      <td>0.000000</td>\n      <td>0.000138</td>\n      <td>122.934025</td>\n      <td>0.000000</td>\n      <td>0.000000</td>\n    </tr>\n    <tr>\n      <th>320</th>\n      <td>31673.0</td>\n      <td>2006</td>\n      <td>1</td>\n      <td>87.762067</td>\n      <td>0.000000</td>\n      <td>0.000000</td>\n      <td>82.766571</td>\n      <td>0.000000</td>\n      <td>0.000122</td>\n      <td>23.546032</td>\n      <td>...</td>\n      <td>0.000018</td>\n      <td>23.546032</td>\n      <td>0.000000</td>\n      <td>0.000000</td>\n      <td>116.171976</td>\n      <td>0.000000</td>\n      <td>0.000000</td>\n      <td>122.934025</td>\n      <td>0.000000</td>\n      <td>0.000000</td>\n    </tr>\n    <tr>\n      <th>321</th>\n      <td>31673.0</td>\n      <td>2006</td>\n      <td>1</td>\n      <td>87.762067</td>\n      <td>0.000000</td>\n      <td>0.000000</td>\n      <td>82.766571</td>\n      <td>0.000000</td>\n      <td>0.000122</td>\n      <td>23.546032</td>\n      <td>...</td>\n      <td>0.000018</td>\n      <td>23.546032</td>\n      <td>0.000000</td>\n      <td>0.000000</td>\n      <td>60.775156</td>\n      <td>0.000000</td>\n      <td>0.000011</td>\n      <td>122.934025</td>\n      <td>0.000000</td>\n      <td>0.000000</td>\n    </tr>\n    <tr>\n      <th>322</th>\n      <td>31673.0</td>\n      <td>2006</td>\n      <td>1</td>\n      <td>87.762067</td>\n      <td>0.000000</td>\n      <td>0.000000</td>\n      <td>82.766571</td>\n      <td>0.000000</td>\n      <td>0.000122</td>\n      <td>23.546032</td>\n      <td>...</td>\n      <td>0.000018</td>\n      <td>23.546032</td>\n      <td>0.000000</td>\n      <td>0.000000</td>\n      <td>41.453537</td>\n      <td>0.000000</td>\n      <td>0.000083</td>\n      <td>122.934025</td>\n      <td>0.000000</td>\n      <td>0.000000</td>\n    </tr>\n    <tr>\n      <th>323</th>\n      <td>31673.0</td>\n      <td>2006</td>\n      <td>1</td>\n      <td>87.762067</td>\n      <td>0.000000</td>\n      <td>0.000000</td>\n      <td>82.766571</td>\n      <td>0.000000</td>\n      <td>0.000122</td>\n      <td>23.546032</td>\n      <td>...</td>\n      <td>0.000018</td>\n      <td>23.546032</td>\n      <td>0.000000</td>\n      <td>0.000000</td>\n      <td>57.094605</td>\n      <td>0.000000</td>\n      <td>0.000000</td>\n      <td>122.934025</td>\n      <td>0.000000</td>\n      <td>0.000000</td>\n    </tr>\n    <tr>\n      <th>...</th>\n      <td>...</td>\n      <td>...</td>\n      <td>...</td>\n      <td>...</td>\n      <td>...</td>\n      <td>...</td>\n      <td>...</td>\n      <td>...</td>\n      <td>...</td>\n      <td>...</td>\n      <td>...</td>\n      <td>...</td>\n      <td>...</td>\n      <td>...</td>\n      <td>...</td>\n      <td>...</td>\n      <td>...</td>\n      <td>...</td>\n      <td>...</td>\n      <td>...</td>\n      <td>...</td>\n    </tr>\n    <tr>\n      <th>32265</th>\n      <td>23812.0</td>\n      <td>2021</td>\n      <td>4</td>\n      <td>88.251517</td>\n      <td>2.325866</td>\n      <td>0.000276</td>\n      <td>57.174054</td>\n      <td>0.000000</td>\n      <td>0.000000</td>\n      <td>39.413832</td>\n      <td>...</td>\n      <td>0.000000</td>\n      <td>8.993765</td>\n      <td>1.640187</td>\n      <td>0.001774</td>\n      <td>23.551452</td>\n      <td>0.344081</td>\n      <td>0.000503</td>\n      <td>13.484216</td>\n      <td>3.161086</td>\n      <td>0.000000</td>\n    </tr>\n    <tr>\n      <th>32422</th>\n      <td>24344.0</td>\n      <td>2021</td>\n      <td>1</td>\n      <td>46.019328</td>\n      <td>0.755668</td>\n      <td>0.000684</td>\n      <td>152.916333</td>\n      <td>4.069410</td>\n      <td>0.000424</td>\n      <td>74.264352</td>\n      <td>...</td>\n      <td>0.000012</td>\n      <td>2.827662</td>\n      <td>0.228850</td>\n      <td>0.000024</td>\n      <td>115.148414</td>\n      <td>1.940671</td>\n      <td>0.000000</td>\n      <td>12.068862</td>\n      <td>1.774398</td>\n      <td>0.000166</td>\n    </tr>\n    <tr>\n      <th>32423</th>\n      <td>24344.0</td>\n      <td>2021</td>\n      <td>2</td>\n      <td>36.630037</td>\n      <td>0.000000</td>\n      <td>0.001486</td>\n      <td>49.546999</td>\n      <td>3.195935</td>\n      <td>0.000846</td>\n      <td>95.047999</td>\n      <td>...</td>\n      <td>0.000023</td>\n      <td>2.398985</td>\n      <td>0.174226</td>\n      <td>0.000018</td>\n      <td>95.158796</td>\n      <td>0.127129</td>\n      <td>0.000335</td>\n      <td>38.729513</td>\n      <td>1.082551</td>\n      <td>0.000000</td>\n    </tr>\n    <tr>\n      <th>32424</th>\n      <td>24344.0</td>\n      <td>2021</td>\n      <td>3</td>\n      <td>68.524440</td>\n      <td>0.000000</td>\n      <td>0.000333</td>\n      <td>76.148574</td>\n      <td>3.518339</td>\n      <td>0.001359</td>\n      <td>27.852440</td>\n      <td>...</td>\n      <td>0.000037</td>\n      <td>0.792874</td>\n      <td>0.126336</td>\n      <td>0.000042</td>\n      <td>61.387354</td>\n      <td>0.917672</td>\n      <td>0.000367</td>\n      <td>24.170077</td>\n      <td>1.625366</td>\n      <td>0.000319</td>\n    </tr>\n    <tr>\n      <th>32425</th>\n      <td>24344.0</td>\n      <td>2021</td>\n      <td>4</td>\n      <td>63.211125</td>\n      <td>0.000000</td>\n      <td>0.000298</td>\n      <td>318.881878</td>\n      <td>4.172356</td>\n      <td>0.000428</td>\n      <td>71.267371</td>\n      <td>...</td>\n      <td>0.000012</td>\n      <td>1.798769</td>\n      <td>0.096790</td>\n      <td>0.000000</td>\n      <td>21.310602</td>\n      <td>0.228964</td>\n      <td>0.000000</td>\n      <td>13.484216</td>\n      <td>3.161086</td>\n      <td>0.000000</td>\n    </tr>\n  </tbody>\n</table>\n<p>3099 rows × 30 columns</p>\n</div>"
     },
     "execution_count": 50,
     "metadata": {},
     "output_type": "execute_result"
    }
   ],
   "source": [
    "firm.dropna()"
   ],
   "metadata": {
    "collapsed": false
   }
  },
  {
   "cell_type": "code",
   "execution_count": 2,
   "outputs": [],
   "source": [
    "firm = pd.read_csv('./firm.csv')"
   ],
   "metadata": {
    "collapsed": false
   }
  },
  {
   "cell_type": "code",
   "execution_count": 8,
   "outputs": [
    {
     "data": {
      "text/plain": "538"
     },
     "execution_count": 8,
     "metadata": {},
     "output_type": "execute_result"
    }
   ],
   "source": [
    "firm.loc[(firm['vwfdsc_pol'].notna() | firm['vwfdcc_pol'].notna()) & (firm['vwsdcc_pol'].notna() | firm['vwsdsc_pol'].notna()), 'firm_gvkey'].nunique()"
   ],
   "metadata": {
    "collapsed": false
   }
  }
 ],
 "metadata": {
  "kernelspec": {
   "display_name": "Python 3",
   "language": "python",
   "name": "python3"
  },
  "language_info": {
   "codemirror_mode": {
    "name": "ipython",
    "version": 2
   },
   "file_extension": ".py",
   "mimetype": "text/x-python",
   "name": "python",
   "nbconvert_exporter": "python",
   "pygments_lexer": "ipython2",
   "version": "2.7.6"
  }
 },
 "nbformat": 4,
 "nbformat_minor": 0
}
